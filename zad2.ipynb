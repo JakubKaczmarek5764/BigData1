{
 "cells": [
  {
   "metadata": {},
   "cell_type": "markdown",
   "source": "## Import",
   "id": "f0409829a55384a2"
  },
  {
   "metadata": {
    "ExecuteTime": {
     "end_time": "2025-04-05T10:56:39.078350Z",
     "start_time": "2025-04-05T10:56:38.143912Z"
    }
   },
   "cell_type": "code",
   "source": [
    "from types import NoneType\n",
    "\n",
    "import pandas as pd\n",
    "\n",
    "df = pd.read_csv('covid_combined_data.csv')\n",
    "df['date_in_datetime'] = pd.to_datetime(df['date'])\n",
    "countries_df = pd.read_csv('countries_combined_data.csv')"
   ],
   "id": "bf7ffc262304ae53",
   "outputs": [],
   "execution_count": 170
  },
  {
   "metadata": {
    "ExecuteTime": {
     "end_time": "2025-04-05T10:56:39.100862Z",
     "start_time": "2025-04-05T10:56:39.089323Z"
    }
   },
   "cell_type": "code",
   "source": "df.head()",
   "id": "ac2c9f0a6e0eefaf",
   "outputs": [
    {
     "data": {
      "text/plain": [
       "  location_key subregion1_code_x subregion1_name_x        date  \\\n",
       "0         AT_6                 6            Styria  2021-11-06   \n",
       "1        IT_45                45    Emilia-Romagna  2022-01-12   \n",
       "2        IT_72                72          Campania  2022-01-07   \n",
       "3        PL_26                26    Swietokrzyskie  2021-07-28   \n",
       "4       GB_WLS               WLS             Wales  2021-03-31   \n",
       "\n",
       "   country_name_x  new_confirmed  cumulative_confirmed  new_tested  \\\n",
       "0         Austria            495                106873       41606   \n",
       "1           Italy          18631                730330       73593   \n",
       "2           Italy           9739                664276       57570   \n",
       "3          Poland              3                  2015        1263   \n",
       "4  United Kingdom            108                209741       14550   \n",
       "\n",
       "   cumulative_tested subregion1_code_y  ... subregion1_code subregion1_name  \\\n",
       "0           14032909                 6  ...               6          Styria   \n",
       "1           12303523                45  ...              45  Emilia-Romagna   \n",
       "2           10087492                72  ...              72        Campania   \n",
       "3               1289                26  ...              26  Swietokrzyskie   \n",
       "4            3046569               WLS  ...             WLS           Wales   \n",
       "\n",
       "     country_name  new_persons_vaccinated cumulative_persons_vaccinated  \\\n",
       "0         Austria                     372                        838196   \n",
       "1           Italy                    4206                       3561423   \n",
       "2           Italy                    8279                       4324794   \n",
       "3          Poland                    1276                        520177   \n",
       "4  United Kingdom                   16702                       1443885   \n",
       "\n",
       "  new_persons_fully_vaccinated cumulative_persons_fully_vaccinated  \\\n",
       "0                          132                              796304   \n",
       "1                         3438                             3321218   \n",
       "2                         6147                             3988437   \n",
       "3                         2164                              444460   \n",
       "4                        11601                              449538   \n",
       "\n",
       "   new_vaccine_doses_administered  cumulative_vaccine_doses_administered  \\\n",
       "0                             504                                1634500   \n",
       "1                           50387                                8932438   \n",
       "2                           76077                               10522164   \n",
       "3                            3440                                 964637   \n",
       "4                           28303                                1893423   \n",
       "\n",
       "   date_in_datetime  \n",
       "0        2021-11-06  \n",
       "1        2022-01-12  \n",
       "2        2022-01-07  \n",
       "3        2021-07-28  \n",
       "4        2021-03-31  \n",
       "\n",
       "[5 rows x 24 columns]"
      ],
      "text/html": [
       "<div>\n",
       "<style scoped>\n",
       "    .dataframe tbody tr th:only-of-type {\n",
       "        vertical-align: middle;\n",
       "    }\n",
       "\n",
       "    .dataframe tbody tr th {\n",
       "        vertical-align: top;\n",
       "    }\n",
       "\n",
       "    .dataframe thead th {\n",
       "        text-align: right;\n",
       "    }\n",
       "</style>\n",
       "<table border=\"1\" class=\"dataframe\">\n",
       "  <thead>\n",
       "    <tr style=\"text-align: right;\">\n",
       "      <th></th>\n",
       "      <th>location_key</th>\n",
       "      <th>subregion1_code_x</th>\n",
       "      <th>subregion1_name_x</th>\n",
       "      <th>date</th>\n",
       "      <th>country_name_x</th>\n",
       "      <th>new_confirmed</th>\n",
       "      <th>cumulative_confirmed</th>\n",
       "      <th>new_tested</th>\n",
       "      <th>cumulative_tested</th>\n",
       "      <th>subregion1_code_y</th>\n",
       "      <th>...</th>\n",
       "      <th>subregion1_code</th>\n",
       "      <th>subregion1_name</th>\n",
       "      <th>country_name</th>\n",
       "      <th>new_persons_vaccinated</th>\n",
       "      <th>cumulative_persons_vaccinated</th>\n",
       "      <th>new_persons_fully_vaccinated</th>\n",
       "      <th>cumulative_persons_fully_vaccinated</th>\n",
       "      <th>new_vaccine_doses_administered</th>\n",
       "      <th>cumulative_vaccine_doses_administered</th>\n",
       "      <th>date_in_datetime</th>\n",
       "    </tr>\n",
       "  </thead>\n",
       "  <tbody>\n",
       "    <tr>\n",
       "      <th>0</th>\n",
       "      <td>AT_6</td>\n",
       "      <td>6</td>\n",
       "      <td>Styria</td>\n",
       "      <td>2021-11-06</td>\n",
       "      <td>Austria</td>\n",
       "      <td>495</td>\n",
       "      <td>106873</td>\n",
       "      <td>41606</td>\n",
       "      <td>14032909</td>\n",
       "      <td>6</td>\n",
       "      <td>...</td>\n",
       "      <td>6</td>\n",
       "      <td>Styria</td>\n",
       "      <td>Austria</td>\n",
       "      <td>372</td>\n",
       "      <td>838196</td>\n",
       "      <td>132</td>\n",
       "      <td>796304</td>\n",
       "      <td>504</td>\n",
       "      <td>1634500</td>\n",
       "      <td>2021-11-06</td>\n",
       "    </tr>\n",
       "    <tr>\n",
       "      <th>1</th>\n",
       "      <td>IT_45</td>\n",
       "      <td>45</td>\n",
       "      <td>Emilia-Romagna</td>\n",
       "      <td>2022-01-12</td>\n",
       "      <td>Italy</td>\n",
       "      <td>18631</td>\n",
       "      <td>730330</td>\n",
       "      <td>73593</td>\n",
       "      <td>12303523</td>\n",
       "      <td>45</td>\n",
       "      <td>...</td>\n",
       "      <td>45</td>\n",
       "      <td>Emilia-Romagna</td>\n",
       "      <td>Italy</td>\n",
       "      <td>4206</td>\n",
       "      <td>3561423</td>\n",
       "      <td>3438</td>\n",
       "      <td>3321218</td>\n",
       "      <td>50387</td>\n",
       "      <td>8932438</td>\n",
       "      <td>2022-01-12</td>\n",
       "    </tr>\n",
       "    <tr>\n",
       "      <th>2</th>\n",
       "      <td>IT_72</td>\n",
       "      <td>72</td>\n",
       "      <td>Campania</td>\n",
       "      <td>2022-01-07</td>\n",
       "      <td>Italy</td>\n",
       "      <td>9739</td>\n",
       "      <td>664276</td>\n",
       "      <td>57570</td>\n",
       "      <td>10087492</td>\n",
       "      <td>72</td>\n",
       "      <td>...</td>\n",
       "      <td>72</td>\n",
       "      <td>Campania</td>\n",
       "      <td>Italy</td>\n",
       "      <td>8279</td>\n",
       "      <td>4324794</td>\n",
       "      <td>6147</td>\n",
       "      <td>3988437</td>\n",
       "      <td>76077</td>\n",
       "      <td>10522164</td>\n",
       "      <td>2022-01-07</td>\n",
       "    </tr>\n",
       "    <tr>\n",
       "      <th>3</th>\n",
       "      <td>PL_26</td>\n",
       "      <td>26</td>\n",
       "      <td>Swietokrzyskie</td>\n",
       "      <td>2021-07-28</td>\n",
       "      <td>Poland</td>\n",
       "      <td>3</td>\n",
       "      <td>2015</td>\n",
       "      <td>1263</td>\n",
       "      <td>1289</td>\n",
       "      <td>26</td>\n",
       "      <td>...</td>\n",
       "      <td>26</td>\n",
       "      <td>Swietokrzyskie</td>\n",
       "      <td>Poland</td>\n",
       "      <td>1276</td>\n",
       "      <td>520177</td>\n",
       "      <td>2164</td>\n",
       "      <td>444460</td>\n",
       "      <td>3440</td>\n",
       "      <td>964637</td>\n",
       "      <td>2021-07-28</td>\n",
       "    </tr>\n",
       "    <tr>\n",
       "      <th>4</th>\n",
       "      <td>GB_WLS</td>\n",
       "      <td>WLS</td>\n",
       "      <td>Wales</td>\n",
       "      <td>2021-03-31</td>\n",
       "      <td>United Kingdom</td>\n",
       "      <td>108</td>\n",
       "      <td>209741</td>\n",
       "      <td>14550</td>\n",
       "      <td>3046569</td>\n",
       "      <td>WLS</td>\n",
       "      <td>...</td>\n",
       "      <td>WLS</td>\n",
       "      <td>Wales</td>\n",
       "      <td>United Kingdom</td>\n",
       "      <td>16702</td>\n",
       "      <td>1443885</td>\n",
       "      <td>11601</td>\n",
       "      <td>449538</td>\n",
       "      <td>28303</td>\n",
       "      <td>1893423</td>\n",
       "      <td>2021-03-31</td>\n",
       "    </tr>\n",
       "  </tbody>\n",
       "</table>\n",
       "<p>5 rows × 24 columns</p>\n",
       "</div>"
      ]
     },
     "execution_count": 171,
     "metadata": {},
     "output_type": "execute_result"
    }
   ],
   "execution_count": 171
  },
  {
   "metadata": {
    "ExecuteTime": {
     "end_time": "2025-04-05T10:56:39.263431Z",
     "start_time": "2025-04-05T10:56:39.145771Z"
    }
   },
   "cell_type": "code",
   "source": [
    "df.describe()\n",
    "df['subregion1_code_x'].isna().sum()"
   ],
   "id": "cd3c0f03f716fa25",
   "outputs": [
    {
     "data": {
      "text/plain": [
       "np.int64(25420)"
      ]
     },
     "execution_count": 172,
     "metadata": {},
     "output_type": "execute_result"
    }
   ],
   "execution_count": 172
  },
  {
   "metadata": {
    "ExecuteTime": {
     "end_time": "2025-04-05T10:56:39.312997Z",
     "start_time": "2025-04-05T10:56:39.295688Z"
    }
   },
   "cell_type": "code",
   "source": "countries_df.head()",
   "id": "7f0cbc78887fa53f",
   "outputs": [
    {
     "data": {
      "text/plain": [
       "  location_key_x  subregion1_code_x  subregion1_name_x country_code  \\\n",
       "0             BD                NaN                NaN           BD   \n",
       "1             GA                NaN                NaN           GA   \n",
       "2             HR                NaN                NaN           HR   \n",
       "3             LK                NaN                NaN           LK   \n",
       "4            NaN                NaN                NaN          NaN   \n",
       "\n",
       "  country_name iso_3166_1_alpha_2 iso_3166_1_alpha_3  population  \\\n",
       "0   Bangladesh                 BD                BGD   164689383   \n",
       "1        Gabon                 GA                GAB     2225728   \n",
       "2      Croatia                 HR                HRV     4076246   \n",
       "3    Sri Lanka                 LK                LKA    21413250   \n",
       "4      Namibia                NaN                NAM     2540916   \n",
       "\n",
       "   population_male  population_female  ...      gdp_2007      gdp_2008  \\\n",
       "0         83259108           81430275  ...  7.961189e+10  9.163128e+10   \n",
       "1          1132854            1092874  ...  1.243896e+10  1.550857e+10   \n",
       "2          1972572            2103674  ...  6.009316e+10  7.048145e+10   \n",
       "3         10267351           11145899  ...  3.235025e+10  4.071381e+10   \n",
       "4          1231683            1309233  ...  8.740866e+09  8.486722e+09   \n",
       "\n",
       "       gdp_2009      gdp_2010      gdp_2011      gdp_2012      gdp_2013  \\\n",
       "0  1.024778e+11  1.152791e+11  1.286379e+11  1.333557e+11  1.499905e+11   \n",
       "1  1.206514e+10  1.435859e+10  1.818648e+10  1.717145e+10  1.759075e+10   \n",
       "2  6.270310e+10  5.966543e+10  6.223675e+10  5.648530e+10  5.776987e+10   \n",
       "3  4.206622e+10  5.672575e+10  6.529274e+10  6.843440e+10  7.431781e+10   \n",
       "4  8.876191e+09  1.128219e+10  1.240963e+10  1.301627e+10  1.271779e+10   \n",
       "\n",
       "       gdp_2014      gdp_2015      gdp_2016  \n",
       "0  1.728855e+11  1.950787e+11  2.214152e+11  \n",
       "1  1.817972e+10  1.426203e+10  1.421356e+10  \n",
       "2  5.708037e+10  4.892188e+10  5.071496e+10  \n",
       "3  7.935646e+10  8.061199e+10  8.132188e+10  \n",
       "4  1.278608e+10  1.157114e+10  1.094788e+10  \n",
       "\n",
       "[5 rows x 98 columns]"
      ],
      "text/html": [
       "<div>\n",
       "<style scoped>\n",
       "    .dataframe tbody tr th:only-of-type {\n",
       "        vertical-align: middle;\n",
       "    }\n",
       "\n",
       "    .dataframe tbody tr th {\n",
       "        vertical-align: top;\n",
       "    }\n",
       "\n",
       "    .dataframe thead th {\n",
       "        text-align: right;\n",
       "    }\n",
       "</style>\n",
       "<table border=\"1\" class=\"dataframe\">\n",
       "  <thead>\n",
       "    <tr style=\"text-align: right;\">\n",
       "      <th></th>\n",
       "      <th>location_key_x</th>\n",
       "      <th>subregion1_code_x</th>\n",
       "      <th>subregion1_name_x</th>\n",
       "      <th>country_code</th>\n",
       "      <th>country_name</th>\n",
       "      <th>iso_3166_1_alpha_2</th>\n",
       "      <th>iso_3166_1_alpha_3</th>\n",
       "      <th>population</th>\n",
       "      <th>population_male</th>\n",
       "      <th>population_female</th>\n",
       "      <th>...</th>\n",
       "      <th>gdp_2007</th>\n",
       "      <th>gdp_2008</th>\n",
       "      <th>gdp_2009</th>\n",
       "      <th>gdp_2010</th>\n",
       "      <th>gdp_2011</th>\n",
       "      <th>gdp_2012</th>\n",
       "      <th>gdp_2013</th>\n",
       "      <th>gdp_2014</th>\n",
       "      <th>gdp_2015</th>\n",
       "      <th>gdp_2016</th>\n",
       "    </tr>\n",
       "  </thead>\n",
       "  <tbody>\n",
       "    <tr>\n",
       "      <th>0</th>\n",
       "      <td>BD</td>\n",
       "      <td>NaN</td>\n",
       "      <td>NaN</td>\n",
       "      <td>BD</td>\n",
       "      <td>Bangladesh</td>\n",
       "      <td>BD</td>\n",
       "      <td>BGD</td>\n",
       "      <td>164689383</td>\n",
       "      <td>83259108</td>\n",
       "      <td>81430275</td>\n",
       "      <td>...</td>\n",
       "      <td>7.961189e+10</td>\n",
       "      <td>9.163128e+10</td>\n",
       "      <td>1.024778e+11</td>\n",
       "      <td>1.152791e+11</td>\n",
       "      <td>1.286379e+11</td>\n",
       "      <td>1.333557e+11</td>\n",
       "      <td>1.499905e+11</td>\n",
       "      <td>1.728855e+11</td>\n",
       "      <td>1.950787e+11</td>\n",
       "      <td>2.214152e+11</td>\n",
       "    </tr>\n",
       "    <tr>\n",
       "      <th>1</th>\n",
       "      <td>GA</td>\n",
       "      <td>NaN</td>\n",
       "      <td>NaN</td>\n",
       "      <td>GA</td>\n",
       "      <td>Gabon</td>\n",
       "      <td>GA</td>\n",
       "      <td>GAB</td>\n",
       "      <td>2225728</td>\n",
       "      <td>1132854</td>\n",
       "      <td>1092874</td>\n",
       "      <td>...</td>\n",
       "      <td>1.243896e+10</td>\n",
       "      <td>1.550857e+10</td>\n",
       "      <td>1.206514e+10</td>\n",
       "      <td>1.435859e+10</td>\n",
       "      <td>1.818648e+10</td>\n",
       "      <td>1.717145e+10</td>\n",
       "      <td>1.759075e+10</td>\n",
       "      <td>1.817972e+10</td>\n",
       "      <td>1.426203e+10</td>\n",
       "      <td>1.421356e+10</td>\n",
       "    </tr>\n",
       "    <tr>\n",
       "      <th>2</th>\n",
       "      <td>HR</td>\n",
       "      <td>NaN</td>\n",
       "      <td>NaN</td>\n",
       "      <td>HR</td>\n",
       "      <td>Croatia</td>\n",
       "      <td>HR</td>\n",
       "      <td>HRV</td>\n",
       "      <td>4076246</td>\n",
       "      <td>1972572</td>\n",
       "      <td>2103674</td>\n",
       "      <td>...</td>\n",
       "      <td>6.009316e+10</td>\n",
       "      <td>7.048145e+10</td>\n",
       "      <td>6.270310e+10</td>\n",
       "      <td>5.966543e+10</td>\n",
       "      <td>6.223675e+10</td>\n",
       "      <td>5.648530e+10</td>\n",
       "      <td>5.776987e+10</td>\n",
       "      <td>5.708037e+10</td>\n",
       "      <td>4.892188e+10</td>\n",
       "      <td>5.071496e+10</td>\n",
       "    </tr>\n",
       "    <tr>\n",
       "      <th>3</th>\n",
       "      <td>LK</td>\n",
       "      <td>NaN</td>\n",
       "      <td>NaN</td>\n",
       "      <td>LK</td>\n",
       "      <td>Sri Lanka</td>\n",
       "      <td>LK</td>\n",
       "      <td>LKA</td>\n",
       "      <td>21413250</td>\n",
       "      <td>10267351</td>\n",
       "      <td>11145899</td>\n",
       "      <td>...</td>\n",
       "      <td>3.235025e+10</td>\n",
       "      <td>4.071381e+10</td>\n",
       "      <td>4.206622e+10</td>\n",
       "      <td>5.672575e+10</td>\n",
       "      <td>6.529274e+10</td>\n",
       "      <td>6.843440e+10</td>\n",
       "      <td>7.431781e+10</td>\n",
       "      <td>7.935646e+10</td>\n",
       "      <td>8.061199e+10</td>\n",
       "      <td>8.132188e+10</td>\n",
       "    </tr>\n",
       "    <tr>\n",
       "      <th>4</th>\n",
       "      <td>NaN</td>\n",
       "      <td>NaN</td>\n",
       "      <td>NaN</td>\n",
       "      <td>NaN</td>\n",
       "      <td>Namibia</td>\n",
       "      <td>NaN</td>\n",
       "      <td>NAM</td>\n",
       "      <td>2540916</td>\n",
       "      <td>1231683</td>\n",
       "      <td>1309233</td>\n",
       "      <td>...</td>\n",
       "      <td>8.740866e+09</td>\n",
       "      <td>8.486722e+09</td>\n",
       "      <td>8.876191e+09</td>\n",
       "      <td>1.128219e+10</td>\n",
       "      <td>1.240963e+10</td>\n",
       "      <td>1.301627e+10</td>\n",
       "      <td>1.271779e+10</td>\n",
       "      <td>1.278608e+10</td>\n",
       "      <td>1.157114e+10</td>\n",
       "      <td>1.094788e+10</td>\n",
       "    </tr>\n",
       "  </tbody>\n",
       "</table>\n",
       "<p>5 rows × 98 columns</p>\n",
       "</div>"
      ]
     },
     "execution_count": 173,
     "metadata": {},
     "output_type": "execute_result"
    }
   ],
   "execution_count": 173
  },
  {
   "metadata": {
    "ExecuteTime": {
     "end_time": "2025-04-05T10:56:39.830149Z",
     "start_time": "2025-04-05T10:56:39.447831Z"
    }
   },
   "cell_type": "code",
   "source": "countries_df.describe()",
   "id": "2ef154c0e217082c",
   "outputs": [
    {
     "data": {
      "text/plain": [
       "       subregion1_code_x  subregion1_name_x    population  population_male  \\\n",
       "count                0.0                0.0  1.370000e+02     1.370000e+02   \n",
       "mean                 NaN                NaN  4.739199e+07     2.399633e+07   \n",
       "std                  NaN                NaN  1.725282e+08     8.893505e+07   \n",
       "min                  NaN                NaN  7.199100e+04     3.504100e+04   \n",
       "25%                  NaN                NaN  2.961161e+06     1.606609e+06   \n",
       "50%                  NaN                NaN  1.023018e+07     5.165979e+06   \n",
       "75%                  NaN                NaN  3.286627e+07     1.677100e+07   \n",
       "max                  NaN                NaN  1.439324e+09     7.382473e+08   \n",
       "\n",
       "       population_female  population_density_x  human_development_index  \\\n",
       "count       1.370000e+02            137.000000               137.000000   \n",
       "mean        2.337054e+07            239.992328                 0.715438   \n",
       "std         8.361013e+07            763.884667                 0.152899   \n",
       "min         3.629800e+04              2.110000                 0.354000   \n",
       "25%         1.498593e+06             25.759000                 0.591000   \n",
       "50%         5.096935e+06             91.000000                 0.741000   \n",
       "75%         1.606720e+07            213.783000                 0.831000   \n",
       "max         7.010764e+08           8357.633000                 0.957000   \n",
       "\n",
       "            gdp_usd  gdp_per_capita_usd    latitude  ...      gdp_2007  \\\n",
       "count  1.370000e+02          137.000000  137.000000  ...  1.370000e+02   \n",
       "mean   4.324655e+11        15769.686131   17.835316  ...  2.804792e+11   \n",
       "std    1.408638e+12        20401.665167   25.185132  ...  7.114949e+11   \n",
       "min    5.960333e+08          261.000000  -41.200000  ...  4.213759e+08   \n",
       "25%    1.418044e+10         2229.000000    1.300000  ...  7.880509e+09   \n",
       "50%    5.604591e+10         6977.000000   17.000000  ...  2.674387e+10   \n",
       "75%    2.823182e+11        19116.000000   38.500000  ...  1.787067e+11   \n",
       "max    1.434290e+13       116348.000000   65.000000  ...  4.515265e+12   \n",
       "\n",
       "           gdp_2008      gdp_2009      gdp_2010      gdp_2011      gdp_2012  \\\n",
       "count  1.370000e+02  1.370000e+02  1.370000e+02  1.370000e+02  1.370000e+02   \n",
       "mean   3.150346e+11  2.982958e+11  3.304192e+11  3.734704e+11  3.778555e+11   \n",
       "std    7.966928e+11  7.910842e+11  8.735504e+11  1.000325e+12  1.044687e+12   \n",
       "min    4.581902e+08  4.890743e+08  4.938244e+08  5.010253e+08  4.859980e+08   \n",
       "25%    8.496966e+09  8.621574e+09  1.000367e+10  1.151839e+10  1.229277e+10   \n",
       "50%    3.186255e+10  3.547712e+10  3.841963e+10  4.226270e+10  4.386857e+10   \n",
       "75%    2.081816e+11  1.924084e+11  2.336095e+11  2.522520e+11  2.500921e+11   \n",
       "max    5.037908e+12  5.231383e+12  6.100620e+12  7.572554e+12  8.560547e+12   \n",
       "\n",
       "           gdp_2013      gdp_2014      gdp_2015      gdp_2016  \n",
       "count  1.370000e+02  1.370000e+02  1.370000e+02  1.360000e+02  \n",
       "mean   3.879545e+11  3.978471e+11  3.678356e+11  3.745047e+11  \n",
       "std    1.079501e+12  1.135234e+12  1.127300e+12  1.155853e+12  \n",
       "min    5.019793e+08  5.236663e+08  5.350958e+08  5.814840e+08  \n",
       "25%    1.258212e+10  1.278608e+10  1.169229e+10  1.101091e+10  \n",
       "50%    4.764821e+10  4.916577e+10  4.892188e+10  4.737364e+10  \n",
       "75%    2.699801e+11  2.609903e+11  2.425179e+11  2.549993e+11  \n",
       "max    9.607224e+12  1.048237e+13  1.106467e+13  1.119915e+13  \n",
       "\n",
       "[8 rows x 89 columns]"
      ],
      "text/html": [
       "<div>\n",
       "<style scoped>\n",
       "    .dataframe tbody tr th:only-of-type {\n",
       "        vertical-align: middle;\n",
       "    }\n",
       "\n",
       "    .dataframe tbody tr th {\n",
       "        vertical-align: top;\n",
       "    }\n",
       "\n",
       "    .dataframe thead th {\n",
       "        text-align: right;\n",
       "    }\n",
       "</style>\n",
       "<table border=\"1\" class=\"dataframe\">\n",
       "  <thead>\n",
       "    <tr style=\"text-align: right;\">\n",
       "      <th></th>\n",
       "      <th>subregion1_code_x</th>\n",
       "      <th>subregion1_name_x</th>\n",
       "      <th>population</th>\n",
       "      <th>population_male</th>\n",
       "      <th>population_female</th>\n",
       "      <th>population_density_x</th>\n",
       "      <th>human_development_index</th>\n",
       "      <th>gdp_usd</th>\n",
       "      <th>gdp_per_capita_usd</th>\n",
       "      <th>latitude</th>\n",
       "      <th>...</th>\n",
       "      <th>gdp_2007</th>\n",
       "      <th>gdp_2008</th>\n",
       "      <th>gdp_2009</th>\n",
       "      <th>gdp_2010</th>\n",
       "      <th>gdp_2011</th>\n",
       "      <th>gdp_2012</th>\n",
       "      <th>gdp_2013</th>\n",
       "      <th>gdp_2014</th>\n",
       "      <th>gdp_2015</th>\n",
       "      <th>gdp_2016</th>\n",
       "    </tr>\n",
       "  </thead>\n",
       "  <tbody>\n",
       "    <tr>\n",
       "      <th>count</th>\n",
       "      <td>0.0</td>\n",
       "      <td>0.0</td>\n",
       "      <td>1.370000e+02</td>\n",
       "      <td>1.370000e+02</td>\n",
       "      <td>1.370000e+02</td>\n",
       "      <td>137.000000</td>\n",
       "      <td>137.000000</td>\n",
       "      <td>1.370000e+02</td>\n",
       "      <td>137.000000</td>\n",
       "      <td>137.000000</td>\n",
       "      <td>...</td>\n",
       "      <td>1.370000e+02</td>\n",
       "      <td>1.370000e+02</td>\n",
       "      <td>1.370000e+02</td>\n",
       "      <td>1.370000e+02</td>\n",
       "      <td>1.370000e+02</td>\n",
       "      <td>1.370000e+02</td>\n",
       "      <td>1.370000e+02</td>\n",
       "      <td>1.370000e+02</td>\n",
       "      <td>1.370000e+02</td>\n",
       "      <td>1.360000e+02</td>\n",
       "    </tr>\n",
       "    <tr>\n",
       "      <th>mean</th>\n",
       "      <td>NaN</td>\n",
       "      <td>NaN</td>\n",
       "      <td>4.739199e+07</td>\n",
       "      <td>2.399633e+07</td>\n",
       "      <td>2.337054e+07</td>\n",
       "      <td>239.992328</td>\n",
       "      <td>0.715438</td>\n",
       "      <td>4.324655e+11</td>\n",
       "      <td>15769.686131</td>\n",
       "      <td>17.835316</td>\n",
       "      <td>...</td>\n",
       "      <td>2.804792e+11</td>\n",
       "      <td>3.150346e+11</td>\n",
       "      <td>2.982958e+11</td>\n",
       "      <td>3.304192e+11</td>\n",
       "      <td>3.734704e+11</td>\n",
       "      <td>3.778555e+11</td>\n",
       "      <td>3.879545e+11</td>\n",
       "      <td>3.978471e+11</td>\n",
       "      <td>3.678356e+11</td>\n",
       "      <td>3.745047e+11</td>\n",
       "    </tr>\n",
       "    <tr>\n",
       "      <th>std</th>\n",
       "      <td>NaN</td>\n",
       "      <td>NaN</td>\n",
       "      <td>1.725282e+08</td>\n",
       "      <td>8.893505e+07</td>\n",
       "      <td>8.361013e+07</td>\n",
       "      <td>763.884667</td>\n",
       "      <td>0.152899</td>\n",
       "      <td>1.408638e+12</td>\n",
       "      <td>20401.665167</td>\n",
       "      <td>25.185132</td>\n",
       "      <td>...</td>\n",
       "      <td>7.114949e+11</td>\n",
       "      <td>7.966928e+11</td>\n",
       "      <td>7.910842e+11</td>\n",
       "      <td>8.735504e+11</td>\n",
       "      <td>1.000325e+12</td>\n",
       "      <td>1.044687e+12</td>\n",
       "      <td>1.079501e+12</td>\n",
       "      <td>1.135234e+12</td>\n",
       "      <td>1.127300e+12</td>\n",
       "      <td>1.155853e+12</td>\n",
       "    </tr>\n",
       "    <tr>\n",
       "      <th>min</th>\n",
       "      <td>NaN</td>\n",
       "      <td>NaN</td>\n",
       "      <td>7.199100e+04</td>\n",
       "      <td>3.504100e+04</td>\n",
       "      <td>3.629800e+04</td>\n",
       "      <td>2.110000</td>\n",
       "      <td>0.354000</td>\n",
       "      <td>5.960333e+08</td>\n",
       "      <td>261.000000</td>\n",
       "      <td>-41.200000</td>\n",
       "      <td>...</td>\n",
       "      <td>4.213759e+08</td>\n",
       "      <td>4.581902e+08</td>\n",
       "      <td>4.890743e+08</td>\n",
       "      <td>4.938244e+08</td>\n",
       "      <td>5.010253e+08</td>\n",
       "      <td>4.859980e+08</td>\n",
       "      <td>5.019793e+08</td>\n",
       "      <td>5.236663e+08</td>\n",
       "      <td>5.350958e+08</td>\n",
       "      <td>5.814840e+08</td>\n",
       "    </tr>\n",
       "    <tr>\n",
       "      <th>25%</th>\n",
       "      <td>NaN</td>\n",
       "      <td>NaN</td>\n",
       "      <td>2.961161e+06</td>\n",
       "      <td>1.606609e+06</td>\n",
       "      <td>1.498593e+06</td>\n",
       "      <td>25.759000</td>\n",
       "      <td>0.591000</td>\n",
       "      <td>1.418044e+10</td>\n",
       "      <td>2229.000000</td>\n",
       "      <td>1.300000</td>\n",
       "      <td>...</td>\n",
       "      <td>7.880509e+09</td>\n",
       "      <td>8.496966e+09</td>\n",
       "      <td>8.621574e+09</td>\n",
       "      <td>1.000367e+10</td>\n",
       "      <td>1.151839e+10</td>\n",
       "      <td>1.229277e+10</td>\n",
       "      <td>1.258212e+10</td>\n",
       "      <td>1.278608e+10</td>\n",
       "      <td>1.169229e+10</td>\n",
       "      <td>1.101091e+10</td>\n",
       "    </tr>\n",
       "    <tr>\n",
       "      <th>50%</th>\n",
       "      <td>NaN</td>\n",
       "      <td>NaN</td>\n",
       "      <td>1.023018e+07</td>\n",
       "      <td>5.165979e+06</td>\n",
       "      <td>5.096935e+06</td>\n",
       "      <td>91.000000</td>\n",
       "      <td>0.741000</td>\n",
       "      <td>5.604591e+10</td>\n",
       "      <td>6977.000000</td>\n",
       "      <td>17.000000</td>\n",
       "      <td>...</td>\n",
       "      <td>2.674387e+10</td>\n",
       "      <td>3.186255e+10</td>\n",
       "      <td>3.547712e+10</td>\n",
       "      <td>3.841963e+10</td>\n",
       "      <td>4.226270e+10</td>\n",
       "      <td>4.386857e+10</td>\n",
       "      <td>4.764821e+10</td>\n",
       "      <td>4.916577e+10</td>\n",
       "      <td>4.892188e+10</td>\n",
       "      <td>4.737364e+10</td>\n",
       "    </tr>\n",
       "    <tr>\n",
       "      <th>75%</th>\n",
       "      <td>NaN</td>\n",
       "      <td>NaN</td>\n",
       "      <td>3.286627e+07</td>\n",
       "      <td>1.677100e+07</td>\n",
       "      <td>1.606720e+07</td>\n",
       "      <td>213.783000</td>\n",
       "      <td>0.831000</td>\n",
       "      <td>2.823182e+11</td>\n",
       "      <td>19116.000000</td>\n",
       "      <td>38.500000</td>\n",
       "      <td>...</td>\n",
       "      <td>1.787067e+11</td>\n",
       "      <td>2.081816e+11</td>\n",
       "      <td>1.924084e+11</td>\n",
       "      <td>2.336095e+11</td>\n",
       "      <td>2.522520e+11</td>\n",
       "      <td>2.500921e+11</td>\n",
       "      <td>2.699801e+11</td>\n",
       "      <td>2.609903e+11</td>\n",
       "      <td>2.425179e+11</td>\n",
       "      <td>2.549993e+11</td>\n",
       "    </tr>\n",
       "    <tr>\n",
       "      <th>max</th>\n",
       "      <td>NaN</td>\n",
       "      <td>NaN</td>\n",
       "      <td>1.439324e+09</td>\n",
       "      <td>7.382473e+08</td>\n",
       "      <td>7.010764e+08</td>\n",
       "      <td>8357.633000</td>\n",
       "      <td>0.957000</td>\n",
       "      <td>1.434290e+13</td>\n",
       "      <td>116348.000000</td>\n",
       "      <td>65.000000</td>\n",
       "      <td>...</td>\n",
       "      <td>4.515265e+12</td>\n",
       "      <td>5.037908e+12</td>\n",
       "      <td>5.231383e+12</td>\n",
       "      <td>6.100620e+12</td>\n",
       "      <td>7.572554e+12</td>\n",
       "      <td>8.560547e+12</td>\n",
       "      <td>9.607224e+12</td>\n",
       "      <td>1.048237e+13</td>\n",
       "      <td>1.106467e+13</td>\n",
       "      <td>1.119915e+13</td>\n",
       "    </tr>\n",
       "  </tbody>\n",
       "</table>\n",
       "<p>8 rows × 89 columns</p>\n",
       "</div>"
      ]
     },
     "execution_count": 174,
     "metadata": {},
     "output_type": "execute_result"
    }
   ],
   "execution_count": 174
  },
  {
   "metadata": {},
   "cell_type": "markdown",
   "source": "## Część 1",
   "id": "6ac80f8afe7843e0"
  },
  {
   "metadata": {},
   "cell_type": "markdown",
   "source": "1. Wykonaj wykresy pudełkowe (ang.box plot), które pozwolą na graficzną identyfikację wartości odstających poprzez przedstawienie kwartyli i wartości skrajnych w danych dotyczących:",
   "id": "df1940bf5627585c"
  },
  {
   "metadata": {},
   "cell_type": "markdown",
   "source": "1.1. liczby nowych zachorowań",
   "id": "7c2e1073d34cf2a4"
  },
  {
   "metadata": {
    "ExecuteTime": {
     "end_time": "2025-04-05T10:56:40.063264Z",
     "start_time": "2025-04-05T10:56:39.936450Z"
    }
   },
   "cell_type": "code",
   "source": [
    "import matplotlib.pyplot as plt\n",
    "plt.boxplot(df['new_confirmed'])\n",
    "plt.show()"
   ],
   "id": "fa410d463ef16f74",
   "outputs": [
    {
     "data": {
      "text/plain": [
       "<Figure size 640x480 with 1 Axes>"
      ],
      "image/png": "[encoded data removed]"
     },
     "metadata": {},
     "output_type": "display_data"
    }
   ],
   "execution_count": 175
  },
  {
   "metadata": {},
   "cell_type": "markdown",
   "source": [
    "1.2. liczby nowych śmierci\n",
    "\n"
   ],
   "id": "27bb2d6c3a7c9d73"
  },
  {
   "metadata": {
    "ExecuteTime": {
     "end_time": "2025-04-05T10:56:40.353650Z",
     "start_time": "2025-04-05T10:56:40.230562Z"
    }
   },
   "cell_type": "code",
   "source": [
    "plt.boxplot(df['new_deceased'])\n",
    "plt.show()"
   ],
   "id": "d40c57fce1105581",
   "outputs": [
    {
     "data": {
      "text/plain": [
       "<Figure size 640x480 with 1 Axes>"
      ],
      "image/png": "[encoded data removed]"
     },
     "metadata": {},
     "output_type": "display_data"
    }
   ],
   "execution_count": 176
  },
  {
   "metadata": {},
   "cell_type": "markdown",
   "source": [
    "1.3. liczby nowych szczepień\n",
    "\n"
   ],
   "id": "dd9f4a1c604d500f"
  },
  {
   "metadata": {
    "ExecuteTime": {
     "end_time": "2025-04-05T10:56:40.797468Z",
     "start_time": "2025-04-05T10:56:40.516387Z"
    }
   },
   "cell_type": "code",
   "source": [
    "fig, ax = plt.subplots(1, 2, figsize=(10, 8))\n",
    "ax[0].boxplot(df['new_persons_vaccinated'])\n",
    "ax[1].boxplot(df['new_persons_fully_vaccinated'])\n",
    "plt.show()\n"
   ],
   "id": "52448d2a2fc7b3ae",
   "outputs": [
    {
     "data": {
      "text/plain": [
       "<Figure size 1000x800 with 2 Axes>"
      ],
      "image/png": "[encoded data removed]"
     },
     "metadata": {},
     "output_type": "display_data"
    }
   ],
   "execution_count": 177
  },
  {
   "metadata": {},
   "cell_type": "markdown",
   "source": [
    "1.4. populacji\n",
    "\n"
   ],
   "id": "5dc270be31fe6714"
  },
  {
   "metadata": {
    "ExecuteTime": {
     "end_time": "2025-04-05T10:56:40.893771Z",
     "start_time": "2025-04-05T10:56:40.828373Z"
    }
   },
   "cell_type": "code",
   "source": "plt.boxplot(countries_df['population']);",
   "id": "2037f92665d2ee99",
   "outputs": [
    {
     "data": {
      "text/plain": [
       "<Figure size 640x480 with 1 Axes>"
      ],
      "image/png": "[encoded data removed]"
     },
     "metadata": {},
     "output_type": "display_data"
    }
   ],
   "execution_count": 178
  },
  {
   "metadata": {},
   "cell_type": "markdown",
   "source": [
    "1.5. PKB\n",
    "\n"
   ],
   "id": "48e14042b2fe5436"
  },
  {
   "metadata": {
    "ExecuteTime": {
     "end_time": "2025-04-05T10:56:41.004122Z",
     "start_time": "2025-04-05T10:56:40.903771Z"
    }
   },
   "cell_type": "code",
   "source": [
    "fig, ax = plt.subplots(1, 2, figsize=(10, 8))\n",
    "ax[0].boxplot(countries_df['gdp_usd'])\n",
    "ax[1].boxplot(countries_df['gdp_per_capita_usd'])\n",
    "plt.show()"
   ],
   "id": "735cce0f2e7293e0",
   "outputs": [
    {
     "data": {
      "text/plain": [
       "<Figure size 1000x800 with 2 Axes>"
      ],
      "image/png": "[encoded data removed]"
     },
     "metadata": {},
     "output_type": "display_data"
    }
   ],
   "execution_count": 179
  },
  {
   "metadata": {},
   "cell_type": "markdown",
   "source": "1.6.1 Wydatki na służbę zdrowia",
   "id": "94254c094f516b64"
  },
  {
   "metadata": {
    "ExecuteTime": {
     "end_time": "2025-04-05T10:56:41.108944Z",
     "start_time": "2025-04-05T10:56:41.019316Z"
    }
   },
   "cell_type": "code",
   "source": [
    "fig, ax = plt.subplots(1, 2, figsize=(10, 8))\n",
    "ax[0].boxplot(countries_df['health_expenditure_usd'])\n",
    "ax[1].boxplot(countries_df['out_of_pocket_health_expenditure_usd'])\n",
    "plt.show()"
   ],
   "id": "d2de8e7c0c89e97f",
   "outputs": [
    {
     "data": {
      "text/plain": [
       "<Figure size 1000x800 with 2 Axes>"
      ],
      "image/png": "[encoded data removed]"
     },
     "metadata": {},
     "output_type": "display_data"
    }
   ],
   "execution_count": 180
  },
  {
   "metadata": {},
   "cell_type": "markdown",
   "source": "",
   "id": "4ca1dc6b9a3ce7a8"
  },
  {
   "metadata": {},
   "cell_type": "markdown",
   "source": "1.6.2 Zaaplikowane dawki szczepionek",
   "id": "3ed929e8d47084d3"
  },
  {
   "metadata": {
    "ExecuteTime": {
     "end_time": "2025-04-05T10:56:41.248318Z",
     "start_time": "2025-04-05T10:56:41.124014Z"
    }
   },
   "cell_type": "code",
   "source": [
    "plt.boxplot(df['new_vaccine_doses_administered']);\n",
    "plt.show()"
   ],
   "id": "50f8daef521f41e8",
   "outputs": [
    {
     "data": {
      "text/plain": [
       "<Figure size 640x480 with 1 Axes>"
      ],
      "image/png": "[encoded data removed]"
     },
     "metadata": {},
     "output_type": "display_data"
    }
   ],
   "execution_count": 181
  },
  {
   "metadata": {},
   "cell_type": "markdown",
   "source": "1.6.3 liczba nowych osób przetestowanych",
   "id": "876c65e2064d1078"
  },
  {
   "metadata": {
    "ExecuteTime": {
     "end_time": "2025-04-05T10:56:41.389690Z",
     "start_time": "2025-04-05T10:56:41.262780Z"
    }
   },
   "cell_type": "code",
   "source": [
    "plt.boxplot(df['new_tested']);\n",
    "plt.show()"
   ],
   "id": "6840130dd0c2b977",
   "outputs": [
    {
     "data": {
      "text/plain": [
       "<Figure size 640x480 with 1 Axes>"
      ],
      "image/png": "[encoded data removed]"
     },
     "metadata": {},
     "output_type": "display_data"
    }
   ],
   "execution_count": 182
  },
  {
   "metadata": {},
   "cell_type": "markdown",
   "source": "1.6.4 ??",
   "id": "bf7933ed7fb81d84"
  },
  {
   "metadata": {
    "ExecuteTime": {
     "end_time": "2025-04-05T10:56:41.408164Z",
     "start_time": "2025-04-05T10:56:41.405819Z"
    }
   },
   "cell_type": "code",
   "source": "",
   "id": "8f969fe01f4c0a1c",
   "outputs": [],
   "execution_count": null
  },
  {
   "metadata": {},
   "cell_type": "markdown",
   "source": "## Część 3",
   "id": "b1ebbaee246d1a08"
  },
  {
   "metadata": {},
   "cell_type": "markdown",
   "source": "3.1. średnia liczba nowych zachorowań, śmierci i szczepień dla co najmniej 10 wybranych krajów w wybranym miesiącu",
   "id": "b24966887bc78a92"
  },
  {
   "metadata": {
    "ExecuteTime": {
     "end_time": "2025-04-05T10:56:41.500076Z",
     "start_time": "2025-04-05T10:56:41.423405Z"
    }
   },
   "cell_type": "code",
   "source": [
    "month = 5\n",
    "year = 2021\n",
    "countries = ['Italy', 'Poland', 'United States of America'] # ...\n",
    "(\n",
    "    df[\n",
    "        (df['date_in_datetime'].dt.year == year) & \n",
    "        (df['date_in_datetime'].dt.month == month) &\n",
    "        (df['subregion1_code_x'].isna()) &\n",
    "        (df['country_name'].isin(countries))\n",
    "    ]\n",
    "    .groupby(['location_key', 'country_name'])[['new_confirmed', 'new_deceased', 'new_persons_vaccinated', 'new_persons_fully_vaccinated']]\n",
    "    .mean()\n",
    "    \n",
    ")"
   ],
   "id": "c35a26c665c8d63b",
   "outputs": [
    {
     "data": {
      "text/plain": [
       "                                       new_confirmed  new_deceased  \\\n",
       "location_key country_name                                            \n",
       "IT           Italy                       6299.129032    171.645161   \n",
       "PL           Poland                      3369.250000    309.250000   \n",
       "US           United States of America   28643.966667    511.300000   \n",
       "\n",
       "                                       new_persons_vaccinated  \\\n",
       "location_key country_name                                       \n",
       "IT           Italy                               298327.83871   \n",
       "PL           Poland                              243724.75000   \n",
       "US           United States of America            653274.00000   \n",
       "\n",
       "                                       new_persons_fully_vaccinated  \n",
       "location_key country_name                                            \n",
       "IT           Italy                                     1.815694e+05  \n",
       "PL           Poland                                    1.759185e+05  \n",
       "US           United States of America                  1.132099e+06  "
      ],
      "text/html": [
       "<div>\n",
       "<style scoped>\n",
       "    .dataframe tbody tr th:only-of-type {\n",
       "        vertical-align: middle;\n",
       "    }\n",
       "\n",
       "    .dataframe tbody tr th {\n",
       "        vertical-align: top;\n",
       "    }\n",
       "\n",
       "    .dataframe thead th {\n",
       "        text-align: right;\n",
       "    }\n",
       "</style>\n",
       "<table border=\"1\" class=\"dataframe\">\n",
       "  <thead>\n",
       "    <tr style=\"text-align: right;\">\n",
       "      <th></th>\n",
       "      <th></th>\n",
       "      <th>new_confirmed</th>\n",
       "      <th>new_deceased</th>\n",
       "      <th>new_persons_vaccinated</th>\n",
       "      <th>new_persons_fully_vaccinated</th>\n",
       "    </tr>\n",
       "    <tr>\n",
       "      <th>location_key</th>\n",
       "      <th>country_name</th>\n",
       "      <th></th>\n",
       "      <th></th>\n",
       "      <th></th>\n",
       "      <th></th>\n",
       "    </tr>\n",
       "  </thead>\n",
       "  <tbody>\n",
       "    <tr>\n",
       "      <th>IT</th>\n",
       "      <th>Italy</th>\n",
       "      <td>6299.129032</td>\n",
       "      <td>171.645161</td>\n",
       "      <td>298327.83871</td>\n",
       "      <td>1.815694e+05</td>\n",
       "    </tr>\n",
       "    <tr>\n",
       "      <th>PL</th>\n",
       "      <th>Poland</th>\n",
       "      <td>3369.250000</td>\n",
       "      <td>309.250000</td>\n",
       "      <td>243724.75000</td>\n",
       "      <td>1.759185e+05</td>\n",
       "    </tr>\n",
       "    <tr>\n",
       "      <th>US</th>\n",
       "      <th>United States of America</th>\n",
       "      <td>28643.966667</td>\n",
       "      <td>511.300000</td>\n",
       "      <td>653274.00000</td>\n",
       "      <td>1.132099e+06</td>\n",
       "    </tr>\n",
       "  </tbody>\n",
       "</table>\n",
       "</div>"
      ]
     },
     "execution_count": 183,
     "metadata": {},
     "output_type": "execute_result"
    }
   ],
   "execution_count": 183
  },
  {
   "metadata": {
    "ExecuteTime": {
     "end_time": "2025-04-05T10:56:41.543789Z",
     "start_time": "2025-04-05T10:56:41.541953Z"
    }
   },
   "cell_type": "code",
   "source": "",
   "id": "acf4ae66bf0ca579",
   "outputs": [],
   "execution_count": null
  },
  {
   "metadata": {},
   "cell_type": "markdown",
   "source": "3.2. średnia zmiana liczby zachorowań, śmierci i szczepień dla co najmniej 10 wybranych krajów w wybranym miesiącu,",
   "id": "bd97c0735d1aec56"
  },
  {
   "metadata": {
    "ExecuteTime": {
     "end_time": "2025-04-05T10:56:41.587919Z",
     "start_time": "2025-04-05T10:56:41.584147Z"
    }
   },
   "cell_type": "code",
   "source": "# nw czym jest średnia zmiana",
   "id": "7537c3a0bf93acde",
   "outputs": [],
   "execution_count": 184
  },
  {
   "metadata": {},
   "cell_type": "markdown",
   "source": "3.3. mediana liczby nowych zachorowań, śmierci i szczepień dla co najmniej 10 wybranych krajów w wybranym miesiącu,\n",
   "id": "53b5fabcc3151319"
  },
  {
   "metadata": {
    "ExecuteTime": {
     "end_time": "2025-04-05T10:56:41.723182Z",
     "start_time": "2025-04-05T10:56:41.646765Z"
    }
   },
   "cell_type": "code",
   "source": [
    "(\n",
    "    df[\n",
    "        (df['date_in_datetime'].dt.year == year) & \n",
    "        (df['date_in_datetime'].dt.month == month) &\n",
    "        (df['subregion1_code_x'].isna()) &\n",
    "        (df['country_name'].isin(countries))\n",
    "    ]\n",
    "    .groupby(['location_key', 'country_name'])[['new_confirmed', 'new_deceased', 'new_persons_vaccinated', 'new_persons_fully_vaccinated']]\n",
    "    .median()\n",
    "    \n",
    ")"
   ],
   "id": "2c7af23c3c1193f0",
   "outputs": [
    {
     "data": {
      "text/plain": [
       "                                       new_confirmed  new_deceased  \\\n",
       "location_key country_name                                            \n",
       "IT           Italy                            5741.0         166.0   \n",
       "PL           Poland                           2908.0         296.0   \n",
       "US           United States of America        27467.5         529.5   \n",
       "\n",
       "                                       new_persons_vaccinated  \\\n",
       "location_key country_name                                       \n",
       "IT           Italy                                   302825.0   \n",
       "PL           Poland                                  256736.5   \n",
       "US           United States of America                661181.5   \n",
       "\n",
       "                                       new_persons_fully_vaccinated  \n",
       "location_key country_name                                            \n",
       "IT           Italy                                         182114.0  \n",
       "PL           Poland                                        183919.5  \n",
       "US           United States of America                     1111411.5  "
      ],
      "text/html": [
       "<div>\n",
       "<style scoped>\n",
       "    .dataframe tbody tr th:only-of-type {\n",
       "        vertical-align: middle;\n",
       "    }\n",
       "\n",
       "    .dataframe tbody tr th {\n",
       "        vertical-align: top;\n",
       "    }\n",
       "\n",
       "    .dataframe thead th {\n",
       "        text-align: right;\n",
       "    }\n",
       "</style>\n",
       "<table border=\"1\" class=\"dataframe\">\n",
       "  <thead>\n",
       "    <tr style=\"text-align: right;\">\n",
       "      <th></th>\n",
       "      <th></th>\n",
       "      <th>new_confirmed</th>\n",
       "      <th>new_deceased</th>\n",
       "      <th>new_persons_vaccinated</th>\n",
       "      <th>new_persons_fully_vaccinated</th>\n",
       "    </tr>\n",
       "    <tr>\n",
       "      <th>location_key</th>\n",
       "      <th>country_name</th>\n",
       "      <th></th>\n",
       "      <th></th>\n",
       "      <th></th>\n",
       "      <th></th>\n",
       "    </tr>\n",
       "  </thead>\n",
       "  <tbody>\n",
       "    <tr>\n",
       "      <th>IT</th>\n",
       "      <th>Italy</th>\n",
       "      <td>5741.0</td>\n",
       "      <td>166.0</td>\n",
       "      <td>302825.0</td>\n",
       "      <td>182114.0</td>\n",
       "    </tr>\n",
       "    <tr>\n",
       "      <th>PL</th>\n",
       "      <th>Poland</th>\n",
       "      <td>2908.0</td>\n",
       "      <td>296.0</td>\n",
       "      <td>256736.5</td>\n",
       "      <td>183919.5</td>\n",
       "    </tr>\n",
       "    <tr>\n",
       "      <th>US</th>\n",
       "      <th>United States of America</th>\n",
       "      <td>27467.5</td>\n",
       "      <td>529.5</td>\n",
       "      <td>661181.5</td>\n",
       "      <td>1111411.5</td>\n",
       "    </tr>\n",
       "  </tbody>\n",
       "</table>\n",
       "</div>"
      ]
     },
     "execution_count": 185,
     "metadata": {},
     "output_type": "execute_result"
    }
   ],
   "execution_count": 185
  },
  {
   "metadata": {},
   "cell_type": "markdown",
   "source": "3.4. odchylenie standardowe liczby nowych zachorowań, śmierci i szczepień dla co najmniej 10 wybranych krajów w wybranym miesiącu,\n",
   "id": "ea05ac7e8092e23b"
  },
  {
   "metadata": {
    "ExecuteTime": {
     "end_time": "2025-04-05T10:56:41.842752Z",
     "start_time": "2025-04-05T10:56:41.765438Z"
    }
   },
   "cell_type": "code",
   "source": [
    "(\n",
    "    df[\n",
    "        (df['date_in_datetime'].dt.year == year) & \n",
    "        (df['date_in_datetime'].dt.month == month) &\n",
    "        (df['subregion1_code_x'].isna()) &\n",
    "        (df['country_name'].isin(countries))\n",
    "    ]\n",
    "    .groupby(['location_key', 'country_name'])[['new_confirmed', 'new_deceased', 'new_persons_vaccinated', 'new_persons_fully_vaccinated']]\n",
    "    .std()\n",
    "    \n",
    ")"
   ],
   "id": "aad26a376e15de47",
   "outputs": [
    {
     "data": {
      "text/plain": [
       "                                       new_confirmed  new_deceased  \\\n",
       "location_key country_name                                            \n",
       "IT           Italy                       2933.121792     66.121377   \n",
       "PL           Poland                      2289.656070    158.373767   \n",
       "US           United States of America   10097.384176    150.914717   \n",
       "\n",
       "                                       new_persons_vaccinated  \\\n",
       "location_key country_name                                       \n",
       "IT           Italy                               31297.131406   \n",
       "PL           Poland                              40317.753950   \n",
       "US           United States of America           256652.610181   \n",
       "\n",
       "                                       new_persons_fully_vaccinated  \n",
       "location_key country_name                                            \n",
       "IT           Italy                                     42165.408654  \n",
       "PL           Poland                                    37799.045354  \n",
       "US           United States of America                 608881.191458  "
      ],
      "text/html": [
       "<div>\n",
       "<style scoped>\n",
       "    .dataframe tbody tr th:only-of-type {\n",
       "        vertical-align: middle;\n",
       "    }\n",
       "\n",
       "    .dataframe tbody tr th {\n",
       "        vertical-align: top;\n",
       "    }\n",
       "\n",
       "    .dataframe thead th {\n",
       "        text-align: right;\n",
       "    }\n",
       "</style>\n",
       "<table border=\"1\" class=\"dataframe\">\n",
       "  <thead>\n",
       "    <tr style=\"text-align: right;\">\n",
       "      <th></th>\n",
       "      <th></th>\n",
       "      <th>new_confirmed</th>\n",
       "      <th>new_deceased</th>\n",
       "      <th>new_persons_vaccinated</th>\n",
       "      <th>new_persons_fully_vaccinated</th>\n",
       "    </tr>\n",
       "    <tr>\n",
       "      <th>location_key</th>\n",
       "      <th>country_name</th>\n",
       "      <th></th>\n",
       "      <th></th>\n",
       "      <th></th>\n",
       "      <th></th>\n",
       "    </tr>\n",
       "  </thead>\n",
       "  <tbody>\n",
       "    <tr>\n",
       "      <th>IT</th>\n",
       "      <th>Italy</th>\n",
       "      <td>2933.121792</td>\n",
       "      <td>66.121377</td>\n",
       "      <td>31297.131406</td>\n",
       "      <td>42165.408654</td>\n",
       "    </tr>\n",
       "    <tr>\n",
       "      <th>PL</th>\n",
       "      <th>Poland</th>\n",
       "      <td>2289.656070</td>\n",
       "      <td>158.373767</td>\n",
       "      <td>40317.753950</td>\n",
       "      <td>37799.045354</td>\n",
       "    </tr>\n",
       "    <tr>\n",
       "      <th>US</th>\n",
       "      <th>United States of America</th>\n",
       "      <td>10097.384176</td>\n",
       "      <td>150.914717</td>\n",
       "      <td>256652.610181</td>\n",
       "      <td>608881.191458</td>\n",
       "    </tr>\n",
       "  </tbody>\n",
       "</table>\n",
       "</div>"
      ]
     },
     "execution_count": 186,
     "metadata": {},
     "output_type": "execute_result"
    }
   ],
   "execution_count": 186
  },
  {
   "metadata": {},
   "cell_type": "markdown",
   "source": "",
   "id": "4c0c06090bd1e3b2"
  }
 ],
 "metadata": {
  "kernelspec": {
   "display_name": "Python 3",
   "language": "python",
   "name": "python3"
  },
  "language_info": {
   "codemirror_mode": {
    "name": "ipython",
    "version": 2
   },
   "file_extension": ".py",
   "mimetype": "text/x-python",
   "name": "python",
   "nbconvert_exporter": "python",
   "pygments_lexer": "ipython2",
   "version": "2.7.6"
  }
 },
 "nbformat": 4,
 "nbformat_minor": 5
}
