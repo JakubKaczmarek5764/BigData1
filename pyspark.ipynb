{
 "cells": [
  {
   "cell_type": "code",
   "id": "initial_id",
   "metadata": {
    "collapsed": true,
    "ExecuteTime": {
     "end_time": "2025-05-30T14:45:15.560807Z",
     "start_time": "2025-05-30T14:45:13.858396Z"
    }
   },
   "source": [
    "import pandas as pd\n",
    "\n",
    "df1 = pd.read_csv(\"countries_combined_data.csv\")\n",
    "df2 = pd.read_csv(\"covid_combined_data.csv\")\n",
    "\n",
    "cols_to_add = ['country_name', 'population', 'human_development_index', 'Continent', 'area_sq_km', 'nurses_per_1000', 'physicians_per_1000']\n",
    "df1.rename(columns={'area_sq_km_x': 'area_sq_km'}, inplace=True)\n",
    "df2.drop(columns=['country_name'], inplace=True)\n",
    "df2.rename(columns={'country_name_x': 'country_name'}, inplace=True)\n",
    "\n",
    "# print(df2.columns)\n",
    "combined_df = df2.merge(df1[cols_to_add], how='inner', on='country_name')\n",
    "# print(combined_df.columns)\n",
    "combined_df.drop(columns=['subregion1_name', 'subregion1_code'], inplace=True)\n",
    "combined_df.rename(columns=lambda c: c[:-2] if c.endswith('_x') else c,\n",
    "          inplace=True)\n",
    "combined_df.drop(columns=[c for c in combined_df.columns if c.endswith('_y')],\n",
    "        inplace=True)\n",
    "combined_df.rename(columns={'Continent': 'continent'}, inplace=True)\n",
    "combined_df = combined_df[combined_df.subregion1_code.isna()]\n",
    "combined_df\n",
    "combined_df.drop(columns=['subregion1_code', 'subregion1_name'], inplace=True)\n",
    "combined_df.to_csv(\"combined_data.csv\", index=False)\n"
   ],
   "outputs": [],
   "execution_count": 1
  }
 ],
 "metadata": {
  "kernelspec": {
   "display_name": "Python 3",
   "language": "python",
   "name": "python3"
  },
  "language_info": {
   "codemirror_mode": {
    "name": "ipython",
    "version": 2
   },
   "file_extension": ".py",
   "mimetype": "text/x-python",
   "name": "python",
   "nbconvert_exporter": "python",
   "pygments_lexer": "ipython2",
   "version": "2.7.6"
  }
 },
 "nbformat": 4,
 "nbformat_minor": 5
}
