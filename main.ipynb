{
 "cells": [
  {
   "metadata": {},
   "cell_type": "markdown",
   "source": "## Część 2",
   "id": "fb6508acd958806b"
  },
  {
   "cell_type": "code",
   "id": "initial_id",
   "metadata": {
    "collapsed": true,
    "ExecuteTime": {
     "end_time": "2025-03-20T22:04:59.610304700Z",
     "start_time": "2025-03-20T22:04:56.083860500Z"
    }
   },
   "source": [
    "import os\n",
    "import pandas as pd\n",
    "from google.cloud import bigquery\n",
    "os.environ[\"GOOGLE_APPLICATION_CREDENTIALS\"]=\"secret.json\" # lokalizacja pobranego klucza z punktu 1.4.\n",
    "client = bigquery.Client()\n",
    "query = ('select * from bigquery-public-data.covid19_open_data.covid19_open_data limit 10')\n",
    "query_job = client.query(query)\n",
    "query_result = query_job.result()\n",
    "df1 = query_result.to_dataframe()\n",
    "df1"
   ],
   "outputs": [
    {
     "data": {
      "text/plain": "  location_key        date                     place_id wikidata_id  \\\n0           RO  2020-06-04  ChIJw3aJlSb_sUARlLEEqJJP74Q        Q218   \n1           RO  2021-10-30  ChIJw3aJlSb_sUARlLEEqJJP74Q        Q218   \n2           RO  2021-02-14  ChIJw3aJlSb_sUARlLEEqJJP74Q        Q218   \n3           RO  2021-05-06  ChIJw3aJlSb_sUARlLEEqJJP74Q        Q218   \n4           RO  2020-12-28  ChIJw3aJlSb_sUARlLEEqJJP74Q        Q218   \n5           RO  2020-11-04  ChIJw3aJlSb_sUARlLEEqJJP74Q        Q218   \n6           RO  2021-03-11  ChIJw3aJlSb_sUARlLEEqJJP74Q        Q218   \n7           RO  2021-05-11  ChIJw3aJlSb_sUARlLEEqJJP74Q        Q218   \n8           RO  2021-11-03  ChIJw3aJlSb_sUARlLEEqJJP74Q        Q218   \n9           RO  2020-08-09  ChIJw3aJlSb_sUARlLEEqJJP74Q        Q218   \n\n  datacommons_id country_code country_name iso_3166_1_alpha_2  \\\n0    country/ROU           RO      Romania                 RO   \n1    country/ROU           RO      Romania                 RO   \n2    country/ROU           RO      Romania                 RO   \n3    country/ROU           RO      Romania                 RO   \n4    country/ROU           RO      Romania                 RO   \n5    country/ROU           RO      Romania                 RO   \n6    country/ROU           RO      Romania                 RO   \n7    country/ROU           RO      Romania                 RO   \n8    country/ROU           RO      Romania                 RO   \n9    country/ROU           RO      Romania                 RO   \n\n  iso_3166_1_alpha_3  aggregation_level  ...  \\\n0                ROU                  0  ...   \n1                ROU                  0  ...   \n2                ROU                  0  ...   \n3                ROU                  0  ...   \n4                ROU                  0  ...   \n5                ROU                  0  ...   \n6                ROU                  0  ...   \n7                ROU                  0  ...   \n8                ROU                  0  ...   \n9                ROU                  0  ...   \n\n   cumulative_vaccine_doses_administered_pfizer  \\\n0                                          <NA>   \n1                                          <NA>   \n2                                          <NA>   \n3                                          <NA>   \n4                                          <NA>   \n5                                          <NA>   \n6                                          <NA>   \n7                                          <NA>   \n8                                          <NA>   \n9                                          <NA>   \n\n   new_persons_fully_vaccinated_moderna  \\\n0                                  <NA>   \n1                                  <NA>   \n2                                  <NA>   \n3                                  <NA>   \n4                                  <NA>   \n5                                  <NA>   \n6                                  <NA>   \n7                                  <NA>   \n8                                  <NA>   \n9                                  <NA>   \n\n   cumulative_persons_fully_vaccinated_moderna  \\\n0                                         <NA>   \n1                                         <NA>   \n2                                         <NA>   \n3                                         <NA>   \n4                                         <NA>   \n5                                         <NA>   \n6                                         <NA>   \n7                                         <NA>   \n8                                         <NA>   \n9                                         <NA>   \n\n   new_vaccine_doses_administered_moderna  \\\n0                                    <NA>   \n1                                    <NA>   \n2                                    <NA>   \n3                                    <NA>   \n4                                    <NA>   \n5                                    <NA>   \n6                                    <NA>   \n7                                    <NA>   \n8                                    <NA>   \n9                                    <NA>   \n\n   cumulative_vaccine_doses_administered_moderna  \\\n0                                           <NA>   \n1                                           <NA>   \n2                                           <NA>   \n3                                           <NA>   \n4                                           <NA>   \n5                                           <NA>   \n6                                           <NA>   \n7                                           <NA>   \n8                                           <NA>   \n9                                           <NA>   \n\n   new_persons_fully_vaccinated_janssen  \\\n0                                  <NA>   \n1                                  <NA>   \n2                                  <NA>   \n3                                  <NA>   \n4                                  <NA>   \n5                                  <NA>   \n6                                  <NA>   \n7                                  <NA>   \n8                                  <NA>   \n9                                  <NA>   \n\n   cumulative_persons_fully_vaccinated_janssen  \\\n0                                         <NA>   \n1                                         <NA>   \n2                                         <NA>   \n3                                         <NA>   \n4                                         <NA>   \n5                                         <NA>   \n6                                         <NA>   \n7                                         <NA>   \n8                                         <NA>   \n9                                         <NA>   \n\n   new_vaccine_doses_administered_janssen  \\\n0                                    <NA>   \n1                                    <NA>   \n2                                    <NA>   \n3                                    <NA>   \n4                                    <NA>   \n5                                    <NA>   \n6                                    <NA>   \n7                                    <NA>   \n8                                    <NA>   \n9                                    <NA>   \n\n   cumulative_vaccine_doses_administered_janssen  location_geometry  \n0                                           <NA>       POINT(25 46)  \n1                                           <NA>       POINT(25 46)  \n2                                           <NA>       POINT(25 46)  \n3                                           <NA>       POINT(25 46)  \n4                                           <NA>       POINT(25 46)  \n5                                           <NA>       POINT(25 46)  \n6                                           <NA>       POINT(25 46)  \n7                                           <NA>       POINT(25 46)  \n8                                           <NA>       POINT(25 46)  \n9                                           <NA>       POINT(25 46)  \n\n[10 rows x 701 columns]",
      "text/html": "<div>\n<style scoped>\n    .dataframe tbody tr th:only-of-type {\n        vertical-align: middle;\n    }\n\n    .dataframe tbody tr th {\n        vertical-align: top;\n    }\n\n    .dataframe thead th {\n        text-align: right;\n    }\n</style>\n<table border=\"1\" class=\"dataframe\">\n  <thead>\n    <tr style=\"text-align: right;\">\n      <th></th>\n      <th>location_key</th>\n      <th>date</th>\n      <th>place_id</th>\n      <th>wikidata_id</th>\n      <th>datacommons_id</th>\n      <th>country_code</th>\n      <th>country_name</th>\n      <th>iso_3166_1_alpha_2</th>\n      <th>iso_3166_1_alpha_3</th>\n      <th>aggregation_level</th>\n      <th>...</th>\n      <th>cumulative_vaccine_doses_administered_pfizer</th>\n      <th>new_persons_fully_vaccinated_moderna</th>\n      <th>cumulative_persons_fully_vaccinated_moderna</th>\n      <th>new_vaccine_doses_administered_moderna</th>\n      <th>cumulative_vaccine_doses_administered_moderna</th>\n      <th>new_persons_fully_vaccinated_janssen</th>\n      <th>cumulative_persons_fully_vaccinated_janssen</th>\n      <th>new_vaccine_doses_administered_janssen</th>\n      <th>cumulative_vaccine_doses_administered_janssen</th>\n      <th>location_geometry</th>\n    </tr>\n  </thead>\n  <tbody>\n    <tr>\n      <th>0</th>\n      <td>RO</td>\n      <td>2020-06-04</td>\n      <td>ChIJw3aJlSb_sUARlLEEqJJP74Q</td>\n      <td>Q218</td>\n      <td>country/ROU</td>\n      <td>RO</td>\n      <td>Romania</td>\n      <td>RO</td>\n      <td>ROU</td>\n      <td>0</td>\n      <td>...</td>\n      <td>&lt;NA&gt;</td>\n      <td>&lt;NA&gt;</td>\n      <td>&lt;NA&gt;</td>\n      <td>&lt;NA&gt;</td>\n      <td>&lt;NA&gt;</td>\n      <td>&lt;NA&gt;</td>\n      <td>&lt;NA&gt;</td>\n      <td>&lt;NA&gt;</td>\n      <td>&lt;NA&gt;</td>\n      <td>POINT(25 46)</td>\n    </tr>\n    <tr>\n      <th>1</th>\n      <td>RO</td>\n      <td>2021-10-30</td>\n      <td>ChIJw3aJlSb_sUARlLEEqJJP74Q</td>\n      <td>Q218</td>\n      <td>country/ROU</td>\n      <td>RO</td>\n      <td>Romania</td>\n      <td>RO</td>\n      <td>ROU</td>\n      <td>0</td>\n      <td>...</td>\n      <td>&lt;NA&gt;</td>\n      <td>&lt;NA&gt;</td>\n      <td>&lt;NA&gt;</td>\n      <td>&lt;NA&gt;</td>\n      <td>&lt;NA&gt;</td>\n      <td>&lt;NA&gt;</td>\n      <td>&lt;NA&gt;</td>\n      <td>&lt;NA&gt;</td>\n      <td>&lt;NA&gt;</td>\n      <td>POINT(25 46)</td>\n    </tr>\n    <tr>\n      <th>2</th>\n      <td>RO</td>\n      <td>2021-02-14</td>\n      <td>ChIJw3aJlSb_sUARlLEEqJJP74Q</td>\n      <td>Q218</td>\n      <td>country/ROU</td>\n      <td>RO</td>\n      <td>Romania</td>\n      <td>RO</td>\n      <td>ROU</td>\n      <td>0</td>\n      <td>...</td>\n      <td>&lt;NA&gt;</td>\n      <td>&lt;NA&gt;</td>\n      <td>&lt;NA&gt;</td>\n      <td>&lt;NA&gt;</td>\n      <td>&lt;NA&gt;</td>\n      <td>&lt;NA&gt;</td>\n      <td>&lt;NA&gt;</td>\n      <td>&lt;NA&gt;</td>\n      <td>&lt;NA&gt;</td>\n      <td>POINT(25 46)</td>\n    </tr>\n    <tr>\n      <th>3</th>\n      <td>RO</td>\n      <td>2021-05-06</td>\n      <td>ChIJw3aJlSb_sUARlLEEqJJP74Q</td>\n      <td>Q218</td>\n      <td>country/ROU</td>\n      <td>RO</td>\n      <td>Romania</td>\n      <td>RO</td>\n      <td>ROU</td>\n      <td>0</td>\n      <td>...</td>\n      <td>&lt;NA&gt;</td>\n      <td>&lt;NA&gt;</td>\n      <td>&lt;NA&gt;</td>\n      <td>&lt;NA&gt;</td>\n      <td>&lt;NA&gt;</td>\n      <td>&lt;NA&gt;</td>\n      <td>&lt;NA&gt;</td>\n      <td>&lt;NA&gt;</td>\n      <td>&lt;NA&gt;</td>\n      <td>POINT(25 46)</td>\n    </tr>\n    <tr>\n      <th>4</th>\n      <td>RO</td>\n      <td>2020-12-28</td>\n      <td>ChIJw3aJlSb_sUARlLEEqJJP74Q</td>\n      <td>Q218</td>\n      <td>country/ROU</td>\n      <td>RO</td>\n      <td>Romania</td>\n      <td>RO</td>\n      <td>ROU</td>\n      <td>0</td>\n      <td>...</td>\n      <td>&lt;NA&gt;</td>\n      <td>&lt;NA&gt;</td>\n      <td>&lt;NA&gt;</td>\n      <td>&lt;NA&gt;</td>\n      <td>&lt;NA&gt;</td>\n      <td>&lt;NA&gt;</td>\n      <td>&lt;NA&gt;</td>\n      <td>&lt;NA&gt;</td>\n      <td>&lt;NA&gt;</td>\n      <td>POINT(25 46)</td>\n    </tr>\n    <tr>\n      <th>5</th>\n      <td>RO</td>\n      <td>2020-11-04</td>\n      <td>ChIJw3aJlSb_sUARlLEEqJJP74Q</td>\n      <td>Q218</td>\n      <td>country/ROU</td>\n      <td>RO</td>\n      <td>Romania</td>\n      <td>RO</td>\n      <td>ROU</td>\n      <td>0</td>\n      <td>...</td>\n      <td>&lt;NA&gt;</td>\n      <td>&lt;NA&gt;</td>\n      <td>&lt;NA&gt;</td>\n      <td>&lt;NA&gt;</td>\n      <td>&lt;NA&gt;</td>\n      <td>&lt;NA&gt;</td>\n      <td>&lt;NA&gt;</td>\n      <td>&lt;NA&gt;</td>\n      <td>&lt;NA&gt;</td>\n      <td>POINT(25 46)</td>\n    </tr>\n    <tr>\n      <th>6</th>\n      <td>RO</td>\n      <td>2021-03-11</td>\n      <td>ChIJw3aJlSb_sUARlLEEqJJP74Q</td>\n      <td>Q218</td>\n      <td>country/ROU</td>\n      <td>RO</td>\n      <td>Romania</td>\n      <td>RO</td>\n      <td>ROU</td>\n      <td>0</td>\n      <td>...</td>\n      <td>&lt;NA&gt;</td>\n      <td>&lt;NA&gt;</td>\n      <td>&lt;NA&gt;</td>\n      <td>&lt;NA&gt;</td>\n      <td>&lt;NA&gt;</td>\n      <td>&lt;NA&gt;</td>\n      <td>&lt;NA&gt;</td>\n      <td>&lt;NA&gt;</td>\n      <td>&lt;NA&gt;</td>\n      <td>POINT(25 46)</td>\n    </tr>\n    <tr>\n      <th>7</th>\n      <td>RO</td>\n      <td>2021-05-11</td>\n      <td>ChIJw3aJlSb_sUARlLEEqJJP74Q</td>\n      <td>Q218</td>\n      <td>country/ROU</td>\n      <td>RO</td>\n      <td>Romania</td>\n      <td>RO</td>\n      <td>ROU</td>\n      <td>0</td>\n      <td>...</td>\n      <td>&lt;NA&gt;</td>\n      <td>&lt;NA&gt;</td>\n      <td>&lt;NA&gt;</td>\n      <td>&lt;NA&gt;</td>\n      <td>&lt;NA&gt;</td>\n      <td>&lt;NA&gt;</td>\n      <td>&lt;NA&gt;</td>\n      <td>&lt;NA&gt;</td>\n      <td>&lt;NA&gt;</td>\n      <td>POINT(25 46)</td>\n    </tr>\n    <tr>\n      <th>8</th>\n      <td>RO</td>\n      <td>2021-11-03</td>\n      <td>ChIJw3aJlSb_sUARlLEEqJJP74Q</td>\n      <td>Q218</td>\n      <td>country/ROU</td>\n      <td>RO</td>\n      <td>Romania</td>\n      <td>RO</td>\n      <td>ROU</td>\n      <td>0</td>\n      <td>...</td>\n      <td>&lt;NA&gt;</td>\n      <td>&lt;NA&gt;</td>\n      <td>&lt;NA&gt;</td>\n      <td>&lt;NA&gt;</td>\n      <td>&lt;NA&gt;</td>\n      <td>&lt;NA&gt;</td>\n      <td>&lt;NA&gt;</td>\n      <td>&lt;NA&gt;</td>\n      <td>&lt;NA&gt;</td>\n      <td>POINT(25 46)</td>\n    </tr>\n    <tr>\n      <th>9</th>\n      <td>RO</td>\n      <td>2020-08-09</td>\n      <td>ChIJw3aJlSb_sUARlLEEqJJP74Q</td>\n      <td>Q218</td>\n      <td>country/ROU</td>\n      <td>RO</td>\n      <td>Romania</td>\n      <td>RO</td>\n      <td>ROU</td>\n      <td>0</td>\n      <td>...</td>\n      <td>&lt;NA&gt;</td>\n      <td>&lt;NA&gt;</td>\n      <td>&lt;NA&gt;</td>\n      <td>&lt;NA&gt;</td>\n      <td>&lt;NA&gt;</td>\n      <td>&lt;NA&gt;</td>\n      <td>&lt;NA&gt;</td>\n      <td>&lt;NA&gt;</td>\n      <td>&lt;NA&gt;</td>\n      <td>POINT(25 46)</td>\n    </tr>\n  </tbody>\n</table>\n<p>10 rows × 701 columns</p>\n</div>"
     },
     "execution_count": 48,
     "metadata": {},
     "output_type": "execute_result"
    }
   ],
   "execution_count": 48
  },
  {
   "metadata": {},
   "cell_type": "markdown",
   "source": "## Część 3",
   "id": "c561f711ff37efe3"
  },
  {
   "metadata": {},
   "cell_type": "markdown",
   "source": "3.1. Sprawdź, ile jest zapisanych wierszy z danymi. ",
   "id": "1f1cc5c424e77b49"
  },
  {
   "metadata": {
    "ExecuteTime": {
     "end_time": "2025-03-20T22:05:01.859569500Z",
     "start_time": "2025-03-20T22:04:59.612304900Z"
    }
   },
   "cell_type": "code",
   "source": [
    "query = (\"\"\"\n",
    "select count(*) as liczba_wierszy from bigquery-public-data.covid19_open_data.covid19_open_data;\n",
    "\"\"\")\n",
    "\n",
    "query_job = client.query(query)\n",
    "query_result = query_job.result()\n",
    "df = query_result.to_dataframe()\n",
    "df"
   ],
   "id": "f2af22eb475804e1",
   "outputs": [
    {
     "data": {
      "text/plain": "   liczba_wierszy\n0        22756333",
      "text/html": "<div>\n<style scoped>\n    .dataframe tbody tr th:only-of-type {\n        vertical-align: middle;\n    }\n\n    .dataframe tbody tr th {\n        vertical-align: top;\n    }\n\n    .dataframe thead th {\n        text-align: right;\n    }\n</style>\n<table border=\"1\" class=\"dataframe\">\n  <thead>\n    <tr style=\"text-align: right;\">\n      <th></th>\n      <th>liczba_wierszy</th>\n    </tr>\n  </thead>\n  <tbody>\n    <tr>\n      <th>0</th>\n      <td>22756333</td>\n    </tr>\n  </tbody>\n</table>\n</div>"
     },
     "execution_count": 49,
     "metadata": {},
     "output_type": "execute_result"
    }
   ],
   "execution_count": 49
  },
  {
   "metadata": {},
   "cell_type": "markdown",
   "source": [
    " 3.2. Sprawdź, ile krajów jest uwzględnionych w danych. \n",
    "\n"
   ],
   "id": "c8d3b139adec9198"
  },
  {
   "metadata": {
    "ExecuteTime": {
     "end_time": "2025-03-20T22:05:03.988856700Z",
     "start_time": "2025-03-20T22:05:01.860568300Z"
    }
   },
   "cell_type": "code",
   "source": [
    "query = (\"\"\"\n",
    "select count(*) as liczba_krajow FROM (SELECT DISTINCT country_name FROM bigquery-public-data.covid19_open_data.covid19_open_data);\n",
    "\"\"\")\n",
    "query_job = client.query(query)\n",
    "query_result = query_job.result()\n",
    "df = query_result.to_dataframe()\n",
    "df"
   ],
   "id": "5afe81e1057b4340",
   "outputs": [
    {
     "data": {
      "text/plain": "   liczba_krajow\n0            246",
      "text/html": "<div>\n<style scoped>\n    .dataframe tbody tr th:only-of-type {\n        vertical-align: middle;\n    }\n\n    .dataframe tbody tr th {\n        vertical-align: top;\n    }\n\n    .dataframe thead th {\n        text-align: right;\n    }\n</style>\n<table border=\"1\" class=\"dataframe\">\n  <thead>\n    <tr style=\"text-align: right;\">\n      <th></th>\n      <th>liczba_krajow</th>\n    </tr>\n  </thead>\n  <tbody>\n    <tr>\n      <th>0</th>\n      <td>246</td>\n    </tr>\n  </tbody>\n</table>\n</div>"
     },
     "execution_count": 50,
     "metadata": {},
     "output_type": "execute_result"
    }
   ],
   "execution_count": 50
  },
  {
   "metadata": {},
   "cell_type": "markdown",
   "source": [
    " 3.3. Sprawdź, w jaki sposób zapisywane są dzienne informacje dla krajów.\n",
    "\n"
   ],
   "id": "4e0c8e85a248f0b7"
  },
  {
   "metadata": {},
   "cell_type": "markdown",
   "source": [
    "Dzienne informacje dla krajów raportowane są z podziałem na części opisywane przez aggregation_level.\n",
    "Dane odnośnie osób hospitalizowanych, zaszczepionych, zmarłych i testowanych raportowane są oddzielnie dla poszczególnych przedziałów wiekowych oraz z podziałem na płeć. \n",
    "Dane zawierają również podstawowe informacje o poszczególnych krajach, takie jak populacja, powierzchnia, wilgotność czy przewidywana długość życia."
   ],
   "id": "5157f67c9c2a7070"
  },
  {
   "metadata": {},
   "cell_type": "markdown",
   "source": [
    " 3.4. Sprawdź, w jaki sposób zapisywane są wartości liczbowe.  \n",
    "\n"
   ],
   "id": "ad82ddb143c9295b"
  },
  {
   "metadata": {
    "ExecuteTime": {
     "end_time": "2025-03-20T22:05:03.995459300Z",
     "start_time": "2025-03-20T22:05:03.991853400Z"
    }
   },
   "cell_type": "code",
   "source": [
    "print(df1['population'].dtype)\n",
    "print(df1['nurses_per_1000'].dtype)\n",
    "print(df1['new_tested'].dtype)"
   ],
   "id": "830fce613a1f06a4",
   "outputs": [
    {
     "name": "stdout",
     "output_type": "stream",
     "text": [
      "Int64\n",
      "float64\n",
      "object\n"
     ]
    }
   ],
   "execution_count": 51
  },
  {
   "metadata": {},
   "cell_type": "markdown",
   "source": [
    " 3.5. Sprawdź, jaki przedział czasowy jest uwzględniony w danych. Dodatkowo porównaj przedziały czasowe dla przypadków nowych zachorowań, nowych śmierci oraz nowych zaszczepionych osób w danych.\n",
    "\n"
   ],
   "id": "5f38af072d8234f"
  },
  {
   "metadata": {
    "ExecuteTime": {
     "end_time": "2025-03-20T22:05:06.268914200Z",
     "start_time": "2025-03-20T22:05:03.997458200Z"
    }
   },
   "cell_type": "code",
   "source": [
    "query = (\"\"\"\n",
    "select min(date) as poczatek_przedzialu, max(date) as koniec_przedzialu FROM bigquery-public-data.covid19_open_data.covid19_open_data;\n",
    "\"\"\")\n",
    "query_job = client.query(query)\n",
    "query_result = query_job.result()\n",
    "df = query_result.to_dataframe()\n",
    "df\n",
    "# co to znaczy nowych?"
   ],
   "id": "254c6007d22015c",
   "outputs": [
    {
     "data": {
      "text/plain": "  poczatek_przedzialu koniec_przedzialu\n0          2020-01-01        2022-09-17",
      "text/html": "<div>\n<style scoped>\n    .dataframe tbody tr th:only-of-type {\n        vertical-align: middle;\n    }\n\n    .dataframe tbody tr th {\n        vertical-align: top;\n    }\n\n    .dataframe thead th {\n        text-align: right;\n    }\n</style>\n<table border=\"1\" class=\"dataframe\">\n  <thead>\n    <tr style=\"text-align: right;\">\n      <th></th>\n      <th>poczatek_przedzialu</th>\n      <th>koniec_przedzialu</th>\n    </tr>\n  </thead>\n  <tbody>\n    <tr>\n      <th>0</th>\n      <td>2020-01-01</td>\n      <td>2022-09-17</td>\n    </tr>\n  </tbody>\n</table>\n</div>"
     },
     "execution_count": 52,
     "metadata": {},
     "output_type": "execute_result"
    }
   ],
   "execution_count": 52
  },
  {
   "cell_type": "code",
   "source": [
    "query = (\"\"\"\n",
    "select min(date) as poczatek_przedzialu_zachorowan, max(date) as koniec_przedzialu_zachorowan FROM bigquery-public-data.covid19_open_data.covid19_open_data where new_confirmed is not null and new_confirmed <> 0;\n",
    "\"\"\")\n",
    "query_job = client.query(query)\n",
    "query_result = query_job.result()\n",
    "df = query_result.to_dataframe()\n",
    "df"
   ],
   "metadata": {
    "collapsed": false,
    "ExecuteTime": {
     "end_time": "2025-03-20T22:05:08.663870900Z",
     "start_time": "2025-03-20T22:05:06.269916600Z"
    }
   },
   "id": "65efc61532151757",
   "outputs": [
    {
     "data": {
      "text/plain": "  poczatek_przedzialu_zachorowan koniec_przedzialu_zachorowan\n0                     2020-01-01                   2022-09-15",
      "text/html": "<div>\n<style scoped>\n    .dataframe tbody tr th:only-of-type {\n        vertical-align: middle;\n    }\n\n    .dataframe tbody tr th {\n        vertical-align: top;\n    }\n\n    .dataframe thead th {\n        text-align: right;\n    }\n</style>\n<table border=\"1\" class=\"dataframe\">\n  <thead>\n    <tr style=\"text-align: right;\">\n      <th></th>\n      <th>poczatek_przedzialu_zachorowan</th>\n      <th>koniec_przedzialu_zachorowan</th>\n    </tr>\n  </thead>\n  <tbody>\n    <tr>\n      <th>0</th>\n      <td>2020-01-01</td>\n      <td>2022-09-15</td>\n    </tr>\n  </tbody>\n</table>\n</div>"
     },
     "execution_count": 53,
     "metadata": {},
     "output_type": "execute_result"
    }
   ],
   "execution_count": 53
  },
  {
   "cell_type": "code",
   "source": [
    "query = (\"\"\"\n",
    "select min(date) as poczatek_przedzialu_smierci, max(date) as koniec_przedzialu_smierci FROM bigquery-public-data.covid19_open_data.covid19_open_data where new_deceased is not null and new_deceased <> 0;\n",
    "\"\"\")\n",
    "query_job = client.query(query)\n",
    "query_result = query_job.result()\n",
    "df = query_result.to_dataframe()\n",
    "df"
   ],
   "metadata": {
    "collapsed": false,
    "ExecuteTime": {
     "end_time": "2025-03-20T22:05:12.026751400Z",
     "start_time": "2025-03-20T22:05:08.666873900Z"
    }
   },
   "id": "28341eac45d85d9f",
   "outputs": [
    {
     "data": {
      "text/plain": "  poczatek_przedzialu_smierci koniec_przedzialu_smierci\n0                  2020-01-02                2022-09-15",
      "text/html": "<div>\n<style scoped>\n    .dataframe tbody tr th:only-of-type {\n        vertical-align: middle;\n    }\n\n    .dataframe tbody tr th {\n        vertical-align: top;\n    }\n\n    .dataframe thead th {\n        text-align: right;\n    }\n</style>\n<table border=\"1\" class=\"dataframe\">\n  <thead>\n    <tr style=\"text-align: right;\">\n      <th></th>\n      <th>poczatek_przedzialu_smierci</th>\n      <th>koniec_przedzialu_smierci</th>\n    </tr>\n  </thead>\n  <tbody>\n    <tr>\n      <th>0</th>\n      <td>2020-01-02</td>\n      <td>2022-09-15</td>\n    </tr>\n  </tbody>\n</table>\n</div>"
     },
     "execution_count": 54,
     "metadata": {},
     "output_type": "execute_result"
    }
   ],
   "execution_count": 54
  },
  {
   "cell_type": "code",
   "source": [
    "query = (\"\"\"\n",
    "select min(date) as poczatek_przedzialu_zaszczepionych, max(date) as koniec_przedzialu_zaszczepionych FROM bigquery-public-data.covid19_open_data.covid19_open_data where new_persons_vaccinated is not null and new_persons_vaccinated <> 0;\n",
    "\"\"\")\n",
    "query_job = client.query(query)\n",
    "query_result = query_job.result()\n",
    "df = query_result.to_dataframe()\n",
    "df"
   ],
   "metadata": {
    "collapsed": false,
    "ExecuteTime": {
     "end_time": "2025-03-20T22:05:14.290346500Z",
     "start_time": "2025-03-20T22:05:12.028751Z"
    }
   },
   "id": "5a828f87980d16c1",
   "outputs": [
    {
     "data": {
      "text/plain": "  poczatek_przedzialu_zaszczepionych koniec_przedzialu_zaszczepionych\n0                         2020-12-07                       2022-09-14",
      "text/html": "<div>\n<style scoped>\n    .dataframe tbody tr th:only-of-type {\n        vertical-align: middle;\n    }\n\n    .dataframe tbody tr th {\n        vertical-align: top;\n    }\n\n    .dataframe thead th {\n        text-align: right;\n    }\n</style>\n<table border=\"1\" class=\"dataframe\">\n  <thead>\n    <tr style=\"text-align: right;\">\n      <th></th>\n      <th>poczatek_przedzialu_zaszczepionych</th>\n      <th>koniec_przedzialu_zaszczepionych</th>\n    </tr>\n  </thead>\n  <tbody>\n    <tr>\n      <th>0</th>\n      <td>2020-12-07</td>\n      <td>2022-09-14</td>\n    </tr>\n  </tbody>\n</table>\n</div>"
     },
     "execution_count": 55,
     "metadata": {},
     "output_type": "execute_result"
    }
   ],
   "execution_count": 55
  },
  {
   "metadata": {},
   "cell_type": "markdown",
   "source": [
    " 3.6. Sprawdź więcej informacji (co najmniej 5 różnych) o danych dotyczących COVID-19. W tym celu nie wykonuj żadnych dodatkowych obliczeń. \n",
    "\n"
   ],
   "id": "78c44b35dd30ed93"
  },
  {
   "metadata": {
    "ExecuteTime": {
     "end_time": "2025-03-20T22:05:16.631734200Z",
     "start_time": "2025-03-20T22:05:14.291346100Z"
    }
   },
   "cell_type": "code",
   "source": [
    "# Sprawdzenie czy wystepuja wartosci ujemne\n",
    "query = (\"\"\"\n",
    "select COUNT(*) FROM bigquery-public-data.covid19_open_data.covid19_open_data where new_confirmed < 0;\n",
    "\"\"\")\n",
    "query_job = client.query(query)\n",
    "query_result = query_job.result()\n",
    "df = query_result.to_dataframe()\n",
    "df"
   ],
   "id": "396a092a6b1261d9",
   "outputs": [
    {
     "data": {
      "text/plain": "      f0_\n0  102199",
      "text/html": "<div>\n<style scoped>\n    .dataframe tbody tr th:only-of-type {\n        vertical-align: middle;\n    }\n\n    .dataframe tbody tr th {\n        vertical-align: top;\n    }\n\n    .dataframe thead th {\n        text-align: right;\n    }\n</style>\n<table border=\"1\" class=\"dataframe\">\n  <thead>\n    <tr style=\"text-align: right;\">\n      <th></th>\n      <th>f0_</th>\n    </tr>\n  </thead>\n  <tbody>\n    <tr>\n      <th>0</th>\n      <td>102199</td>\n    </tr>\n  </tbody>\n</table>\n</div>"
     },
     "execution_count": 56,
     "metadata": {},
     "output_type": "execute_result"
    }
   ],
   "execution_count": 56
  },
  {
   "cell_type": "code",
   "source": [
    "#Sprawdzenie czy wystepuja duplikaty\n",
    "query = (\"\"\"\n",
    "select COUNT(*), location_key, date FROM bigquery-public-data.covid19_open_data.covid19_open_data group by location_key, date having count(*) > 1;\n",
    "\"\"\")\n",
    "query_job = client.query(query)\n",
    "query_result = query_job.result()\n",
    "df = query_result.to_dataframe()\n",
    "df"
   ],
   "metadata": {
    "collapsed": false,
    "ExecuteTime": {
     "end_time": "2025-03-20T22:05:18.790995Z",
     "start_time": "2025-03-20T22:05:16.634734Z"
    }
   },
   "id": "e46f5cfafbffb373",
   "outputs": [
    {
     "data": {
      "text/plain": "Empty DataFrame\nColumns: [f0_, location_key, date]\nIndex: []",
      "text/html": "<div>\n<style scoped>\n    .dataframe tbody tr th:only-of-type {\n        vertical-align: middle;\n    }\n\n    .dataframe tbody tr th {\n        vertical-align: top;\n    }\n\n    .dataframe thead th {\n        text-align: right;\n    }\n</style>\n<table border=\"1\" class=\"dataframe\">\n  <thead>\n    <tr style=\"text-align: right;\">\n      <th></th>\n      <th>f0_</th>\n      <th>location_key</th>\n      <th>date</th>\n    </tr>\n  </thead>\n  <tbody>\n  </tbody>\n</table>\n</div>"
     },
     "execution_count": 57,
     "metadata": {},
     "output_type": "execute_result"
    }
   ],
   "execution_count": 57
  },
  {
   "cell_type": "code",
   "source": [
    "# Sprawdzenie czy kluczowe kolumny zawieraja nulle\n",
    "query = (\"\"\"\n",
    "select COUNT(*) FROM bigquery-public-data.covid19_open_data.covid19_open_data where date is null or country_name is null or location_key is null or iso_3166_1_alpha_3 is null;\n",
    "\"\"\")\n",
    "query_job = client.query(query)\n",
    "query_result = query_job.result()\n",
    "df = query_result.to_dataframe()\n",
    "df"
   ],
   "metadata": {
    "collapsed": false,
    "ExecuteTime": {
     "end_time": "2025-03-20T22:05:21.140226200Z",
     "start_time": "2025-03-20T22:05:18.792997600Z"
    }
   },
   "id": "8a16879a2ee64f0",
   "outputs": [
    {
     "data": {
      "text/plain": "   f0_\n0  991",
      "text/html": "<div>\n<style scoped>\n    .dataframe tbody tr th:only-of-type {\n        vertical-align: middle;\n    }\n\n    .dataframe tbody tr th {\n        vertical-align: top;\n    }\n\n    .dataframe thead th {\n        text-align: right;\n    }\n</style>\n<table border=\"1\" class=\"dataframe\">\n  <thead>\n    <tr style=\"text-align: right;\">\n      <th></th>\n      <th>f0_</th>\n    </tr>\n  </thead>\n  <tbody>\n    <tr>\n      <th>0</th>\n      <td>991</td>\n    </tr>\n  </tbody>\n</table>\n</div>"
     },
     "execution_count": 58,
     "metadata": {},
     "output_type": "execute_result"
    }
   ],
   "execution_count": 58
  },
  {
   "cell_type": "code",
   "source": [
    "# Sprawdzenie z jakich krajow posiadamy najwiecej danych\n",
    "query = (\"\"\"\n",
    "select country_name, count(*) as count from bigquery-public-data.covid19_open_data.covid19_open_data group by country_name order by count desc limit 10;\n",
    "\"\"\")\n",
    "query_job = client.query(query)\n",
    "query_result = query_job.result()\n",
    "df = query_result.to_dataframe()\n",
    "df"
   ],
   "metadata": {
    "collapsed": false,
    "ExecuteTime": {
     "end_time": "2025-03-20T22:05:23.532742300Z",
     "start_time": "2025-03-20T22:05:21.142224400Z"
    }
   },
   "id": "38bd2d971c6130df",
   "outputs": [
    {
     "data": {
      "text/plain": "               country_name    count\n0                    Brazil  5565456\n1  United States of America  3255435\n2                    Mexico  2475518\n3                      Peru  1883891\n4                    Israel  1472626\n5                     Spain  1385418\n6                  Colombia  1145596\n7                     India   747214\n8                 Indonesia   544059\n9                 Argentina   540095",
      "text/html": "<div>\n<style scoped>\n    .dataframe tbody tr th:only-of-type {\n        vertical-align: middle;\n    }\n\n    .dataframe tbody tr th {\n        vertical-align: top;\n    }\n\n    .dataframe thead th {\n        text-align: right;\n    }\n</style>\n<table border=\"1\" class=\"dataframe\">\n  <thead>\n    <tr style=\"text-align: right;\">\n      <th></th>\n      <th>country_name</th>\n      <th>count</th>\n    </tr>\n  </thead>\n  <tbody>\n    <tr>\n      <th>0</th>\n      <td>Brazil</td>\n      <td>5565456</td>\n    </tr>\n    <tr>\n      <th>1</th>\n      <td>United States of America</td>\n      <td>3255435</td>\n    </tr>\n    <tr>\n      <th>2</th>\n      <td>Mexico</td>\n      <td>2475518</td>\n    </tr>\n    <tr>\n      <th>3</th>\n      <td>Peru</td>\n      <td>1883891</td>\n    </tr>\n    <tr>\n      <th>4</th>\n      <td>Israel</td>\n      <td>1472626</td>\n    </tr>\n    <tr>\n      <th>5</th>\n      <td>Spain</td>\n      <td>1385418</td>\n    </tr>\n    <tr>\n      <th>6</th>\n      <td>Colombia</td>\n      <td>1145596</td>\n    </tr>\n    <tr>\n      <th>7</th>\n      <td>India</td>\n      <td>747214</td>\n    </tr>\n    <tr>\n      <th>8</th>\n      <td>Indonesia</td>\n      <td>544059</td>\n    </tr>\n    <tr>\n      <th>9</th>\n      <td>Argentina</td>\n      <td>540095</td>\n    </tr>\n  </tbody>\n</table>\n</div>"
     },
     "execution_count": 59,
     "metadata": {},
     "output_type": "execute_result"
    }
   ],
   "execution_count": 59
  },
  {
   "metadata": {
    "ExecuteTime": {
     "end_time": "2025-03-20T22:05:25.670673200Z",
     "start_time": "2025-03-20T22:05:23.524742300Z"
    }
   },
   "cell_type": "code",
   "source": [
    "# sprawdzenie czy w kolumnach cumulative wystepuja wartosci mniejsze niz w kolumnach new\n",
    "query = (\"\"\"\n",
    "select distinct location_key, country_name from bigquery-public-data.covid19_open_data.covid19_open_data where (new_confirmed > cumulative_confirmed or new_deceased > cumulative_deceased or cast(new_tested as int) > cumulative_tested or new_persons_vaccinated > cumulative_persons_vaccinated or new_persons_fully_vaccinated > cumulative_persons_fully_vaccinated or new_vaccine_doses_administered > cumulative_vaccine_doses_administered);\n",
    "\"\"\")\n",
    "query_job = client.query(query)\n",
    "query_result = query_job.result()\n",
    "df = query_result.to_dataframe()\n",
    "df"
   ],
   "id": "6163fda655b29276",
   "outputs": [
    {
     "data": {
      "text/plain": "   location_key              country_name\n0            MY                  Malaysia\n1         PL_14                    Poland\n2         PL_16                    Poland\n3         PL_22                    Poland\n4         PL_26                    Poland\n5            CL                     Chile\n6            AT                   Austria\n7         PL_12                    Poland\n8         PL_20                    Poland\n9         PL_08                    Poland\n10        CH_SZ               Switzerland\n11   ZA_NW_DC38              South Africa\n12        PL_24                    Poland\n13           LI             Liechtenstein\n14        CH_TG               Switzerland\n15           CH               Switzerland\n16        PL_06                    Poland\n17        PL_32                    Poland\n18   ZA_EC_DC44              South Africa\n19        PL_10                    Poland\n20        PL_28                    Poland\n21        PL_02                    Poland\n22        CH_GE               Switzerland\n23        PL_04                    Poland\n24        PL_18                    Poland\n25        US_OK  United States of America\n26        PL_30                    Poland",
      "text/html": "<div>\n<style scoped>\n    .dataframe tbody tr th:only-of-type {\n        vertical-align: middle;\n    }\n\n    .dataframe tbody tr th {\n        vertical-align: top;\n    }\n\n    .dataframe thead th {\n        text-align: right;\n    }\n</style>\n<table border=\"1\" class=\"dataframe\">\n  <thead>\n    <tr style=\"text-align: right;\">\n      <th></th>\n      <th>location_key</th>\n      <th>country_name</th>\n    </tr>\n  </thead>\n  <tbody>\n    <tr>\n      <th>0</th>\n      <td>MY</td>\n      <td>Malaysia</td>\n    </tr>\n    <tr>\n      <th>1</th>\n      <td>PL_14</td>\n      <td>Poland</td>\n    </tr>\n    <tr>\n      <th>2</th>\n      <td>PL_16</td>\n      <td>Poland</td>\n    </tr>\n    <tr>\n      <th>3</th>\n      <td>PL_22</td>\n      <td>Poland</td>\n    </tr>\n    <tr>\n      <th>4</th>\n      <td>PL_26</td>\n      <td>Poland</td>\n    </tr>\n    <tr>\n      <th>5</th>\n      <td>CL</td>\n      <td>Chile</td>\n    </tr>\n    <tr>\n      <th>6</th>\n      <td>AT</td>\n      <td>Austria</td>\n    </tr>\n    <tr>\n      <th>7</th>\n      <td>PL_12</td>\n      <td>Poland</td>\n    </tr>\n    <tr>\n      <th>8</th>\n      <td>PL_20</td>\n      <td>Poland</td>\n    </tr>\n    <tr>\n      <th>9</th>\n      <td>PL_08</td>\n      <td>Poland</td>\n    </tr>\n    <tr>\n      <th>10</th>\n      <td>CH_SZ</td>\n      <td>Switzerland</td>\n    </tr>\n    <tr>\n      <th>11</th>\n      <td>ZA_NW_DC38</td>\n      <td>South Africa</td>\n    </tr>\n    <tr>\n      <th>12</th>\n      <td>PL_24</td>\n      <td>Poland</td>\n    </tr>\n    <tr>\n      <th>13</th>\n      <td>LI</td>\n      <td>Liechtenstein</td>\n    </tr>\n    <tr>\n      <th>14</th>\n      <td>CH_TG</td>\n      <td>Switzerland</td>\n    </tr>\n    <tr>\n      <th>15</th>\n      <td>CH</td>\n      <td>Switzerland</td>\n    </tr>\n    <tr>\n      <th>16</th>\n      <td>PL_06</td>\n      <td>Poland</td>\n    </tr>\n    <tr>\n      <th>17</th>\n      <td>PL_32</td>\n      <td>Poland</td>\n    </tr>\n    <tr>\n      <th>18</th>\n      <td>ZA_EC_DC44</td>\n      <td>South Africa</td>\n    </tr>\n    <tr>\n      <th>19</th>\n      <td>PL_10</td>\n      <td>Poland</td>\n    </tr>\n    <tr>\n      <th>20</th>\n      <td>PL_28</td>\n      <td>Poland</td>\n    </tr>\n    <tr>\n      <th>21</th>\n      <td>PL_02</td>\n      <td>Poland</td>\n    </tr>\n    <tr>\n      <th>22</th>\n      <td>CH_GE</td>\n      <td>Switzerland</td>\n    </tr>\n    <tr>\n      <th>23</th>\n      <td>PL_04</td>\n      <td>Poland</td>\n    </tr>\n    <tr>\n      <th>24</th>\n      <td>PL_18</td>\n      <td>Poland</td>\n    </tr>\n    <tr>\n      <th>25</th>\n      <td>US_OK</td>\n      <td>United States of America</td>\n    </tr>\n    <tr>\n      <th>26</th>\n      <td>PL_30</td>\n      <td>Poland</td>\n    </tr>\n  </tbody>\n</table>\n</div>"
     },
     "execution_count": 60,
     "metadata": {},
     "output_type": "execute_result"
    }
   ],
   "execution_count": 60
  },
  {
   "metadata": {},
   "cell_type": "markdown",
   "source": "## Część 4",
   "id": "9c5a3521f7b9376b"
  },
  {
   "metadata": {},
   "cell_type": "markdown",
   "source": [
    "4.1. Chcemy posiadać podstawowe dane o wszystkich krajach świata, które będą zrozumiałe dla człowieka oraz uniwersalne i potencjalnie przyszłościowe do dalszego przetwarzania.\n",
    "\n"
   ],
   "id": "489ea8757c561b9b"
  },
  {
   "metadata": {
    "ExecuteTime": {
     "end_time": "2025-03-20T22:05:30.825831100Z",
     "start_time": "2025-03-20T22:05:25.672673100Z"
    }
   },
   "cell_type": "code",
   "source": [
    "query = (\"\"\"\n",
    "SELECT distinct\n",
    "    country_code,\n",
    "    date,  \n",
    "    country_name, \n",
    "    iso_3166_1_alpha_2, #imo useless\n",
    "    iso_3166_1_alpha_3, \n",
    "    population, \n",
    "    population_male, \n",
    "    population_female, \n",
    "    population_density, \n",
    "    human_development_index, \n",
    "    gdp_usd, \n",
    "    gdp_per_capita_usd, \n",
    "    latitude, \n",
    "    longitude, \n",
    "    area_sq_km, \n",
    "    nurses_per_1000, \n",
    "    physicians_per_1000,\n",
    "    health_expenditure_usd, \n",
    "    out_of_pocket_health_expenditure_usd \n",
    "FROM `bigquery-public-data.covid19_open_data.covid19_open_data`\n",
    "WHERE \n",
    "    country_code IS NOT NULL AND \n",
    "    date IS NOT NULL AND  \n",
    "    country_name IS NOT NULL AND \n",
    "    iso_3166_1_alpha_2 IS NOT NULL AND \n",
    "    iso_3166_1_alpha_3 IS NOT NULL AND \n",
    "    population IS NOT NULL AND \n",
    "    population_male IS NOT NULL AND \n",
    "    population_female IS NOT NULL AND \n",
    "    population_density IS NOT NULL AND \n",
    "    human_development_index IS NOT NULL AND \n",
    "    gdp_usd IS NOT NULL AND \n",
    "    gdp_per_capita_usd IS NOT NULL AND \n",
    "    latitude IS NOT NULL AND \n",
    "    longitude IS NOT NULL AND \n",
    "    area_sq_km IS NOT NULL AND \n",
    "    nurses_per_1000 IS NOT NULL AND \n",
    "    physicians_per_1000 IS NOT NULL AND \n",
    "    health_expenditure_usd IS NOT NULL AND \n",
    "    out_of_pocket_health_expenditure_usd IS NOT NULL\n",
    "    AND aggregation_level = 0;\n",
    "\"\"\")\n",
    "query_job = client.query(query)\n",
    "query_result = query_job.result()\n",
    "df1 = query_result.to_dataframe()\n",
    "df1.to_csv(\"countries_data.csv\", index=False)\n",
    "df1"
   ],
   "id": "22201c52a5883ee6",
   "outputs": [
    {
     "data": {
      "text/plain": "       country_code        date                      country_name  \\\n0                CD  2020-03-23  Democratic Republic of the Congo   \n1                CD  2021-12-15  Democratic Republic of the Congo   \n2                CD  2021-03-15  Democratic Republic of the Congo   \n3                CD  2022-01-22  Democratic Republic of the Congo   \n4                CD  2021-06-04  Democratic Republic of the Congo   \n...             ...         ...                               ...   \n151618           US  2021-01-14          United States of America   \n151619           US  2021-10-26          United States of America   \n151620           US  2020-02-26          United States of America   \n151621           US  2021-04-02          United States of America   \n151622           US  2020-09-22          United States of America   \n\n       iso_3166_1_alpha_2 iso_3166_1_alpha_3  population  population_male  \\\n0                      CD                COD    89561404         44710172   \n1                      CD                COD    89561404         44710172   \n2                      CD                COD    89561404         44710172   \n3                      CD                COD    89561404         44710172   \n4                      CD                COD    89561404         44710172   \n...                   ...                ...         ...              ...   \n151618                 US                USA   331002647        163786016   \n151619                 US                USA   331002647        163786016   \n151620                 US                USA   331002647        163786016   \n151621                 US                USA   331002647        163786016   \n151622                 US                USA   331002647        163786016   \n\n        population_female  population_density  human_development_index  \\\n0                44851232              39.506                    0.457   \n1                44851232              39.506                    0.457   \n2                44851232              39.506                    0.457   \n3                44851232              39.506                    0.457   \n4                44851232              39.506                    0.457   \n...                   ...                 ...                      ...   \n151618          167216631              36.185                    0.920   \n151619          167216631              36.185                    0.920   \n151620          167216631              36.185                    0.920   \n151621          167216631              36.185                    0.920   \n151622          167216631              36.185                    0.920   \n\n               gdp_usd  gdp_per_capita_usd   latitude  longitude  area_sq_km  \\\n0          47319624204                 545  -2.880000    23.6560     2344860   \n1          47319624204                 545  -2.880000    23.6560     2344860   \n2          47319624204                 545  -2.880000    23.6560     2344860   \n3          47319624204                 545  -2.880000    23.6560     2344860   \n4          47319624204                 545  -2.880000    23.6560     2344860   \n...                ...                 ...        ...        ...         ...   \n151618  21374418877706               65118  39.828175   -98.5795     9831510   \n151619  21374418877706               65118  39.828175   -98.5795     9831510   \n151620  21374418877706               65118  39.828175   -98.5795     9831510   \n151621  21374418877706               65118  39.828175   -98.5795     9831510   \n151622  21374418877706               65118  39.828175   -98.5795     9831510   \n\n        nurses_per_1000  physicians_per_1000  health_expenditure_usd  \\\n0                1.1101                0.074               19.431646   \n1                1.1101                0.074               19.431646   \n2                1.1101                0.074               19.431646   \n3                1.1101                0.074               19.431646   \n4                1.1101                0.074               19.431646   \n...                 ...                  ...                     ...   \n151618          14.5480                2.612            10246.138672   \n151619          14.5480                2.612            10246.138672   \n151620          14.5480                2.612            10246.138672   \n151621          14.5480                2.612            10246.138672   \n151622          14.5480                2.612            10246.138672   \n\n        out_of_pocket_health_expenditure_usd  \n0                                   7.796894  \n1                                   7.796894  \n2                                   7.796894  \n3                                   7.796894  \n4                                   7.796894  \n...                                      ...  \n151618                           1126.349976  \n151619                           1126.349976  \n151620                           1126.349976  \n151621                           1126.349976  \n151622                           1126.349976  \n\n[151623 rows x 19 columns]",
      "text/html": "<div>\n<style scoped>\n    .dataframe tbody tr th:only-of-type {\n        vertical-align: middle;\n    }\n\n    .dataframe tbody tr th {\n        vertical-align: top;\n    }\n\n    .dataframe thead th {\n        text-align: right;\n    }\n</style>\n<table border=\"1\" class=\"dataframe\">\n  <thead>\n    <tr style=\"text-align: right;\">\n      <th></th>\n      <th>country_code</th>\n      <th>date</th>\n      <th>country_name</th>\n      <th>iso_3166_1_alpha_2</th>\n      <th>iso_3166_1_alpha_3</th>\n      <th>population</th>\n      <th>population_male</th>\n      <th>population_female</th>\n      <th>population_density</th>\n      <th>human_development_index</th>\n      <th>gdp_usd</th>\n      <th>gdp_per_capita_usd</th>\n      <th>latitude</th>\n      <th>longitude</th>\n      <th>area_sq_km</th>\n      <th>nurses_per_1000</th>\n      <th>physicians_per_1000</th>\n      <th>health_expenditure_usd</th>\n      <th>out_of_pocket_health_expenditure_usd</th>\n    </tr>\n  </thead>\n  <tbody>\n    <tr>\n      <th>0</th>\n      <td>CD</td>\n      <td>2020-03-23</td>\n      <td>Democratic Republic of the Congo</td>\n      <td>CD</td>\n      <td>COD</td>\n      <td>89561404</td>\n      <td>44710172</td>\n      <td>44851232</td>\n      <td>39.506</td>\n      <td>0.457</td>\n      <td>47319624204</td>\n      <td>545</td>\n      <td>-2.880000</td>\n      <td>23.6560</td>\n      <td>2344860</td>\n      <td>1.1101</td>\n      <td>0.074</td>\n      <td>19.431646</td>\n      <td>7.796894</td>\n    </tr>\n    <tr>\n      <th>1</th>\n      <td>CD</td>\n      <td>2021-12-15</td>\n      <td>Democratic Republic of the Congo</td>\n      <td>CD</td>\n      <td>COD</td>\n      <td>89561404</td>\n      <td>44710172</td>\n      <td>44851232</td>\n      <td>39.506</td>\n      <td>0.457</td>\n      <td>47319624204</td>\n      <td>545</td>\n      <td>-2.880000</td>\n      <td>23.6560</td>\n      <td>2344860</td>\n      <td>1.1101</td>\n      <td>0.074</td>\n      <td>19.431646</td>\n      <td>7.796894</td>\n    </tr>\n    <tr>\n      <th>2</th>\n      <td>CD</td>\n      <td>2021-03-15</td>\n      <td>Democratic Republic of the Congo</td>\n      <td>CD</td>\n      <td>COD</td>\n      <td>89561404</td>\n      <td>44710172</td>\n      <td>44851232</td>\n      <td>39.506</td>\n      <td>0.457</td>\n      <td>47319624204</td>\n      <td>545</td>\n      <td>-2.880000</td>\n      <td>23.6560</td>\n      <td>2344860</td>\n      <td>1.1101</td>\n      <td>0.074</td>\n      <td>19.431646</td>\n      <td>7.796894</td>\n    </tr>\n    <tr>\n      <th>3</th>\n      <td>CD</td>\n      <td>2022-01-22</td>\n      <td>Democratic Republic of the Congo</td>\n      <td>CD</td>\n      <td>COD</td>\n      <td>89561404</td>\n      <td>44710172</td>\n      <td>44851232</td>\n      <td>39.506</td>\n      <td>0.457</td>\n      <td>47319624204</td>\n      <td>545</td>\n      <td>-2.880000</td>\n      <td>23.6560</td>\n      <td>2344860</td>\n      <td>1.1101</td>\n      <td>0.074</td>\n      <td>19.431646</td>\n      <td>7.796894</td>\n    </tr>\n    <tr>\n      <th>4</th>\n      <td>CD</td>\n      <td>2021-06-04</td>\n      <td>Democratic Republic of the Congo</td>\n      <td>CD</td>\n      <td>COD</td>\n      <td>89561404</td>\n      <td>44710172</td>\n      <td>44851232</td>\n      <td>39.506</td>\n      <td>0.457</td>\n      <td>47319624204</td>\n      <td>545</td>\n      <td>-2.880000</td>\n      <td>23.6560</td>\n      <td>2344860</td>\n      <td>1.1101</td>\n      <td>0.074</td>\n      <td>19.431646</td>\n      <td>7.796894</td>\n    </tr>\n    <tr>\n      <th>...</th>\n      <td>...</td>\n      <td>...</td>\n      <td>...</td>\n      <td>...</td>\n      <td>...</td>\n      <td>...</td>\n      <td>...</td>\n      <td>...</td>\n      <td>...</td>\n      <td>...</td>\n      <td>...</td>\n      <td>...</td>\n      <td>...</td>\n      <td>...</td>\n      <td>...</td>\n      <td>...</td>\n      <td>...</td>\n      <td>...</td>\n      <td>...</td>\n    </tr>\n    <tr>\n      <th>151618</th>\n      <td>US</td>\n      <td>2021-01-14</td>\n      <td>United States of America</td>\n      <td>US</td>\n      <td>USA</td>\n      <td>331002647</td>\n      <td>163786016</td>\n      <td>167216631</td>\n      <td>36.185</td>\n      <td>0.920</td>\n      <td>21374418877706</td>\n      <td>65118</td>\n      <td>39.828175</td>\n      <td>-98.5795</td>\n      <td>9831510</td>\n      <td>14.5480</td>\n      <td>2.612</td>\n      <td>10246.138672</td>\n      <td>1126.349976</td>\n    </tr>\n    <tr>\n      <th>151619</th>\n      <td>US</td>\n      <td>2021-10-26</td>\n      <td>United States of America</td>\n      <td>US</td>\n      <td>USA</td>\n      <td>331002647</td>\n      <td>163786016</td>\n      <td>167216631</td>\n      <td>36.185</td>\n      <td>0.920</td>\n      <td>21374418877706</td>\n      <td>65118</td>\n      <td>39.828175</td>\n      <td>-98.5795</td>\n      <td>9831510</td>\n      <td>14.5480</td>\n      <td>2.612</td>\n      <td>10246.138672</td>\n      <td>1126.349976</td>\n    </tr>\n    <tr>\n      <th>151620</th>\n      <td>US</td>\n      <td>2020-02-26</td>\n      <td>United States of America</td>\n      <td>US</td>\n      <td>USA</td>\n      <td>331002647</td>\n      <td>163786016</td>\n      <td>167216631</td>\n      <td>36.185</td>\n      <td>0.920</td>\n      <td>21374418877706</td>\n      <td>65118</td>\n      <td>39.828175</td>\n      <td>-98.5795</td>\n      <td>9831510</td>\n      <td>14.5480</td>\n      <td>2.612</td>\n      <td>10246.138672</td>\n      <td>1126.349976</td>\n    </tr>\n    <tr>\n      <th>151621</th>\n      <td>US</td>\n      <td>2021-04-02</td>\n      <td>United States of America</td>\n      <td>US</td>\n      <td>USA</td>\n      <td>331002647</td>\n      <td>163786016</td>\n      <td>167216631</td>\n      <td>36.185</td>\n      <td>0.920</td>\n      <td>21374418877706</td>\n      <td>65118</td>\n      <td>39.828175</td>\n      <td>-98.5795</td>\n      <td>9831510</td>\n      <td>14.5480</td>\n      <td>2.612</td>\n      <td>10246.138672</td>\n      <td>1126.349976</td>\n    </tr>\n    <tr>\n      <th>151622</th>\n      <td>US</td>\n      <td>2020-09-22</td>\n      <td>United States of America</td>\n      <td>US</td>\n      <td>USA</td>\n      <td>331002647</td>\n      <td>163786016</td>\n      <td>167216631</td>\n      <td>36.185</td>\n      <td>0.920</td>\n      <td>21374418877706</td>\n      <td>65118</td>\n      <td>39.828175</td>\n      <td>-98.5795</td>\n      <td>9831510</td>\n      <td>14.5480</td>\n      <td>2.612</td>\n      <td>10246.138672</td>\n      <td>1126.349976</td>\n    </tr>\n  </tbody>\n</table>\n<p>151623 rows × 19 columns</p>\n</div>"
     },
     "execution_count": 61,
     "metadata": {},
     "output_type": "execute_result"
    }
   ],
   "execution_count": 61
  },
  {
   "metadata": {},
   "cell_type": "markdown",
   "source": [
    " 4.2. Chcemy wygenerować statystyki dotyczące zachorowań na COVID-19 na całym świecie.\n",
    "\n"
   ],
   "id": "67769483bd8557f9"
  },
  {
   "metadata": {
    "ExecuteTime": {
     "end_time": "2025-03-20T22:05:33.605080Z",
     "start_time": "2025-03-20T22:05:30.826834200Z"
    }
   },
   "cell_type": "code",
   "source": [
    "query = (\"\"\"select distinct date, country_name, new_confirmed, cumulative_confirmed, cast(new_tested as int) as new_tested,  cumulative_tested from bigquery-public-data.covid19_open_data.covid19_open_data WHERE\n",
    "  date IS NOT NULL\n",
    "  AND country_name IS NOT NULL\n",
    "  AND new_confirmed IS NOT NULL\n",
    "  AND cumulative_confirmed IS NOT NULL\n",
    "  AND new_tested IS NOT NULL\n",
    "  AND cumulative_tested IS NOT NULL\n",
    "  AND new_confirmed <= cumulative_confirmed\n",
    "  and cast(new_tested as int) <= cumulative_tested\n",
    "  AND new_confirmed >= 0\n",
    "  AND cast(new_tested as int) >= 0\n",
    "  AND cumulative_confirmed >= 0\n",
    "  AND cumulative_tested >= 0\n",
    "  AND aggregation_level = 0\n",
    "  \"\"\")\n",
    "query_job = client.query(query)\n",
    "query_result = query_job.result()\n",
    "df2 = query_result.to_dataframe()\n",
    "df2.to_csv(\"covid_cases_stats.csv\", index=False)\n",
    "df2"
   ],
   "id": "6535520cc82679b1",
   "outputs": [
    {
     "data": {
      "text/plain": "             date                      country_name  new_confirmed  \\\n0      2021-07-27                        Madagascar             30   \n1      2020-12-09                          Mongolia              5   \n2      2021-02-25                          Mongolia             35   \n3      2022-03-03  Saint Vincent and the Grenadines              4   \n4      2020-07-25                           Belarus            130   \n...           ...                               ...            ...   \n73510  2021-03-05                          Zimbabwe             12   \n73511  2021-03-02                          Zimbabwe             31   \n73512  2021-04-25                          Zimbabwe             16   \n73513  2021-01-30                          Zimbabwe            117   \n73514  2022-01-16                          Zimbabwe            382   \n\n       cumulative_confirmed  new_tested  cumulative_tested  \n0                     42715         511             226580  \n1                       898       21470             366851  \n2                      2866        9927            1759786  \n3                      8320           3              98329  \n4                     67132        9735            1251359  \n...                     ...         ...                ...  \n73510                 36260        1600             392499  \n73511                 36179        1903             387311  \n73512                 38102        1495             484446  \n73513                 33388        1762             318260  \n73514                226460        3999            1801033  \n\n[73515 rows x 6 columns]",
      "text/html": "<div>\n<style scoped>\n    .dataframe tbody tr th:only-of-type {\n        vertical-align: middle;\n    }\n\n    .dataframe tbody tr th {\n        vertical-align: top;\n    }\n\n    .dataframe thead th {\n        text-align: right;\n    }\n</style>\n<table border=\"1\" class=\"dataframe\">\n  <thead>\n    <tr style=\"text-align: right;\">\n      <th></th>\n      <th>date</th>\n      <th>country_name</th>\n      <th>new_confirmed</th>\n      <th>cumulative_confirmed</th>\n      <th>new_tested</th>\n      <th>cumulative_tested</th>\n    </tr>\n  </thead>\n  <tbody>\n    <tr>\n      <th>0</th>\n      <td>2021-07-27</td>\n      <td>Madagascar</td>\n      <td>30</td>\n      <td>42715</td>\n      <td>511</td>\n      <td>226580</td>\n    </tr>\n    <tr>\n      <th>1</th>\n      <td>2020-12-09</td>\n      <td>Mongolia</td>\n      <td>5</td>\n      <td>898</td>\n      <td>21470</td>\n      <td>366851</td>\n    </tr>\n    <tr>\n      <th>2</th>\n      <td>2021-02-25</td>\n      <td>Mongolia</td>\n      <td>35</td>\n      <td>2866</td>\n      <td>9927</td>\n      <td>1759786</td>\n    </tr>\n    <tr>\n      <th>3</th>\n      <td>2022-03-03</td>\n      <td>Saint Vincent and the Grenadines</td>\n      <td>4</td>\n      <td>8320</td>\n      <td>3</td>\n      <td>98329</td>\n    </tr>\n    <tr>\n      <th>4</th>\n      <td>2020-07-25</td>\n      <td>Belarus</td>\n      <td>130</td>\n      <td>67132</td>\n      <td>9735</td>\n      <td>1251359</td>\n    </tr>\n    <tr>\n      <th>...</th>\n      <td>...</td>\n      <td>...</td>\n      <td>...</td>\n      <td>...</td>\n      <td>...</td>\n      <td>...</td>\n    </tr>\n    <tr>\n      <th>73510</th>\n      <td>2021-03-05</td>\n      <td>Zimbabwe</td>\n      <td>12</td>\n      <td>36260</td>\n      <td>1600</td>\n      <td>392499</td>\n    </tr>\n    <tr>\n      <th>73511</th>\n      <td>2021-03-02</td>\n      <td>Zimbabwe</td>\n      <td>31</td>\n      <td>36179</td>\n      <td>1903</td>\n      <td>387311</td>\n    </tr>\n    <tr>\n      <th>73512</th>\n      <td>2021-04-25</td>\n      <td>Zimbabwe</td>\n      <td>16</td>\n      <td>38102</td>\n      <td>1495</td>\n      <td>484446</td>\n    </tr>\n    <tr>\n      <th>73513</th>\n      <td>2021-01-30</td>\n      <td>Zimbabwe</td>\n      <td>117</td>\n      <td>33388</td>\n      <td>1762</td>\n      <td>318260</td>\n    </tr>\n    <tr>\n      <th>73514</th>\n      <td>2022-01-16</td>\n      <td>Zimbabwe</td>\n      <td>382</td>\n      <td>226460</td>\n      <td>3999</td>\n      <td>1801033</td>\n    </tr>\n  </tbody>\n</table>\n<p>73515 rows × 6 columns</p>\n</div>"
     },
     "execution_count": 62,
     "metadata": {},
     "output_type": "execute_result"
    }
   ],
   "execution_count": 62
  },
  {
   "metadata": {},
   "cell_type": "markdown",
   "source": [
    " 4.3. Chcemy poznać efekty COVID-19 poprzez uwypuklenie problemu śmiertelności ludzi spowodowanej wirusem.\n",
    "\n"
   ],
   "id": "bd08cba01ebbfee4"
  },
  {
   "metadata": {
    "ExecuteTime": {
     "end_time": "2025-03-20T22:05:38.083501Z",
     "start_time": "2025-03-20T22:05:33.607081600Z"
    }
   },
   "cell_type": "code",
   "source": [
    "query = (\"\"\"\n",
    "SELECT \n",
    "    date,  \n",
    "    country_name,  \n",
    "    new_deceased, \n",
    "    cumulative_deceased \n",
    "FROM `bigquery-public-data.covid19_open_data.covid19_open_data`\n",
    "WHERE \n",
    "    date IS NOT NULL AND  \n",
    "    country_name IS NOT NULL AND \n",
    "    new_deceased IS NOT NULL AND \n",
    "    cumulative_deceased IS NOT NULL AND\n",
    "    new_deceased <= cumulative_deceased AND\n",
    "    new_deceased >= 0\n",
    "    AND cumulative_deceased >= 0\n",
    "    AND aggregation_level = 0\n",
    "\n",
    "    ;\n",
    "\n",
    "\"\"\")\n",
    "query_job = client.query(query)\n",
    "query_result = query_job.result()\n",
    "df3 = query_result.to_dataframe()\n",
    "df3.to_csv(\"covid_mortality.csv\", index=False)\n",
    "df3"
   ],
   "id": "2f301f3a3163a3f5",
   "outputs": [
    {
     "data": {
      "text/plain": "              date country_name  new_deceased  cumulative_deceased\n0       2022-09-11      Andorra             0                  155\n1       2020-02-24      Andorra             0                    0\n2       2021-04-28      Andorra             0                  125\n3       2022-04-22      Andorra             0                  153\n4       2022-09-01      Andorra             0                  154\n...            ...          ...           ...                  ...\n227569  2021-12-04     Zimbabwe             1                 4710\n227570  2021-10-25     Zimbabwe             1                 4674\n227571  2022-01-09     Zimbabwe            20                 5180\n227572  2020-02-26      Estonia             0                    0\n227573  2020-01-25        Spain             0                    0\n\n[227574 rows x 4 columns]",
      "text/html": "<div>\n<style scoped>\n    .dataframe tbody tr th:only-of-type {\n        vertical-align: middle;\n    }\n\n    .dataframe tbody tr th {\n        vertical-align: top;\n    }\n\n    .dataframe thead th {\n        text-align: right;\n    }\n</style>\n<table border=\"1\" class=\"dataframe\">\n  <thead>\n    <tr style=\"text-align: right;\">\n      <th></th>\n      <th>date</th>\n      <th>country_name</th>\n      <th>new_deceased</th>\n      <th>cumulative_deceased</th>\n    </tr>\n  </thead>\n  <tbody>\n    <tr>\n      <th>0</th>\n      <td>2022-09-11</td>\n      <td>Andorra</td>\n      <td>0</td>\n      <td>155</td>\n    </tr>\n    <tr>\n      <th>1</th>\n      <td>2020-02-24</td>\n      <td>Andorra</td>\n      <td>0</td>\n      <td>0</td>\n    </tr>\n    <tr>\n      <th>2</th>\n      <td>2021-04-28</td>\n      <td>Andorra</td>\n      <td>0</td>\n      <td>125</td>\n    </tr>\n    <tr>\n      <th>3</th>\n      <td>2022-04-22</td>\n      <td>Andorra</td>\n      <td>0</td>\n      <td>153</td>\n    </tr>\n    <tr>\n      <th>4</th>\n      <td>2022-09-01</td>\n      <td>Andorra</td>\n      <td>0</td>\n      <td>154</td>\n    </tr>\n    <tr>\n      <th>...</th>\n      <td>...</td>\n      <td>...</td>\n      <td>...</td>\n      <td>...</td>\n    </tr>\n    <tr>\n      <th>227569</th>\n      <td>2021-12-04</td>\n      <td>Zimbabwe</td>\n      <td>1</td>\n      <td>4710</td>\n    </tr>\n    <tr>\n      <th>227570</th>\n      <td>2021-10-25</td>\n      <td>Zimbabwe</td>\n      <td>1</td>\n      <td>4674</td>\n    </tr>\n    <tr>\n      <th>227571</th>\n      <td>2022-01-09</td>\n      <td>Zimbabwe</td>\n      <td>20</td>\n      <td>5180</td>\n    </tr>\n    <tr>\n      <th>227572</th>\n      <td>2020-02-26</td>\n      <td>Estonia</td>\n      <td>0</td>\n      <td>0</td>\n    </tr>\n    <tr>\n      <th>227573</th>\n      <td>2020-01-25</td>\n      <td>Spain</td>\n      <td>0</td>\n      <td>0</td>\n    </tr>\n  </tbody>\n</table>\n<p>227574 rows × 4 columns</p>\n</div>"
     },
     "execution_count": 63,
     "metadata": {},
     "output_type": "execute_result"
    }
   ],
   "execution_count": 63
  },
  {
   "metadata": {},
   "cell_type": "markdown",
   "source": [
    " 4.4. Chcemy zaobserwować trendy i zależności dotyczące szczepień na COVID-19.\n",
    "\n"
   ],
   "id": "f578eccbb6508e4f"
  },
  {
   "metadata": {
    "ExecuteTime": {
     "end_time": "2025-03-20T22:05:41.443510700Z",
     "start_time": "2025-03-20T22:05:38.087501200Z"
    }
   },
   "cell_type": "code",
   "source": [
    "query = (\"\"\"\n",
    "SELECT \n",
    "    date,  \n",
    "    country_name, \n",
    "    new_persons_vaccinated, \n",
    "    cumulative_persons_vaccinated, \n",
    "    new_persons_fully_vaccinated, \n",
    "    cumulative_persons_fully_vaccinated, \n",
    "    new_vaccine_doses_administered, \n",
    "    cumulative_vaccine_doses_administered \n",
    "FROM `bigquery-public-data.covid19_open_data.covid19_open_data`\n",
    "WHERE \n",
    "    date IS NOT NULL AND  \n",
    "    country_name IS NOT NULL AND \n",
    "    new_persons_vaccinated IS NOT NULL AND \n",
    "    cumulative_persons_vaccinated IS NOT NULL AND \n",
    "    new_persons_fully_vaccinated IS NOT NULL AND \n",
    "    cumulative_persons_fully_vaccinated IS NOT NULL AND \n",
    "    new_vaccine_doses_administered IS NOT NULL AND \n",
    "    cumulative_vaccine_doses_administered IS NOT NULL AND\n",
    "    new_persons_vaccinated <= cumulative_persons_vaccinated AND\n",
    "    new_persons_fully_vaccinated <= cumulative_persons_fully_vaccinated AND\n",
    "    new_vaccine_doses_administered <= cumulative_vaccine_doses_administered AND\n",
    "    new_persons_vaccinated >= 0 AND\n",
    "    new_persons_fully_vaccinated >= 0 AND\n",
    "    new_vaccine_doses_administered >= 0 AND\n",
    "    cumulative_persons_vaccinated >= 0 AND\n",
    "    cumulative_persons_fully_vaccinated >= 0 AND\n",
    "    cumulative_vaccine_doses_administered >= 0\n",
    "    AND aggregation_level = 0\n",
    "\n",
    "    ;\n",
    "\n",
    "\"\"\")\n",
    "query_job = client.query(query)\n",
    "query_result = query_job.result()\n",
    "df4 = query_result.to_dataframe()\n",
    "df4.to_csv(\"covid_vaccination.csv\", index=False)\n",
    "df4"
   ],
   "id": "619effc60be4eac",
   "outputs": [
    {
     "data": {
      "text/plain": "             date          country_name  new_persons_vaccinated  \\\n0      2021-05-03               Andorra                     360   \n1      2021-04-05               Andorra                    2683   \n2      2021-11-10  United Arab Emirates                   10013   \n3      2022-09-12           Afghanistan                    3885   \n4      2022-03-02              Anguilla                      69   \n...           ...                   ...                     ...   \n47216  2021-11-30              Zimbabwe                   13363   \n47217  2022-05-23              Zimbabwe                    2669   \n47218  2021-05-08              Zimbabwe                    8852   \n47219  2022-03-15              Zimbabwe                    4345   \n47220  2022-06-22              Zimbabwe                    2475   \n\n       cumulative_persons_vaccinated  new_persons_fully_vaccinated  \\\n0                              24182                            18   \n1                               9781                          3219   \n2                            9771891                         10001   \n3                           10827184                          9432   \n4                              10439                            18   \n...                              ...                           ...   \n47216                        3795401                         12076   \n47217                        6225138                          5513   \n47218                         509272                          8224   \n47219                        4405342                          2840   \n47220                        6289811                          4973   \n\n       cumulative_persons_fully_vaccinated  new_vaccine_doses_administered  \\\n0                                     4699                             378   \n1                                     4484                            2829   \n2                                  8772943                           26974   \n3                                 10105500                            9447   \n4                                     9549                             212   \n...                                    ...                             ...   \n47216                              2816541                           25439   \n47217                              4480054                            9540   \n47218                               148544                           17076   \n47219                              3434337                           10885   \n47220                              4588340                           11366   \n\n       cumulative_vaccine_doses_administered  \n0                                      28881  \n1                                      15269  \n2                                   21404200  \n3                                   11734635  \n4                                      22377  \n...                                      ...  \n47216                                6611942  \n47217                               11527420  \n47218                                 657816  \n47219                                8013538  \n47220                               11761703  \n\n[47221 rows x 8 columns]",
      "text/html": "<div>\n<style scoped>\n    .dataframe tbody tr th:only-of-type {\n        vertical-align: middle;\n    }\n\n    .dataframe tbody tr th {\n        vertical-align: top;\n    }\n\n    .dataframe thead th {\n        text-align: right;\n    }\n</style>\n<table border=\"1\" class=\"dataframe\">\n  <thead>\n    <tr style=\"text-align: right;\">\n      <th></th>\n      <th>date</th>\n      <th>country_name</th>\n      <th>new_persons_vaccinated</th>\n      <th>cumulative_persons_vaccinated</th>\n      <th>new_persons_fully_vaccinated</th>\n      <th>cumulative_persons_fully_vaccinated</th>\n      <th>new_vaccine_doses_administered</th>\n      <th>cumulative_vaccine_doses_administered</th>\n    </tr>\n  </thead>\n  <tbody>\n    <tr>\n      <th>0</th>\n      <td>2021-05-03</td>\n      <td>Andorra</td>\n      <td>360</td>\n      <td>24182</td>\n      <td>18</td>\n      <td>4699</td>\n      <td>378</td>\n      <td>28881</td>\n    </tr>\n    <tr>\n      <th>1</th>\n      <td>2021-04-05</td>\n      <td>Andorra</td>\n      <td>2683</td>\n      <td>9781</td>\n      <td>3219</td>\n      <td>4484</td>\n      <td>2829</td>\n      <td>15269</td>\n    </tr>\n    <tr>\n      <th>2</th>\n      <td>2021-11-10</td>\n      <td>United Arab Emirates</td>\n      <td>10013</td>\n      <td>9771891</td>\n      <td>10001</td>\n      <td>8772943</td>\n      <td>26974</td>\n      <td>21404200</td>\n    </tr>\n    <tr>\n      <th>3</th>\n      <td>2022-09-12</td>\n      <td>Afghanistan</td>\n      <td>3885</td>\n      <td>10827184</td>\n      <td>9432</td>\n      <td>10105500</td>\n      <td>9447</td>\n      <td>11734635</td>\n    </tr>\n    <tr>\n      <th>4</th>\n      <td>2022-03-02</td>\n      <td>Anguilla</td>\n      <td>69</td>\n      <td>10439</td>\n      <td>18</td>\n      <td>9549</td>\n      <td>212</td>\n      <td>22377</td>\n    </tr>\n    <tr>\n      <th>...</th>\n      <td>...</td>\n      <td>...</td>\n      <td>...</td>\n      <td>...</td>\n      <td>...</td>\n      <td>...</td>\n      <td>...</td>\n      <td>...</td>\n    </tr>\n    <tr>\n      <th>47216</th>\n      <td>2021-11-30</td>\n      <td>Zimbabwe</td>\n      <td>13363</td>\n      <td>3795401</td>\n      <td>12076</td>\n      <td>2816541</td>\n      <td>25439</td>\n      <td>6611942</td>\n    </tr>\n    <tr>\n      <th>47217</th>\n      <td>2022-05-23</td>\n      <td>Zimbabwe</td>\n      <td>2669</td>\n      <td>6225138</td>\n      <td>5513</td>\n      <td>4480054</td>\n      <td>9540</td>\n      <td>11527420</td>\n    </tr>\n    <tr>\n      <th>47218</th>\n      <td>2021-05-08</td>\n      <td>Zimbabwe</td>\n      <td>8852</td>\n      <td>509272</td>\n      <td>8224</td>\n      <td>148544</td>\n      <td>17076</td>\n      <td>657816</td>\n    </tr>\n    <tr>\n      <th>47219</th>\n      <td>2022-03-15</td>\n      <td>Zimbabwe</td>\n      <td>4345</td>\n      <td>4405342</td>\n      <td>2840</td>\n      <td>3434337</td>\n      <td>10885</td>\n      <td>8013538</td>\n    </tr>\n    <tr>\n      <th>47220</th>\n      <td>2022-06-22</td>\n      <td>Zimbabwe</td>\n      <td>2475</td>\n      <td>6289811</td>\n      <td>4973</td>\n      <td>4588340</td>\n      <td>11366</td>\n      <td>11761703</td>\n    </tr>\n  </tbody>\n</table>\n<p>47221 rows × 8 columns</p>\n</div>"
     },
     "execution_count": 64,
     "metadata": {},
     "output_type": "execute_result"
    }
   ],
   "execution_count": 64
  },
  {
   "metadata": {},
   "cell_type": "markdown",
   "source": [
    " 4.5. Zdefiniuj własny dodatkowy przypadek. Chcemy dowiedzieć się ile jest pielęgniarek i lekarzy w poszczególnych krajach.\n",
    "\n"
   ],
   "id": "c1ae45f1bfc91f2a"
  },
  {
   "metadata": {
    "ExecuteTime": {
     "end_time": "2025-03-20T22:05:45.558370800Z",
     "start_time": "2025-03-20T22:05:41.443510700Z"
    }
   },
   "cell_type": "code",
   "source": [
    "query = (\"\"\"\n",
    "SELECT \n",
    "    date,  \n",
    "    country_name, \n",
    "    nurses_per_1000,\n",
    "    physicians_per_1000\n",
    "FROM `bigquery-public-data.covid19_open_data.covid19_open_data`\n",
    "WHERE \n",
    "    date IS NOT NULL AND  \n",
    "    country_name IS NOT NULL AND \n",
    "    nurses_per_1000 >= 0 AND\n",
    "    physicians_per_1000 >= 0 AND\n",
    "    aggregation_level = 0\n",
    "    ;\n",
    "\"\"\")\n",
    "query_job = client.query(query)\n",
    "query_result = query_job.result()\n",
    "df5 = query_result.to_dataframe()\n",
    "df5.to_csv(\"covid_vaccination.csv\", index=False)\n",
    "df5"
   ],
   "id": "126fdee5e338619a",
   "outputs": [
    {
     "data": {
      "text/plain": "              date country_name  nurses_per_1000  physicians_per_1000\n0       2020-10-20  Afghanistan           0.1755               0.2782\n1       2020-12-23  Afghanistan           0.1755               0.2782\n2       2021-11-06  Afghanistan           0.1755               0.2782\n3       2020-10-27  Afghanistan           0.1755               0.2782\n4       2021-08-03  Afghanistan           0.1755               0.2782\n...            ...          ...              ...                  ...\n162519  2021-08-12     Zimbabwe           1.9346               0.2096\n162520  2021-06-19     Zimbabwe           1.9346               0.2096\n162521  2022-02-12     Zimbabwe           1.9346               0.2096\n162522  2021-11-22     Zimbabwe           1.9346               0.2096\n162523  2021-01-09     Zimbabwe           1.9346               0.2096\n\n[162524 rows x 4 columns]",
      "text/html": "<div>\n<style scoped>\n    .dataframe tbody tr th:only-of-type {\n        vertical-align: middle;\n    }\n\n    .dataframe tbody tr th {\n        vertical-align: top;\n    }\n\n    .dataframe thead th {\n        text-align: right;\n    }\n</style>\n<table border=\"1\" class=\"dataframe\">\n  <thead>\n    <tr style=\"text-align: right;\">\n      <th></th>\n      <th>date</th>\n      <th>country_name</th>\n      <th>nurses_per_1000</th>\n      <th>physicians_per_1000</th>\n    </tr>\n  </thead>\n  <tbody>\n    <tr>\n      <th>0</th>\n      <td>2020-10-20</td>\n      <td>Afghanistan</td>\n      <td>0.1755</td>\n      <td>0.2782</td>\n    </tr>\n    <tr>\n      <th>1</th>\n      <td>2020-12-23</td>\n      <td>Afghanistan</td>\n      <td>0.1755</td>\n      <td>0.2782</td>\n    </tr>\n    <tr>\n      <th>2</th>\n      <td>2021-11-06</td>\n      <td>Afghanistan</td>\n      <td>0.1755</td>\n      <td>0.2782</td>\n    </tr>\n    <tr>\n      <th>3</th>\n      <td>2020-10-27</td>\n      <td>Afghanistan</td>\n      <td>0.1755</td>\n      <td>0.2782</td>\n    </tr>\n    <tr>\n      <th>4</th>\n      <td>2021-08-03</td>\n      <td>Afghanistan</td>\n      <td>0.1755</td>\n      <td>0.2782</td>\n    </tr>\n    <tr>\n      <th>...</th>\n      <td>...</td>\n      <td>...</td>\n      <td>...</td>\n      <td>...</td>\n    </tr>\n    <tr>\n      <th>162519</th>\n      <td>2021-08-12</td>\n      <td>Zimbabwe</td>\n      <td>1.9346</td>\n      <td>0.2096</td>\n    </tr>\n    <tr>\n      <th>162520</th>\n      <td>2021-06-19</td>\n      <td>Zimbabwe</td>\n      <td>1.9346</td>\n      <td>0.2096</td>\n    </tr>\n    <tr>\n      <th>162521</th>\n      <td>2022-02-12</td>\n      <td>Zimbabwe</td>\n      <td>1.9346</td>\n      <td>0.2096</td>\n    </tr>\n    <tr>\n      <th>162522</th>\n      <td>2021-11-22</td>\n      <td>Zimbabwe</td>\n      <td>1.9346</td>\n      <td>0.2096</td>\n    </tr>\n    <tr>\n      <th>162523</th>\n      <td>2021-01-09</td>\n      <td>Zimbabwe</td>\n      <td>1.9346</td>\n      <td>0.2096</td>\n    </tr>\n  </tbody>\n</table>\n<p>162524 rows × 4 columns</p>\n</div>"
     },
     "execution_count": 65,
     "metadata": {},
     "output_type": "execute_result"
    }
   ],
   "execution_count": 65
  },
  {
   "cell_type": "markdown",
   "source": [
    "## Część 5\n",
    "Połącz ze sobą wszystkie dane otrzymane w części 4. Nowy zbiór danych zapisz jako oddzielny obiekt DataFrame. Jeżeli uważasz, że należy stworzyć kilka takich obiektów, zrób to i zapisz swoje uzasadnienie. Pamiętaj o ciągłej konieczności zachowania czystości danych. Wynik tego zadania zapisz w pliku / plikach CSV."
   ],
   "metadata": {
    "collapsed": false
   },
   "id": "257d0d71eed86121"
  },
  {
   "cell_type": "code",
   "source": [
    "merged_df = df1.merge(df2, on=[\"country_name\", \"date\"], how=\"inner\")\n",
    "merged_df = merged_df.merge(df3, on=[\"country_name\", \"date\"], how=\"inner\")\n",
    "merged_df = merged_df.merge(df4, on=[\"country_name\", \"date\"], how=\"inner\")\n",
    "merged_df = merged_df.merge(df5, on=[\"country_name\", \"date\"], how=\"inner\")\n",
    "merged_df = merged_df.dropna()\n",
    "merged_df.to_csv(\"covid_combined_data.csv\", index=False)\n",
    "merged_df"
   ],
   "metadata": {
    "collapsed": false,
    "ExecuteTime": {
     "end_time": "2025-03-20T22:05:46.263960500Z",
     "start_time": "2025-03-20T22:05:45.558370800Z"
    }
   },
   "id": "ea93b7fa96bcfe6a",
   "outputs": [
    {
     "data": {
      "text/plain": "      country_code        date              country_name iso_3166_1_alpha_2  \\\n0               MZ  2021-07-19                Mozambique                 MZ   \n1               MZ  2021-08-03                Mozambique                 MZ   \n2               MZ  2021-08-25                Mozambique                 MZ   \n3               MZ  2021-06-24                Mozambique                 MZ   \n4               MZ  2021-09-14                Mozambique                 MZ   \n...            ...         ...                       ...                ...   \n23110           US  2021-06-09  United States of America                 US   \n23111           US  2021-03-30  United States of America                 US   \n23112           US  2021-01-14  United States of America                 US   \n23113           US  2021-10-26  United States of America                 US   \n23114           US  2021-04-02  United States of America                 US   \n\n      iso_3166_1_alpha_3  population  population_male  population_female  \\\n0                    MOZ    31255435         15188235           16067200   \n1                    MOZ    31255435         15188235           16067200   \n2                    MOZ    31255435         15188235           16067200   \n3                    MOZ    31255435         15188235           16067200   \n4                    MOZ    31255435         15188235           16067200   \n...                  ...         ...              ...                ...   \n23110                USA   331002647        163786016          167216631   \n23111                USA   331002647        163786016          167216631   \n23112                USA   331002647        163786016          167216631   \n23113                USA   331002647        163786016          167216631   \n23114                USA   331002647        163786016          167216631   \n\n       population_density  human_development_index  ...  new_deceased  \\\n0                  39.746                    0.437  ...            20   \n1                  39.746                    0.437  ...            26   \n2                  39.746                    0.437  ...             3   \n3                  39.746                    0.437  ...             2   \n4                  39.746                    0.437  ...             3   \n...                   ...                      ...  ...           ...   \n23110              36.185                    0.920  ...           366   \n23111              36.185                    0.920  ...           659   \n23112              36.185                    0.920  ...          3643   \n23113              36.185                    0.920  ...          2005   \n23114              36.185                    0.920  ...           778   \n\n       cumulative_deceased  new_persons_vaccinated  \\\n0                     1158                   17513   \n1                     1526                   22149   \n2                     1825                  727346   \n3                      865                   21578   \n4                     1898                  260210   \n...                    ...                     ...   \n23110               565048                  393095   \n23111               525030                 2005987   \n23112               379978                 1157564   \n23113               708915                  295925   \n23114               527487                 2039136   \n\n       cumulative_persons_vaccinated  new_persons_fully_vaccinated  \\\n0                             372085                        145639   \n1                             394234                          1587   \n2                            1643520                         82936   \n3                             341707                         21874   \n4                            1903730                        978323   \n...                              ...                           ...   \n23110                      177060408                        538153   \n23111                      106208785                        809255   \n23112                       14296098                        136781   \n23113                      220645590                         93310   \n23114                      113170743                       1895171   \n\n       cumulative_persons_fully_vaccinated  new_vaccine_doses_administered  \\\n0                                   299251                          163152   \n1                                   320542                           23736   \n2                                   654322                          433613   \n3                                    96675                           43452   \n4                                  1740693                         1238533   \n...                                    ...                             ...   \n23110                            140980110                         1171970   \n23111                             53423486                         3583688   \n23112                              2262911                         1319739   \n23113                            190793100                         1569375   \n23114                             57984785                         3635598   \n\n       cumulative_vaccine_doses_administered  nurses_per_1000_y  \\\n0                                     671336             0.6847   \n1                                     714776             0.6847   \n2                                    2297842             0.6847   \n3                                     438382             0.6847   \n4                                    3644423             0.6847   \n...                                      ...                ...   \n23110                              323330247            14.5480   \n23111                              167899966            14.5480   \n23112                               16888720            14.5480   \n23113                              425197648            14.5480   \n23114                              180258776            14.5480   \n\n       physicians_per_1000_y  \n0                     0.0838  \n1                     0.0838  \n2                     0.0838  \n3                     0.0838  \n4                     0.0838  \n...                      ...  \n23110                 2.6120  \n23111                 2.6120  \n23112                 2.6120  \n23113                 2.6120  \n23114                 2.6120  \n\n[23115 rows x 33 columns]",
      "text/html": "<div>\n<style scoped>\n    .dataframe tbody tr th:only-of-type {\n        vertical-align: middle;\n    }\n\n    .dataframe tbody tr th {\n        vertical-align: top;\n    }\n\n    .dataframe thead th {\n        text-align: right;\n    }\n</style>\n<table border=\"1\" class=\"dataframe\">\n  <thead>\n    <tr style=\"text-align: right;\">\n      <th></th>\n      <th>country_code</th>\n      <th>date</th>\n      <th>country_name</th>\n      <th>iso_3166_1_alpha_2</th>\n      <th>iso_3166_1_alpha_3</th>\n      <th>population</th>\n      <th>population_male</th>\n      <th>population_female</th>\n      <th>population_density</th>\n      <th>human_development_index</th>\n      <th>...</th>\n      <th>new_deceased</th>\n      <th>cumulative_deceased</th>\n      <th>new_persons_vaccinated</th>\n      <th>cumulative_persons_vaccinated</th>\n      <th>new_persons_fully_vaccinated</th>\n      <th>cumulative_persons_fully_vaccinated</th>\n      <th>new_vaccine_doses_administered</th>\n      <th>cumulative_vaccine_doses_administered</th>\n      <th>nurses_per_1000_y</th>\n      <th>physicians_per_1000_y</th>\n    </tr>\n  </thead>\n  <tbody>\n    <tr>\n      <th>0</th>\n      <td>MZ</td>\n      <td>2021-07-19</td>\n      <td>Mozambique</td>\n      <td>MZ</td>\n      <td>MOZ</td>\n      <td>31255435</td>\n      <td>15188235</td>\n      <td>16067200</td>\n      <td>39.746</td>\n      <td>0.437</td>\n      <td>...</td>\n      <td>20</td>\n      <td>1158</td>\n      <td>17513</td>\n      <td>372085</td>\n      <td>145639</td>\n      <td>299251</td>\n      <td>163152</td>\n      <td>671336</td>\n      <td>0.6847</td>\n      <td>0.0838</td>\n    </tr>\n    <tr>\n      <th>1</th>\n      <td>MZ</td>\n      <td>2021-08-03</td>\n      <td>Mozambique</td>\n      <td>MZ</td>\n      <td>MOZ</td>\n      <td>31255435</td>\n      <td>15188235</td>\n      <td>16067200</td>\n      <td>39.746</td>\n      <td>0.437</td>\n      <td>...</td>\n      <td>26</td>\n      <td>1526</td>\n      <td>22149</td>\n      <td>394234</td>\n      <td>1587</td>\n      <td>320542</td>\n      <td>23736</td>\n      <td>714776</td>\n      <td>0.6847</td>\n      <td>0.0838</td>\n    </tr>\n    <tr>\n      <th>2</th>\n      <td>MZ</td>\n      <td>2021-08-25</td>\n      <td>Mozambique</td>\n      <td>MZ</td>\n      <td>MOZ</td>\n      <td>31255435</td>\n      <td>15188235</td>\n      <td>16067200</td>\n      <td>39.746</td>\n      <td>0.437</td>\n      <td>...</td>\n      <td>3</td>\n      <td>1825</td>\n      <td>727346</td>\n      <td>1643520</td>\n      <td>82936</td>\n      <td>654322</td>\n      <td>433613</td>\n      <td>2297842</td>\n      <td>0.6847</td>\n      <td>0.0838</td>\n    </tr>\n    <tr>\n      <th>3</th>\n      <td>MZ</td>\n      <td>2021-06-24</td>\n      <td>Mozambique</td>\n      <td>MZ</td>\n      <td>MOZ</td>\n      <td>31255435</td>\n      <td>15188235</td>\n      <td>16067200</td>\n      <td>39.746</td>\n      <td>0.437</td>\n      <td>...</td>\n      <td>2</td>\n      <td>865</td>\n      <td>21578</td>\n      <td>341707</td>\n      <td>21874</td>\n      <td>96675</td>\n      <td>43452</td>\n      <td>438382</td>\n      <td>0.6847</td>\n      <td>0.0838</td>\n    </tr>\n    <tr>\n      <th>4</th>\n      <td>MZ</td>\n      <td>2021-09-14</td>\n      <td>Mozambique</td>\n      <td>MZ</td>\n      <td>MOZ</td>\n      <td>31255435</td>\n      <td>15188235</td>\n      <td>16067200</td>\n      <td>39.746</td>\n      <td>0.437</td>\n      <td>...</td>\n      <td>3</td>\n      <td>1898</td>\n      <td>260210</td>\n      <td>1903730</td>\n      <td>978323</td>\n      <td>1740693</td>\n      <td>1238533</td>\n      <td>3644423</td>\n      <td>0.6847</td>\n      <td>0.0838</td>\n    </tr>\n    <tr>\n      <th>...</th>\n      <td>...</td>\n      <td>...</td>\n      <td>...</td>\n      <td>...</td>\n      <td>...</td>\n      <td>...</td>\n      <td>...</td>\n      <td>...</td>\n      <td>...</td>\n      <td>...</td>\n      <td>...</td>\n      <td>...</td>\n      <td>...</td>\n      <td>...</td>\n      <td>...</td>\n      <td>...</td>\n      <td>...</td>\n      <td>...</td>\n      <td>...</td>\n      <td>...</td>\n      <td>...</td>\n    </tr>\n    <tr>\n      <th>23110</th>\n      <td>US</td>\n      <td>2021-06-09</td>\n      <td>United States of America</td>\n      <td>US</td>\n      <td>USA</td>\n      <td>331002647</td>\n      <td>163786016</td>\n      <td>167216631</td>\n      <td>36.185</td>\n      <td>0.920</td>\n      <td>...</td>\n      <td>366</td>\n      <td>565048</td>\n      <td>393095</td>\n      <td>177060408</td>\n      <td>538153</td>\n      <td>140980110</td>\n      <td>1171970</td>\n      <td>323330247</td>\n      <td>14.5480</td>\n      <td>2.6120</td>\n    </tr>\n    <tr>\n      <th>23111</th>\n      <td>US</td>\n      <td>2021-03-30</td>\n      <td>United States of America</td>\n      <td>US</td>\n      <td>USA</td>\n      <td>331002647</td>\n      <td>163786016</td>\n      <td>167216631</td>\n      <td>36.185</td>\n      <td>0.920</td>\n      <td>...</td>\n      <td>659</td>\n      <td>525030</td>\n      <td>2005987</td>\n      <td>106208785</td>\n      <td>809255</td>\n      <td>53423486</td>\n      <td>3583688</td>\n      <td>167899966</td>\n      <td>14.5480</td>\n      <td>2.6120</td>\n    </tr>\n    <tr>\n      <th>23112</th>\n      <td>US</td>\n      <td>2021-01-14</td>\n      <td>United States of America</td>\n      <td>US</td>\n      <td>USA</td>\n      <td>331002647</td>\n      <td>163786016</td>\n      <td>167216631</td>\n      <td>36.185</td>\n      <td>0.920</td>\n      <td>...</td>\n      <td>3643</td>\n      <td>379978</td>\n      <td>1157564</td>\n      <td>14296098</td>\n      <td>136781</td>\n      <td>2262911</td>\n      <td>1319739</td>\n      <td>16888720</td>\n      <td>14.5480</td>\n      <td>2.6120</td>\n    </tr>\n    <tr>\n      <th>23113</th>\n      <td>US</td>\n      <td>2021-10-26</td>\n      <td>United States of America</td>\n      <td>US</td>\n      <td>USA</td>\n      <td>331002647</td>\n      <td>163786016</td>\n      <td>167216631</td>\n      <td>36.185</td>\n      <td>0.920</td>\n      <td>...</td>\n      <td>2005</td>\n      <td>708915</td>\n      <td>295925</td>\n      <td>220645590</td>\n      <td>93310</td>\n      <td>190793100</td>\n      <td>1569375</td>\n      <td>425197648</td>\n      <td>14.5480</td>\n      <td>2.6120</td>\n    </tr>\n    <tr>\n      <th>23114</th>\n      <td>US</td>\n      <td>2021-04-02</td>\n      <td>United States of America</td>\n      <td>US</td>\n      <td>USA</td>\n      <td>331002647</td>\n      <td>163786016</td>\n      <td>167216631</td>\n      <td>36.185</td>\n      <td>0.920</td>\n      <td>...</td>\n      <td>778</td>\n      <td>527487</td>\n      <td>2039136</td>\n      <td>113170743</td>\n      <td>1895171</td>\n      <td>57984785</td>\n      <td>3635598</td>\n      <td>180258776</td>\n      <td>14.5480</td>\n      <td>2.6120</td>\n    </tr>\n  </tbody>\n</table>\n<p>23115 rows × 33 columns</p>\n</div>"
     },
     "execution_count": 66,
     "metadata": {},
     "output_type": "execute_result"
    }
   ],
   "execution_count": 66
  },
  {
   "cell_type": "markdown",
   "source": [
    "## Część 6\n",
    "Połącz ze sobą dane otrzymane w części 5 oraz dane znajdujące się w plikach"
   ],
   "metadata": {
    "collapsed": false
   },
   "id": "67f241c5ad4f3162"
  },
  {
   "cell_type": "code",
   "source": [
    "world_countries = pd.read_csv(\"world_countries.csv\")\n",
    "world_countries = world_countries.rename(columns={\"CCA3\": \"iso_3166_1_alpha_3\", \"Country/Territories\": \"country_name\", \"Area (km²)\": \"area_sq_km\", \"Density (per km²)\": \"population_density\"})\n",
    "\n",
    "gdp = pd.read_csv(\"GDP.csv\")\n",
    "gdp = gdp.rename(columns={\"Country Code\": \"iso_3166_1_alpha_3\", \"Country Name\": \"country_name\", \"Value\": \"gdp_usd\", \"Year\":\"year\"})\n",
    "merged_df[\"year\"] = pd.to_datetime(merged_df[\"date\"]).dt.year\n",
    "merged_df2 = merged_df.merge(world_countries, on=\"iso_3166_1_alpha_3\", how=\"inner\")\n",
    "merged_df2 = merged_df2.merge(gdp, on=[\"iso_3166_1_alpha_3\",\"year\"], how=\"inner\")\n",
    "merged_df2\n",
    "# nie rozumiem troche, imo bez sensu mergowac to z tymi calymi danymi koncowymi z 5, a w GDP country name to wgl nazwa kraju lub regionu wiec troche xd"
   ],
   "metadata": {
    "collapsed": false,
    "ExecuteTime": {
     "end_time": "2025-03-20T22:06:35.816944900Z",
     "start_time": "2025-03-20T22:06:35.680700700Z"
    }
   },
   "id": "818bf973d0f22b53",
   "outputs": [
    {
     "data": {
      "text/plain": "Empty DataFrame\nColumns: [country_code, date, country_name_x, iso_3166_1_alpha_2, iso_3166_1_alpha_3, population, population_male, population_female, population_density_x, human_development_index, gdp_usd_x, gdp_per_capita_usd, latitude, longitude, area_sq_km_x, nurses_per_1000_x, physicians_per_1000_x, health_expenditure_usd, out_of_pocket_health_expenditure_usd, new_confirmed, cumulative_confirmed, new_tested, cumulative_tested, new_deceased, cumulative_deceased, new_persons_vaccinated, cumulative_persons_vaccinated, new_persons_fully_vaccinated, cumulative_persons_fully_vaccinated, new_vaccine_doses_administered, cumulative_vaccine_doses_administered, nurses_per_1000_y, physicians_per_1000_y, year, Rank, Country/Territory, Capital, Continent, 2022 Population, 2020 Population, 2015 Population, 2010 Population, 2000 Population, 1990 Population, 1980 Population, 1970 Population, area_sq_km_y, population_density_y, Growth Rate, World Population Percentage, country_name_y, gdp_usd_y]\nIndex: []\n\n[0 rows x 52 columns]",
      "text/html": "<div>\n<style scoped>\n    .dataframe tbody tr th:only-of-type {\n        vertical-align: middle;\n    }\n\n    .dataframe tbody tr th {\n        vertical-align: top;\n    }\n\n    .dataframe thead th {\n        text-align: right;\n    }\n</style>\n<table border=\"1\" class=\"dataframe\">\n  <thead>\n    <tr style=\"text-align: right;\">\n      <th></th>\n      <th>country_code</th>\n      <th>date</th>\n      <th>country_name_x</th>\n      <th>iso_3166_1_alpha_2</th>\n      <th>iso_3166_1_alpha_3</th>\n      <th>population</th>\n      <th>population_male</th>\n      <th>population_female</th>\n      <th>population_density_x</th>\n      <th>human_development_index</th>\n      <th>...</th>\n      <th>2000 Population</th>\n      <th>1990 Population</th>\n      <th>1980 Population</th>\n      <th>1970 Population</th>\n      <th>area_sq_km_y</th>\n      <th>population_density_y</th>\n      <th>Growth Rate</th>\n      <th>World Population Percentage</th>\n      <th>country_name_y</th>\n      <th>gdp_usd_y</th>\n    </tr>\n  </thead>\n  <tbody>\n  </tbody>\n</table>\n<p>0 rows × 52 columns</p>\n</div>"
     },
     "execution_count": 68,
     "metadata": {},
     "output_type": "execute_result"
    }
   ],
   "execution_count": 68
  }
 ],
 "metadata": {
  "kernelspec": {
   "display_name": "Python 3",
   "language": "python",
   "name": "python3"
  },
  "language_info": {
   "codemirror_mode": {
    "name": "ipython",
    "version": 2
   },
   "file_extension": ".py",
   "mimetype": "text/x-python",
   "name": "python",
   "nbconvert_exporter": "python",
   "pygments_lexer": "ipython2",
   "version": "2.7.6"
  }
 },
 "nbformat": 4,
 "nbformat_minor": 5
}
