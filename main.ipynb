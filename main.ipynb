{
 "cells": [
  {
   "metadata": {},
   "cell_type": "markdown",
   "source": "## Część 2",
   "id": "fb6508acd958806b"
  },
  {
   "cell_type": "code",
   "id": "initial_id",
   "metadata": {
    "collapsed": true,
    "ExecuteTime": {
     "end_time": "2025-03-20T12:44:49.841307Z",
     "start_time": "2025-03-20T12:44:23.269296Z"
    }
   },
   "source": [
    "import os\n",
    "import pandas as pd\n",
    "from google.cloud import bigquery\n",
    "os.environ[\"GOOGLE_APPLICATION_CREDENTIALS\"]=\"secret.json\" # lokalizacja pobranego klucza z punktu 1.4.\n",
    "client = bigquery.Client()\n",
    "query = ('select * from bigquery-public-data.covid19_open_data.covid19_open_data limit 10')\n",
    "query_job = client.query(query)\n",
    "query_result = query_job.result()\n",
    "df1 = query_result.to_dataframe()\n",
    "df1"
   ],
   "outputs": [
    {
     "name": "stderr",
     "output_type": "stream",
     "text": [
      "E:\\Python Projekty\\BigData1\\.venv\\Lib\\site-packages\\google\\cloud\\bigquery\\table.py:1900: UserWarning: BigQuery Storage module not found, fetch data with the REST endpoint instead.\n",
      "  warnings.warn(\n"
     ]
    },
    {
     "data": {
      "text/plain": [
       "  location_key        date                     place_id wikidata_id  \\\n",
       "0           RO  2021-11-01  ChIJw3aJlSb_sUARlLEEqJJP74Q        Q218   \n",
       "1           RO  2022-03-09  ChIJw3aJlSb_sUARlLEEqJJP74Q        Q218   \n",
       "2           RO  2021-09-08  ChIJw3aJlSb_sUARlLEEqJJP74Q        Q218   \n",
       "3           RO  2020-07-16  ChIJw3aJlSb_sUARlLEEqJJP74Q        Q218   \n",
       "4           RO  2020-04-04  ChIJw3aJlSb_sUARlLEEqJJP74Q        Q218   \n",
       "5           RO  2021-09-13  ChIJw3aJlSb_sUARlLEEqJJP74Q        Q218   \n",
       "6           RO  2020-07-10  ChIJw3aJlSb_sUARlLEEqJJP74Q        Q218   \n",
       "7           RO  2022-02-08  ChIJw3aJlSb_sUARlLEEqJJP74Q        Q218   \n",
       "8        US_AK  2021-02-21  ChIJG8CuwJzfAFQRNduKqSde27w        Q797   \n",
       "9        US_AK  2021-01-10  ChIJG8CuwJzfAFQRNduKqSde27w        Q797   \n",
       "\n",
       "  datacommons_id country_code              country_name iso_3166_1_alpha_2  \\\n",
       "0    country/ROU           RO                   Romania                 RO   \n",
       "1    country/ROU           RO                   Romania                 RO   \n",
       "2    country/ROU           RO                   Romania                 RO   \n",
       "3    country/ROU           RO                   Romania                 RO   \n",
       "4    country/ROU           RO                   Romania                 RO   \n",
       "5    country/ROU           RO                   Romania                 RO   \n",
       "6    country/ROU           RO                   Romania                 RO   \n",
       "7    country/ROU           RO                   Romania                 RO   \n",
       "8       geoId/02           US  United States of America                 US   \n",
       "9       geoId/02           US  United States of America                 US   \n",
       "\n",
       "  iso_3166_1_alpha_3  aggregation_level  ...  \\\n",
       "0                ROU                  0  ...   \n",
       "1                ROU                  0  ...   \n",
       "2                ROU                  0  ...   \n",
       "3                ROU                  0  ...   \n",
       "4                ROU                  0  ...   \n",
       "5                ROU                  0  ...   \n",
       "6                ROU                  0  ...   \n",
       "7                ROU                  0  ...   \n",
       "8                USA                  1  ...   \n",
       "9                USA                  1  ...   \n",
       "\n",
       "   cumulative_vaccine_doses_administered_pfizer  \\\n",
       "0                                          <NA>   \n",
       "1                                          <NA>   \n",
       "2                                          <NA>   \n",
       "3                                          <NA>   \n",
       "4                                          <NA>   \n",
       "5                                          <NA>   \n",
       "6                                          <NA>   \n",
       "7                                          <NA>   \n",
       "8                                          <NA>   \n",
       "9                                          <NA>   \n",
       "\n",
       "   new_persons_fully_vaccinated_moderna  \\\n",
       "0                                  <NA>   \n",
       "1                                  <NA>   \n",
       "2                                  <NA>   \n",
       "3                                  <NA>   \n",
       "4                                  <NA>   \n",
       "5                                  <NA>   \n",
       "6                                  <NA>   \n",
       "7                                  <NA>   \n",
       "8                                  <NA>   \n",
       "9                                  <NA>   \n",
       "\n",
       "   cumulative_persons_fully_vaccinated_moderna  \\\n",
       "0                                         <NA>   \n",
       "1                                         <NA>   \n",
       "2                                         <NA>   \n",
       "3                                         <NA>   \n",
       "4                                         <NA>   \n",
       "5                                         <NA>   \n",
       "6                                         <NA>   \n",
       "7                                         <NA>   \n",
       "8                                         <NA>   \n",
       "9                                         <NA>   \n",
       "\n",
       "   new_vaccine_doses_administered_moderna  \\\n",
       "0                                    <NA>   \n",
       "1                                    <NA>   \n",
       "2                                    <NA>   \n",
       "3                                    <NA>   \n",
       "4                                    <NA>   \n",
       "5                                    <NA>   \n",
       "6                                    <NA>   \n",
       "7                                    <NA>   \n",
       "8                                    <NA>   \n",
       "9                                    <NA>   \n",
       "\n",
       "   cumulative_vaccine_doses_administered_moderna  \\\n",
       "0                                           <NA>   \n",
       "1                                           <NA>   \n",
       "2                                           <NA>   \n",
       "3                                           <NA>   \n",
       "4                                           <NA>   \n",
       "5                                           <NA>   \n",
       "6                                           <NA>   \n",
       "7                                           <NA>   \n",
       "8                                           <NA>   \n",
       "9                                           <NA>   \n",
       "\n",
       "   new_persons_fully_vaccinated_janssen  \\\n",
       "0                                  <NA>   \n",
       "1                                  <NA>   \n",
       "2                                  <NA>   \n",
       "3                                  <NA>   \n",
       "4                                  <NA>   \n",
       "5                                  <NA>   \n",
       "6                                  <NA>   \n",
       "7                                  <NA>   \n",
       "8                                  <NA>   \n",
       "9                                  <NA>   \n",
       "\n",
       "   cumulative_persons_fully_vaccinated_janssen  \\\n",
       "0                                         <NA>   \n",
       "1                                         <NA>   \n",
       "2                                         <NA>   \n",
       "3                                         <NA>   \n",
       "4                                         <NA>   \n",
       "5                                         <NA>   \n",
       "6                                         <NA>   \n",
       "7                                         <NA>   \n",
       "8                                         <NA>   \n",
       "9                                         <NA>   \n",
       "\n",
       "   new_vaccine_doses_administered_janssen  \\\n",
       "0                                    <NA>   \n",
       "1                                    <NA>   \n",
       "2                                    <NA>   \n",
       "3                                    <NA>   \n",
       "4                                    <NA>   \n",
       "5                                    <NA>   \n",
       "6                                    <NA>   \n",
       "7                                    <NA>   \n",
       "8                                    <NA>   \n",
       "9                                    <NA>   \n",
       "\n",
       "   cumulative_vaccine_doses_administered_janssen  location_geometry  \n",
       "0                                           <NA>       POINT(25 46)  \n",
       "1                                           <NA>       POINT(25 46)  \n",
       "2                                           <NA>       POINT(25 46)  \n",
       "3                                           <NA>       POINT(25 46)  \n",
       "4                                           <NA>       POINT(25 46)  \n",
       "5                                           <NA>       POINT(25 46)  \n",
       "6                                           <NA>       POINT(25 46)  \n",
       "7                                           <NA>       POINT(25 46)  \n",
       "8                                           <NA>     POINT(-150 64)  \n",
       "9                                           <NA>     POINT(-150 64)  \n",
       "\n",
       "[10 rows x 701 columns]"
      ],
      "text/html": [
       "<div>\n",
       "<style scoped>\n",
       "    .dataframe tbody tr th:only-of-type {\n",
       "        vertical-align: middle;\n",
       "    }\n",
       "\n",
       "    .dataframe tbody tr th {\n",
       "        vertical-align: top;\n",
       "    }\n",
       "\n",
       "    .dataframe thead th {\n",
       "        text-align: right;\n",
       "    }\n",
       "</style>\n",
       "<table border=\"1\" class=\"dataframe\">\n",
       "  <thead>\n",
       "    <tr style=\"text-align: right;\">\n",
       "      <th></th>\n",
       "      <th>location_key</th>\n",
       "      <th>date</th>\n",
       "      <th>place_id</th>\n",
       "      <th>wikidata_id</th>\n",
       "      <th>datacommons_id</th>\n",
       "      <th>country_code</th>\n",
       "      <th>country_name</th>\n",
       "      <th>iso_3166_1_alpha_2</th>\n",
       "      <th>iso_3166_1_alpha_3</th>\n",
       "      <th>aggregation_level</th>\n",
       "      <th>...</th>\n",
       "      <th>cumulative_vaccine_doses_administered_pfizer</th>\n",
       "      <th>new_persons_fully_vaccinated_moderna</th>\n",
       "      <th>cumulative_persons_fully_vaccinated_moderna</th>\n",
       "      <th>new_vaccine_doses_administered_moderna</th>\n",
       "      <th>cumulative_vaccine_doses_administered_moderna</th>\n",
       "      <th>new_persons_fully_vaccinated_janssen</th>\n",
       "      <th>cumulative_persons_fully_vaccinated_janssen</th>\n",
       "      <th>new_vaccine_doses_administered_janssen</th>\n",
       "      <th>cumulative_vaccine_doses_administered_janssen</th>\n",
       "      <th>location_geometry</th>\n",
       "    </tr>\n",
       "  </thead>\n",
       "  <tbody>\n",
       "    <tr>\n",
       "      <th>0</th>\n",
       "      <td>RO</td>\n",
       "      <td>2021-11-01</td>\n",
       "      <td>ChIJw3aJlSb_sUARlLEEqJJP74Q</td>\n",
       "      <td>Q218</td>\n",
       "      <td>country/ROU</td>\n",
       "      <td>RO</td>\n",
       "      <td>Romania</td>\n",
       "      <td>RO</td>\n",
       "      <td>ROU</td>\n",
       "      <td>0</td>\n",
       "      <td>...</td>\n",
       "      <td>&lt;NA&gt;</td>\n",
       "      <td>&lt;NA&gt;</td>\n",
       "      <td>&lt;NA&gt;</td>\n",
       "      <td>&lt;NA&gt;</td>\n",
       "      <td>&lt;NA&gt;</td>\n",
       "      <td>&lt;NA&gt;</td>\n",
       "      <td>&lt;NA&gt;</td>\n",
       "      <td>&lt;NA&gt;</td>\n",
       "      <td>&lt;NA&gt;</td>\n",
       "      <td>POINT(25 46)</td>\n",
       "    </tr>\n",
       "    <tr>\n",
       "      <th>1</th>\n",
       "      <td>RO</td>\n",
       "      <td>2022-03-09</td>\n",
       "      <td>ChIJw3aJlSb_sUARlLEEqJJP74Q</td>\n",
       "      <td>Q218</td>\n",
       "      <td>country/ROU</td>\n",
       "      <td>RO</td>\n",
       "      <td>Romania</td>\n",
       "      <td>RO</td>\n",
       "      <td>ROU</td>\n",
       "      <td>0</td>\n",
       "      <td>...</td>\n",
       "      <td>&lt;NA&gt;</td>\n",
       "      <td>&lt;NA&gt;</td>\n",
       "      <td>&lt;NA&gt;</td>\n",
       "      <td>&lt;NA&gt;</td>\n",
       "      <td>&lt;NA&gt;</td>\n",
       "      <td>&lt;NA&gt;</td>\n",
       "      <td>&lt;NA&gt;</td>\n",
       "      <td>&lt;NA&gt;</td>\n",
       "      <td>&lt;NA&gt;</td>\n",
       "      <td>POINT(25 46)</td>\n",
       "    </tr>\n",
       "    <tr>\n",
       "      <th>2</th>\n",
       "      <td>RO</td>\n",
       "      <td>2021-09-08</td>\n",
       "      <td>ChIJw3aJlSb_sUARlLEEqJJP74Q</td>\n",
       "      <td>Q218</td>\n",
       "      <td>country/ROU</td>\n",
       "      <td>RO</td>\n",
       "      <td>Romania</td>\n",
       "      <td>RO</td>\n",
       "      <td>ROU</td>\n",
       "      <td>0</td>\n",
       "      <td>...</td>\n",
       "      <td>&lt;NA&gt;</td>\n",
       "      <td>&lt;NA&gt;</td>\n",
       "      <td>&lt;NA&gt;</td>\n",
       "      <td>&lt;NA&gt;</td>\n",
       "      <td>&lt;NA&gt;</td>\n",
       "      <td>&lt;NA&gt;</td>\n",
       "      <td>&lt;NA&gt;</td>\n",
       "      <td>&lt;NA&gt;</td>\n",
       "      <td>&lt;NA&gt;</td>\n",
       "      <td>POINT(25 46)</td>\n",
       "    </tr>\n",
       "    <tr>\n",
       "      <th>3</th>\n",
       "      <td>RO</td>\n",
       "      <td>2020-07-16</td>\n",
       "      <td>ChIJw3aJlSb_sUARlLEEqJJP74Q</td>\n",
       "      <td>Q218</td>\n",
       "      <td>country/ROU</td>\n",
       "      <td>RO</td>\n",
       "      <td>Romania</td>\n",
       "      <td>RO</td>\n",
       "      <td>ROU</td>\n",
       "      <td>0</td>\n",
       "      <td>...</td>\n",
       "      <td>&lt;NA&gt;</td>\n",
       "      <td>&lt;NA&gt;</td>\n",
       "      <td>&lt;NA&gt;</td>\n",
       "      <td>&lt;NA&gt;</td>\n",
       "      <td>&lt;NA&gt;</td>\n",
       "      <td>&lt;NA&gt;</td>\n",
       "      <td>&lt;NA&gt;</td>\n",
       "      <td>&lt;NA&gt;</td>\n",
       "      <td>&lt;NA&gt;</td>\n",
       "      <td>POINT(25 46)</td>\n",
       "    </tr>\n",
       "    <tr>\n",
       "      <th>4</th>\n",
       "      <td>RO</td>\n",
       "      <td>2020-04-04</td>\n",
       "      <td>ChIJw3aJlSb_sUARlLEEqJJP74Q</td>\n",
       "      <td>Q218</td>\n",
       "      <td>country/ROU</td>\n",
       "      <td>RO</td>\n",
       "      <td>Romania</td>\n",
       "      <td>RO</td>\n",
       "      <td>ROU</td>\n",
       "      <td>0</td>\n",
       "      <td>...</td>\n",
       "      <td>&lt;NA&gt;</td>\n",
       "      <td>&lt;NA&gt;</td>\n",
       "      <td>&lt;NA&gt;</td>\n",
       "      <td>&lt;NA&gt;</td>\n",
       "      <td>&lt;NA&gt;</td>\n",
       "      <td>&lt;NA&gt;</td>\n",
       "      <td>&lt;NA&gt;</td>\n",
       "      <td>&lt;NA&gt;</td>\n",
       "      <td>&lt;NA&gt;</td>\n",
       "      <td>POINT(25 46)</td>\n",
       "    </tr>\n",
       "    <tr>\n",
       "      <th>5</th>\n",
       "      <td>RO</td>\n",
       "      <td>2021-09-13</td>\n",
       "      <td>ChIJw3aJlSb_sUARlLEEqJJP74Q</td>\n",
       "      <td>Q218</td>\n",
       "      <td>country/ROU</td>\n",
       "      <td>RO</td>\n",
       "      <td>Romania</td>\n",
       "      <td>RO</td>\n",
       "      <td>ROU</td>\n",
       "      <td>0</td>\n",
       "      <td>...</td>\n",
       "      <td>&lt;NA&gt;</td>\n",
       "      <td>&lt;NA&gt;</td>\n",
       "      <td>&lt;NA&gt;</td>\n",
       "      <td>&lt;NA&gt;</td>\n",
       "      <td>&lt;NA&gt;</td>\n",
       "      <td>&lt;NA&gt;</td>\n",
       "      <td>&lt;NA&gt;</td>\n",
       "      <td>&lt;NA&gt;</td>\n",
       "      <td>&lt;NA&gt;</td>\n",
       "      <td>POINT(25 46)</td>\n",
       "    </tr>\n",
       "    <tr>\n",
       "      <th>6</th>\n",
       "      <td>RO</td>\n",
       "      <td>2020-07-10</td>\n",
       "      <td>ChIJw3aJlSb_sUARlLEEqJJP74Q</td>\n",
       "      <td>Q218</td>\n",
       "      <td>country/ROU</td>\n",
       "      <td>RO</td>\n",
       "      <td>Romania</td>\n",
       "      <td>RO</td>\n",
       "      <td>ROU</td>\n",
       "      <td>0</td>\n",
       "      <td>...</td>\n",
       "      <td>&lt;NA&gt;</td>\n",
       "      <td>&lt;NA&gt;</td>\n",
       "      <td>&lt;NA&gt;</td>\n",
       "      <td>&lt;NA&gt;</td>\n",
       "      <td>&lt;NA&gt;</td>\n",
       "      <td>&lt;NA&gt;</td>\n",
       "      <td>&lt;NA&gt;</td>\n",
       "      <td>&lt;NA&gt;</td>\n",
       "      <td>&lt;NA&gt;</td>\n",
       "      <td>POINT(25 46)</td>\n",
       "    </tr>\n",
       "    <tr>\n",
       "      <th>7</th>\n",
       "      <td>RO</td>\n",
       "      <td>2022-02-08</td>\n",
       "      <td>ChIJw3aJlSb_sUARlLEEqJJP74Q</td>\n",
       "      <td>Q218</td>\n",
       "      <td>country/ROU</td>\n",
       "      <td>RO</td>\n",
       "      <td>Romania</td>\n",
       "      <td>RO</td>\n",
       "      <td>ROU</td>\n",
       "      <td>0</td>\n",
       "      <td>...</td>\n",
       "      <td>&lt;NA&gt;</td>\n",
       "      <td>&lt;NA&gt;</td>\n",
       "      <td>&lt;NA&gt;</td>\n",
       "      <td>&lt;NA&gt;</td>\n",
       "      <td>&lt;NA&gt;</td>\n",
       "      <td>&lt;NA&gt;</td>\n",
       "      <td>&lt;NA&gt;</td>\n",
       "      <td>&lt;NA&gt;</td>\n",
       "      <td>&lt;NA&gt;</td>\n",
       "      <td>POINT(25 46)</td>\n",
       "    </tr>\n",
       "    <tr>\n",
       "      <th>8</th>\n",
       "      <td>US_AK</td>\n",
       "      <td>2021-02-21</td>\n",
       "      <td>ChIJG8CuwJzfAFQRNduKqSde27w</td>\n",
       "      <td>Q797</td>\n",
       "      <td>geoId/02</td>\n",
       "      <td>US</td>\n",
       "      <td>United States of America</td>\n",
       "      <td>US</td>\n",
       "      <td>USA</td>\n",
       "      <td>1</td>\n",
       "      <td>...</td>\n",
       "      <td>&lt;NA&gt;</td>\n",
       "      <td>&lt;NA&gt;</td>\n",
       "      <td>&lt;NA&gt;</td>\n",
       "      <td>&lt;NA&gt;</td>\n",
       "      <td>&lt;NA&gt;</td>\n",
       "      <td>&lt;NA&gt;</td>\n",
       "      <td>&lt;NA&gt;</td>\n",
       "      <td>&lt;NA&gt;</td>\n",
       "      <td>&lt;NA&gt;</td>\n",
       "      <td>POINT(-150 64)</td>\n",
       "    </tr>\n",
       "    <tr>\n",
       "      <th>9</th>\n",
       "      <td>US_AK</td>\n",
       "      <td>2021-01-10</td>\n",
       "      <td>ChIJG8CuwJzfAFQRNduKqSde27w</td>\n",
       "      <td>Q797</td>\n",
       "      <td>geoId/02</td>\n",
       "      <td>US</td>\n",
       "      <td>United States of America</td>\n",
       "      <td>US</td>\n",
       "      <td>USA</td>\n",
       "      <td>1</td>\n",
       "      <td>...</td>\n",
       "      <td>&lt;NA&gt;</td>\n",
       "      <td>&lt;NA&gt;</td>\n",
       "      <td>&lt;NA&gt;</td>\n",
       "      <td>&lt;NA&gt;</td>\n",
       "      <td>&lt;NA&gt;</td>\n",
       "      <td>&lt;NA&gt;</td>\n",
       "      <td>&lt;NA&gt;</td>\n",
       "      <td>&lt;NA&gt;</td>\n",
       "      <td>&lt;NA&gt;</td>\n",
       "      <td>POINT(-150 64)</td>\n",
       "    </tr>\n",
       "  </tbody>\n",
       "</table>\n",
       "<p>10 rows × 701 columns</p>\n",
       "</div>"
      ]
     },
     "execution_count": 1,
     "metadata": {},
     "output_type": "execute_result"
    }
   ],
   "execution_count": 1
  },
  {
   "metadata": {},
   "cell_type": "markdown",
   "source": "## Część 3",
   "id": "c561f711ff37efe3"
  },
  {
   "metadata": {},
   "cell_type": "markdown",
   "source": "3.1. Sprawdź, ile jest zapisanych wierszy z danymi. ",
   "id": "1f1cc5c424e77b49"
  },
  {
   "metadata": {
    "ExecuteTime": {
     "end_time": "2025-03-18T17:00:05.249430900Z",
     "start_time": "2025-03-18T17:00:03.204196500Z"
    }
   },
   "cell_type": "code",
   "source": [
    "query = (\"\"\"\n",
    "select count(*) from bigquery-public-data.covid19_open_data.covid19_open_data;\n",
    "\"\"\")\n",
    "\n",
    "query_job = client.query(query)\n",
    "query_result = query_job.result()\n",
    "df = query_result.to_dataframe()\n",
    "df"
   ],
   "id": "f2af22eb475804e1",
   "outputs": [
    {
     "name": "stderr",
     "output_type": "stream",
     "text": [
      "D:\\DevTools\\Python\\Python312\\Lib\\site-packages\\google\\cloud\\bigquery\\table.py:1900: UserWarning: BigQuery Storage module not found, fetch data with the REST endpoint instead.\n",
      "  warnings.warn(\n"
     ]
    },
    {
     "data": {
      "text/plain": "        f0_\n0  22756333",
      "text/html": "<div>\n<style scoped>\n    .dataframe tbody tr th:only-of-type {\n        vertical-align: middle;\n    }\n\n    .dataframe tbody tr th {\n        vertical-align: top;\n    }\n\n    .dataframe thead th {\n        text-align: right;\n    }\n</style>\n<table border=\"1\" class=\"dataframe\">\n  <thead>\n    <tr style=\"text-align: right;\">\n      <th></th>\n      <th>f0_</th>\n    </tr>\n  </thead>\n  <tbody>\n    <tr>\n      <th>0</th>\n      <td>22756333</td>\n    </tr>\n  </tbody>\n</table>\n</div>"
     },
     "execution_count": 2,
     "metadata": {},
     "output_type": "execute_result"
    }
   ],
   "execution_count": 2
  },
  {
   "metadata": {},
   "cell_type": "markdown",
   "source": [
    " 3.2. Sprawdź, ile krajów jest uwzględnionych w danych. \n",
    "\n"
   ],
   "id": "c8d3b139adec9198"
  },
  {
   "metadata": {
    "ExecuteTime": {
     "end_time": "2025-03-18T17:00:10.708128700Z",
     "start_time": "2025-03-18T17:00:08.653051800Z"
    }
   },
   "cell_type": "code",
   "source": [
    "query = (\"\"\"\n",
    "select count(*) FROM (SELECT DISTINCT country_name FROM bigquery-public-data.covid19_open_data.covid19_open_data);\n",
    "\"\"\")\n",
    "query_job = client.query(query)\n",
    "query_result = query_job.result()\n",
    "df = query_result.to_dataframe()\n",
    "df"
   ],
   "id": "5afe81e1057b4340",
   "outputs": [
    {
     "name": "stderr",
     "output_type": "stream",
     "text": [
      "D:\\DevTools\\Python\\Python312\\Lib\\site-packages\\google\\cloud\\bigquery\\table.py:1900: UserWarning: BigQuery Storage module not found, fetch data with the REST endpoint instead.\n",
      "  warnings.warn(\n"
     ]
    },
    {
     "data": {
      "text/plain": "   f0_\n0  246",
      "text/html": "<div>\n<style scoped>\n    .dataframe tbody tr th:only-of-type {\n        vertical-align: middle;\n    }\n\n    .dataframe tbody tr th {\n        vertical-align: top;\n    }\n\n    .dataframe thead th {\n        text-align: right;\n    }\n</style>\n<table border=\"1\" class=\"dataframe\">\n  <thead>\n    <tr style=\"text-align: right;\">\n      <th></th>\n      <th>f0_</th>\n    </tr>\n  </thead>\n  <tbody>\n    <tr>\n      <th>0</th>\n      <td>246</td>\n    </tr>\n  </tbody>\n</table>\n</div>"
     },
     "execution_count": 3,
     "metadata": {},
     "output_type": "execute_result"
    }
   ],
   "execution_count": 3
  },
  {
   "metadata": {},
   "cell_type": "markdown",
   "source": [
    " 3.3. Sprawdź, w jaki sposób zapisywane są dzienne informacje dla krajów.\n",
    "\n"
   ],
   "id": "4e0c8e85a248f0b7"
  },
  {
   "metadata": {},
   "cell_type": "markdown",
   "source": [
    "Dzienne informacje dla krajów raportowane są z podziałem na części opisywane przez aggregation_level.\n",
    "Dane odnośnie osób hospitalizowanych, zaszczepionych, zmarłych i testowanych raportowane są oddzielnie dla poszczególnych przedziałów wiekowych oraz z podziałem na płeć. \n",
    "Dane zawierają również podstawowe informacje o poszczególnych krajach, takie jak populacja, powierzchnia, wilgotność, przewidywana długość życia itd."
   ],
   "id": "5157f67c9c2a7070"
  },
  {
   "metadata": {},
   "cell_type": "markdown",
   "source": [
    " 3.4. Sprawdź, w jaki sposób zapisywane są wartości liczbowe.  \n",
    "\n"
   ],
   "id": "ad82ddb143c9295b"
  },
  {
   "metadata": {
    "ExecuteTime": {
     "end_time": "2025-03-18T17:06:39.394928100Z",
     "start_time": "2025-03-18T17:06:39.382947300Z"
    }
   },
   "cell_type": "code",
   "source": [
    "# chodzi po prostu o data type? float64 i int64\n",
    "df1['population'].info()\n",
    "df1['nurses_per_1000'].info()\n",
    "df1['new_tested'].info()\n",
    "# TODO: Niektore to string"
   ],
   "id": "830fce613a1f06a4",
   "outputs": [
    {
     "name": "stdout",
     "output_type": "stream",
     "text": [
      "<class 'pandas.core.series.Series'>\n",
      "RangeIndex: 10 entries, 0 to 9\n",
      "Series name: population\n",
      "Non-Null Count  Dtype\n",
      "--------------  -----\n",
      "10 non-null     Int64\n",
      "dtypes: Int64(1)\n",
      "memory usage: 222.0 bytes\n",
      "<class 'pandas.core.series.Series'>\n",
      "RangeIndex: 10 entries, 0 to 9\n",
      "Series name: nurses_per_1000\n",
      "Non-Null Count  Dtype  \n",
      "--------------  -----  \n",
      "10 non-null     float64\n",
      "dtypes: float64(1)\n",
      "memory usage: 212.0 bytes\n",
      "<class 'pandas.core.series.Series'>\n",
      "RangeIndex: 10 entries, 0 to 9\n",
      "Series name: new_tested\n",
      "Non-Null Count  Dtype \n",
      "--------------  ----- \n",
      "10 non-null     object\n",
      "dtypes: object(1)\n",
      "memory usage: 212.0+ bytes\n"
     ]
    }
   ],
   "execution_count": 11
  },
  {
   "metadata": {},
   "cell_type": "markdown",
   "source": [
    " 3.5. Sprawdź, jaki przedział czasowy jest uwzględniony w danych. Dodatkowo porównaj przedziały czasowe dla przypadków nowych zachorowań, nowych śmierci oraz nowych zaszczepionych osób w danych.\n",
    "\n"
   ],
   "id": "5f38af072d8234f"
  },
  {
   "metadata": {
    "ExecuteTime": {
     "end_time": "2025-03-14T10:37:05.460567Z",
     "start_time": "2025-03-14T10:37:02.631498Z"
    }
   },
   "cell_type": "code",
   "source": [
    "query = (\"\"\"\n",
    "select min(date) as poczatek_przedzialu, max(date) as koniec_przedzialu FROM bigquery-public-data.covid19_open_data.covid19_open_data;\n",
    "\"\"\")\n",
    "query_job = client.query(query)\n",
    "query_result = query_job.result()\n",
    "df = query_result.to_dataframe()\n",
    "df\n",
    "# co to znaczy nowych?"
   ],
   "id": "254c6007d22015c",
   "outputs": [
    {
     "data": {
      "text/plain": [
       "  poczatek_przedzialu koniec_przedzialu\n",
       "0          2020-01-01        2022-09-17"
      ],
      "text/html": [
       "<div>\n",
       "<style scoped>\n",
       "    .dataframe tbody tr th:only-of-type {\n",
       "        vertical-align: middle;\n",
       "    }\n",
       "\n",
       "    .dataframe tbody tr th {\n",
       "        vertical-align: top;\n",
       "    }\n",
       "\n",
       "    .dataframe thead th {\n",
       "        text-align: right;\n",
       "    }\n",
       "</style>\n",
       "<table border=\"1\" class=\"dataframe\">\n",
       "  <thead>\n",
       "    <tr style=\"text-align: right;\">\n",
       "      <th></th>\n",
       "      <th>poczatek_przedzialu</th>\n",
       "      <th>koniec_przedzialu</th>\n",
       "    </tr>\n",
       "  </thead>\n",
       "  <tbody>\n",
       "    <tr>\n",
       "      <th>0</th>\n",
       "      <td>2020-01-01</td>\n",
       "      <td>2022-09-17</td>\n",
       "    </tr>\n",
       "  </tbody>\n",
       "</table>\n",
       "</div>"
      ]
     },
     "execution_count": 22,
     "metadata": {},
     "output_type": "execute_result"
    }
   ],
   "execution_count": 22
  },
  {
   "cell_type": "code",
   "execution_count": 8,
   "outputs": [
    {
     "name": "stderr",
     "output_type": "stream",
     "text": [
      "D:\\DevTools\\Python\\Python312\\Lib\\site-packages\\google\\cloud\\bigquery\\table.py:1900: UserWarning: BigQuery Storage module not found, fetch data with the REST endpoint instead.\n",
      "  warnings.warn(\n"
     ]
    },
    {
     "data": {
      "text/plain": "  poczatek_przedzialu_zachorowan koniec_przedzialu_zachorowan\n0                     2020-01-01                   2022-09-15",
      "text/html": "<div>\n<style scoped>\n    .dataframe tbody tr th:only-of-type {\n        vertical-align: middle;\n    }\n\n    .dataframe tbody tr th {\n        vertical-align: top;\n    }\n\n    .dataframe thead th {\n        text-align: right;\n    }\n</style>\n<table border=\"1\" class=\"dataframe\">\n  <thead>\n    <tr style=\"text-align: right;\">\n      <th></th>\n      <th>poczatek_przedzialu_zachorowan</th>\n      <th>koniec_przedzialu_zachorowan</th>\n    </tr>\n  </thead>\n  <tbody>\n    <tr>\n      <th>0</th>\n      <td>2020-01-01</td>\n      <td>2022-09-15</td>\n    </tr>\n  </tbody>\n</table>\n</div>"
     },
     "execution_count": 8,
     "metadata": {},
     "output_type": "execute_result"
    }
   ],
   "source": [
    "query = (\"\"\"\n",
    "select min(date) as poczatek_przedzialu_zachorowan, max(date) as koniec_przedzialu_zachorowan FROM bigquery-public-data.covid19_open_data.covid19_open_data where new_confirmed is not null and new_confirmed <> 0;\n",
    "\"\"\")\n",
    "query_job = client.query(query)\n",
    "query_result = query_job.result()\n",
    "df = query_result.to_dataframe()\n",
    "df"
   ],
   "metadata": {
    "collapsed": false,
    "ExecuteTime": {
     "end_time": "2025-03-20T10:24:02.478783800Z",
     "start_time": "2025-03-20T10:24:00.668385300Z"
    }
   },
   "id": "65efc61532151757"
  },
  {
   "cell_type": "code",
   "execution_count": 7,
   "outputs": [
    {
     "name": "stderr",
     "output_type": "stream",
     "text": [
      "D:\\DevTools\\Python\\Python312\\Lib\\site-packages\\google\\cloud\\bigquery\\table.py:1900: UserWarning: BigQuery Storage module not found, fetch data with the REST endpoint instead.\n",
      "  warnings.warn(\n"
     ]
    },
    {
     "data": {
      "text/plain": "  poczatek_przedzialu_smierci koniec_przedzialu_smierci\n0                  2020-01-01                2022-09-16",
      "text/html": "<div>\n<style scoped>\n    .dataframe tbody tr th:only-of-type {\n        vertical-align: middle;\n    }\n\n    .dataframe tbody tr th {\n        vertical-align: top;\n    }\n\n    .dataframe thead th {\n        text-align: right;\n    }\n</style>\n<table border=\"1\" class=\"dataframe\">\n  <thead>\n    <tr style=\"text-align: right;\">\n      <th></th>\n      <th>poczatek_przedzialu_smierci</th>\n      <th>koniec_przedzialu_smierci</th>\n    </tr>\n  </thead>\n  <tbody>\n    <tr>\n      <th>0</th>\n      <td>2020-01-01</td>\n      <td>2022-09-16</td>\n    </tr>\n  </tbody>\n</table>\n</div>"
     },
     "execution_count": 7,
     "metadata": {},
     "output_type": "execute_result"
    }
   ],
   "source": [
    "query = (\"\"\"\n",
    "select min(date) as poczatek_przedzialu_smierci, max(date) as koniec_przedzialu_smierci FROM bigquery-public-data.covid19_open_data.covid19_open_data where new_deceased is not null and new_deceased <> 0;\n",
    "\"\"\")\n",
    "query_job = client.query(query)\n",
    "query_result = query_job.result()\n",
    "df = query_result.to_dataframe()\n",
    "df"
   ],
   "metadata": {
    "collapsed": false,
    "ExecuteTime": {
     "end_time": "2025-03-20T10:23:46.196183900Z",
     "start_time": "2025-03-20T10:23:44.643451400Z"
    }
   },
   "id": "28341eac45d85d9f"
  },
  {
   "cell_type": "code",
   "execution_count": 9,
   "outputs": [
    {
     "name": "stderr",
     "output_type": "stream",
     "text": [
      "D:\\DevTools\\Python\\Python312\\Lib\\site-packages\\google\\cloud\\bigquery\\table.py:1900: UserWarning: BigQuery Storage module not found, fetch data with the REST endpoint instead.\n",
      "  warnings.warn(\n"
     ]
    },
    {
     "data": {
      "text/plain": "  poczatek_przedzialu_zaszczepionych koniec_przedzialu_zaszczepionych\n0                         2020-12-07                       2022-09-14",
      "text/html": "<div>\n<style scoped>\n    .dataframe tbody tr th:only-of-type {\n        vertical-align: middle;\n    }\n\n    .dataframe tbody tr th {\n        vertical-align: top;\n    }\n\n    .dataframe thead th {\n        text-align: right;\n    }\n</style>\n<table border=\"1\" class=\"dataframe\">\n  <thead>\n    <tr style=\"text-align: right;\">\n      <th></th>\n      <th>poczatek_przedzialu_zaszczepionych</th>\n      <th>koniec_przedzialu_zaszczepionych</th>\n    </tr>\n  </thead>\n  <tbody>\n    <tr>\n      <th>0</th>\n      <td>2020-12-07</td>\n      <td>2022-09-14</td>\n    </tr>\n  </tbody>\n</table>\n</div>"
     },
     "execution_count": 9,
     "metadata": {},
     "output_type": "execute_result"
    }
   ],
   "source": [
    "query = (\"\"\"\n",
    "select min(date) as poczatek_przedzialu_zaszczepionych, max(date) as koniec_przedzialu_zaszczepionych FROM bigquery-public-data.covid19_open_data.covid19_open_data where new_persons_vaccinated is not null and new_persons_vaccinated <> 0;\n",
    "\"\"\")\n",
    "query_job = client.query(query)\n",
    "query_result = query_job.result()\n",
    "df = query_result.to_dataframe()\n",
    "df"
   ],
   "metadata": {
    "collapsed": false,
    "ExecuteTime": {
     "end_time": "2025-03-20T10:25:10.958286400Z",
     "start_time": "2025-03-20T10:25:07.895161700Z"
    }
   },
   "id": "5a828f87980d16c1"
  },
  {
   "metadata": {},
   "cell_type": "markdown",
   "source": [
    " 3.6. Sprawdź więcej informacji (co najmniej 5 różnych) o danych dotyczących COVID-19. W tym celu nie wykonuj żadnych dodatkowych obliczeń. \n",
    "\n"
   ],
   "id": "78c44b35dd30ed93"
  },
  {
   "metadata": {
    "ExecuteTime": {
     "end_time": "2025-03-20T16:50:56.994756200Z",
     "start_time": "2025-03-20T16:50:54.591766500Z"
    }
   },
   "cell_type": "code",
   "source": [
    "# ile jest kolumn\n",
    "# ile jest pustych wartosci w poszczegolnych kolumnach / w ktorych kolumnach jest ponad 80% nulli\n",
    "# w jakim formacie zapisana jest data\n",
    "# jaki jest separator dziesietny\n",
    "# w jakim formacie zapisany sa wartosci w location_key\n",
    "# Sprawdzenie czy wystepuja wartosci ujemne\n",
    "query = (\"\"\"\n",
    "select COUNT(*) FROM bigquery-public-data.covid19_open_data.covid19_open_data where new_confirmed < 0;\n",
    "\"\"\")\n",
    "query_job = client.query(query)\n",
    "query_result = query_job.result()\n",
    "df = query_result.to_dataframe()\n",
    "df"
   ],
   "id": "396a092a6b1261d9",
   "outputs": [
    {
     "name": "stderr",
     "output_type": "stream",
     "text": [
      "D:\\DevTools\\Python\\Python312\\Lib\\site-packages\\google\\cloud\\bigquery\\table.py:1900: UserWarning: BigQuery Storage module not found, fetch data with the REST endpoint instead.\n",
      "  warnings.warn(\n"
     ]
    },
    {
     "data": {
      "text/plain": "      f0_\n0  102199",
      "text/html": "<div>\n<style scoped>\n    .dataframe tbody tr th:only-of-type {\n        vertical-align: middle;\n    }\n\n    .dataframe tbody tr th {\n        vertical-align: top;\n    }\n\n    .dataframe thead th {\n        text-align: right;\n    }\n</style>\n<table border=\"1\" class=\"dataframe\">\n  <thead>\n    <tr style=\"text-align: right;\">\n      <th></th>\n      <th>f0_</th>\n    </tr>\n  </thead>\n  <tbody>\n    <tr>\n      <th>0</th>\n      <td>102199</td>\n    </tr>\n  </tbody>\n</table>\n</div>"
     },
     "execution_count": 2,
     "metadata": {},
     "output_type": "execute_result"
    }
   ],
   "execution_count": 2
  },
  {
   "cell_type": "code",
   "execution_count": 3,
   "outputs": [
    {
     "name": "stderr",
     "output_type": "stream",
     "text": [
      "D:\\DevTools\\Python\\Python312\\Lib\\site-packages\\google\\cloud\\bigquery\\table.py:1900: UserWarning: BigQuery Storage module not found, fetch data with the REST endpoint instead.\n",
      "  warnings.warn(\n"
     ]
    },
    {
     "data": {
      "text/plain": "Empty DataFrame\nColumns: [f0_, country_name, date]\nIndex: []",
      "text/html": "<div>\n<style scoped>\n    .dataframe tbody tr th:only-of-type {\n        vertical-align: middle;\n    }\n\n    .dataframe tbody tr th {\n        vertical-align: top;\n    }\n\n    .dataframe thead th {\n        text-align: right;\n    }\n</style>\n<table border=\"1\" class=\"dataframe\">\n  <thead>\n    <tr style=\"text-align: right;\">\n      <th></th>\n      <th>f0_</th>\n      <th>country_name</th>\n      <th>date</th>\n    </tr>\n  </thead>\n  <tbody>\n  </tbody>\n</table>\n</div>"
     },
     "execution_count": 3,
     "metadata": {},
     "output_type": "execute_result"
    }
   ],
   "source": [
    "#Sprawdzenie czy wystepuja duplikaty na poziomie panstw\n",
    "query = (\"\"\"\n",
    "select COUNT(*), country_name, date FROM bigquery-public-data.covid19_open_data.covid19_open_data where aggregation_level = 0 group by country_name, date having count(*) > 1;\n",
    "\"\"\")\n",
    "query_job = client.query(query)\n",
    "query_result = query_job.result()\n",
    "df = query_result.to_dataframe()\n",
    "df"
   ],
   "metadata": {
    "collapsed": false,
    "ExecuteTime": {
     "end_time": "2025-03-20T16:51:01.175298800Z",
     "start_time": "2025-03-20T16:50:59.825637800Z"
    }
   },
   "id": "e46f5cfafbffb373"
  },
  {
   "cell_type": "code",
   "execution_count": 4,
   "outputs": [
    {
     "name": "stderr",
     "output_type": "stream",
     "text": [
      "D:\\DevTools\\Python\\Python312\\Lib\\site-packages\\google\\cloud\\bigquery\\table.py:1900: UserWarning: BigQuery Storage module not found, fetch data with the REST endpoint instead.\n",
      "  warnings.warn(\n"
     ]
    },
    {
     "data": {
      "text/plain": "   f0_\n0  991",
      "text/html": "<div>\n<style scoped>\n    .dataframe tbody tr th:only-of-type {\n        vertical-align: middle;\n    }\n\n    .dataframe tbody tr th {\n        vertical-align: top;\n    }\n\n    .dataframe thead th {\n        text-align: right;\n    }\n</style>\n<table border=\"1\" class=\"dataframe\">\n  <thead>\n    <tr style=\"text-align: right;\">\n      <th></th>\n      <th>f0_</th>\n    </tr>\n  </thead>\n  <tbody>\n    <tr>\n      <th>0</th>\n      <td>991</td>\n    </tr>\n  </tbody>\n</table>\n</div>"
     },
     "execution_count": 4,
     "metadata": {},
     "output_type": "execute_result"
    }
   ],
   "source": [
    "# Sprawdzenie czy kluczowe kolumny zawieraja nulle\n",
    "query = (\"\"\"\n",
    "select COUNT(*) FROM bigquery-public-data.covid19_open_data.covid19_open_data where date is null or country_name is null or location_key is null or iso_3166_1_alpha_3 is null;\n",
    "\"\"\")\n",
    "query_job = client.query(query)\n",
    "query_result = query_job.result()\n",
    "df = query_result.to_dataframe()\n",
    "df"
   ],
   "metadata": {
    "collapsed": false,
    "ExecuteTime": {
     "end_time": "2025-03-20T16:51:04.201584800Z",
     "start_time": "2025-03-20T16:51:02.768135300Z"
    }
   },
   "id": "8a16879a2ee64f0"
  },
  {
   "cell_type": "code",
   "execution_count": 5,
   "outputs": [
    {
     "name": "stderr",
     "output_type": "stream",
     "text": [
      "D:\\DevTools\\Python\\Python312\\Lib\\site-packages\\google\\cloud\\bigquery\\table.py:1900: UserWarning: BigQuery Storage module not found, fetch data with the REST endpoint instead.\n",
      "  warnings.warn(\n"
     ]
    },
    {
     "data": {
      "text/plain": "               country_name    count\n0                    Brazil  5565456\n1  United States of America  3255435\n2                    Mexico  2475518\n3                      Peru  1883891\n4                    Israel  1472626\n5                     Spain  1385418\n6                  Colombia  1145596\n7                     India   747214\n8                 Indonesia   544059\n9                 Argentina   540095",
      "text/html": "<div>\n<style scoped>\n    .dataframe tbody tr th:only-of-type {\n        vertical-align: middle;\n    }\n\n    .dataframe tbody tr th {\n        vertical-align: top;\n    }\n\n    .dataframe thead th {\n        text-align: right;\n    }\n</style>\n<table border=\"1\" class=\"dataframe\">\n  <thead>\n    <tr style=\"text-align: right;\">\n      <th></th>\n      <th>country_name</th>\n      <th>count</th>\n    </tr>\n  </thead>\n  <tbody>\n    <tr>\n      <th>0</th>\n      <td>Brazil</td>\n      <td>5565456</td>\n    </tr>\n    <tr>\n      <th>1</th>\n      <td>United States of America</td>\n      <td>3255435</td>\n    </tr>\n    <tr>\n      <th>2</th>\n      <td>Mexico</td>\n      <td>2475518</td>\n    </tr>\n    <tr>\n      <th>3</th>\n      <td>Peru</td>\n      <td>1883891</td>\n    </tr>\n    <tr>\n      <th>4</th>\n      <td>Israel</td>\n      <td>1472626</td>\n    </tr>\n    <tr>\n      <th>5</th>\n      <td>Spain</td>\n      <td>1385418</td>\n    </tr>\n    <tr>\n      <th>6</th>\n      <td>Colombia</td>\n      <td>1145596</td>\n    </tr>\n    <tr>\n      <th>7</th>\n      <td>India</td>\n      <td>747214</td>\n    </tr>\n    <tr>\n      <th>8</th>\n      <td>Indonesia</td>\n      <td>544059</td>\n    </tr>\n    <tr>\n      <th>9</th>\n      <td>Argentina</td>\n      <td>540095</td>\n    </tr>\n  </tbody>\n</table>\n</div>"
     },
     "execution_count": 5,
     "metadata": {},
     "output_type": "execute_result"
    }
   ],
   "source": [
    "# Sprawdzenie z jakich krajow posiadamy najwiecej danych\n",
    "query = (\"\"\"\n",
    "select country_name, count(*) as count from bigquery-public-data.covid19_open_data.covid19_open_data group by country_name order by count desc limit 10;\n",
    "\"\"\")\n",
    "query_job = client.query(query)\n",
    "query_result = query_job.result()\n",
    "df = query_result.to_dataframe()\n",
    "df"
   ],
   "metadata": {
    "collapsed": false,
    "ExecuteTime": {
     "end_time": "2025-03-20T16:51:08.828014800Z",
     "start_time": "2025-03-20T16:51:07.414436600Z"
    }
   },
   "id": "38bd2d971c6130df"
  },
  {
   "metadata": {},
   "cell_type": "markdown",
   "source": "## Część 4",
   "id": "9c5a3521f7b9376b"
  },
  {
   "metadata": {},
   "cell_type": "markdown",
   "source": [
    "4.1. Chcemy posiadać podstawowe dane o wszystkich krajach świata, które będą zrozumiałe dla człowieka oraz uniwersalne i potencjalnie przyszłościowe do dalszego przetwarzania.\n",
    "\n"
   ],
   "id": "489ea8757c561b9b"
  },
  {
   "metadata": {
    "ExecuteTime": {
     "end_time": "2025-03-14T10:39:53.977899Z",
     "start_time": "2025-03-14T10:37:05.991945Z"
    }
   },
   "cell_type": "code",
   "source": [
    "query = (\"\"\"\n",
    "SELECT #distinct?\n",
    "    country_code, #imo useless\n",
    "    date,  \n",
    "    country_name, \n",
    "    iso_3166_1_alpha_2, #imo useless\n",
    "    iso_3166_1_alpha_3, \n",
    "    population, \n",
    "    population_male, \n",
    "    population_female, \n",
    "    population_rural, \n",
    "    population_urban, \n",
    "    population_density, \n",
    "    human_development_index, \n",
    "    gdp_usd, \n",
    "    gdp_per_capita_usd, \n",
    "    latitude, \n",
    "    longitude, \n",
    "    area_sq_km, \n",
    "    nurses_per_1000, #dalbym do nowego\n",
    "    physicians_per_1000, #dalbym do nowego\n",
    "    health_expenditure_usd, \n",
    "    out_of_pocket_health_expenditure_usd \n",
    "FROM `bigquery-public-data.covid19_open_data.covid19_open_data`\n",
    "WHERE \n",
    "    country_code IS NOT NULL AND \n",
    "    date IS NOT NULL AND  \n",
    "    country_name IS NOT NULL AND \n",
    "    iso_3166_1_alpha_2 IS NOT NULL AND \n",
    "    iso_3166_1_alpha_3 IS NOT NULL AND \n",
    "    population IS NOT NULL AND \n",
    "    population_male IS NOT NULL AND \n",
    "    population_female IS NOT NULL AND \n",
    "    population_rural IS NOT NULL AND \n",
    "    population_urban IS NOT NULL AND \n",
    "    population_density IS NOT NULL AND \n",
    "    human_development_index IS NOT NULL AND \n",
    "    gdp_usd IS NOT NULL AND \n",
    "    gdp_per_capita_usd IS NOT NULL AND \n",
    "    latitude IS NOT NULL AND \n",
    "    longitude IS NOT NULL AND \n",
    "    area_sq_km IS NOT NULL AND \n",
    "    nurses_per_1000 IS NOT NULL AND \n",
    "    physicians_per_1000 IS NOT NULL AND \n",
    "    health_expenditure_usd IS NOT NULL AND \n",
    "    out_of_pocket_health_expenditure_usd IS NOT NULL;\n",
    "\n",
    "\"\"\")\n",
    "query_job = client.query(query)\n",
    "query_result = query_job.result()\n",
    "df1 = query_result.to_dataframe()\n",
    "df1.to_csv(\"countries_data\", index=False)\n"
   ],
   "id": "22201c52a5883ee6",
   "outputs": [
    {
     "ename": "KeyboardInterrupt",
     "evalue": "",
     "output_type": "error",
     "traceback": [
      "\u001B[31m---------------------------------------------------------------------------\u001B[39m",
      "\u001B[31mKeyboardInterrupt\u001B[39m                         Traceback (most recent call last)",
      "\u001B[36mCell\u001B[39m\u001B[36m \u001B[39m\u001B[32mIn[24]\u001B[39m\u001B[32m, line 6\u001B[39m\n\u001B[32m      4\u001B[39m query_job = client.query(query)\n\u001B[32m      5\u001B[39m query_result = query_job.result()\n\u001B[32m----> \u001B[39m\u001B[32m6\u001B[39m df = \u001B[43mquery_result\u001B[49m\u001B[43m.\u001B[49m\u001B[43mto_dataframe\u001B[49m\u001B[43m(\u001B[49m\u001B[43m)\u001B[49m\n\u001B[32m      7\u001B[39m df\n",
      "\u001B[36mFile \u001B[39m\u001B[32m~\\PycharmProjects\\numerki\\BigData\\.venv\\Lib\\site-packages\\google\\cloud\\bigquery\\table.py:2619\u001B[39m, in \u001B[36mRowIterator.to_dataframe\u001B[39m\u001B[34m(self, bqstorage_client, dtypes, progress_bar_type, create_bqstorage_client, geography_as_object, bool_dtype, int_dtype, float_dtype, string_dtype, date_dtype, datetime_dtype, time_dtype, timestamp_dtype, range_date_dtype, range_datetime_dtype, range_timestamp_dtype)\u001B[39m\n\u001B[32m   2610\u001B[39m     timestamp_as_object = \u001B[38;5;129;01mnot\u001B[39;00m \u001B[38;5;28mall\u001B[39m(\n\u001B[32m   2611\u001B[39m         \u001B[38;5;28mself\u001B[39m.__can_cast_timestamp_ns(col)\n\u001B[32m   2612\u001B[39m         \u001B[38;5;28;01mfor\u001B[39;00m col \u001B[38;5;129;01min\u001B[39;00m record_batch\n\u001B[32m   (...)\u001B[39m\u001B[32m   2615\u001B[39m         \u001B[38;5;28;01mif\u001B[39;00m pyarrow.types.is_timestamp(col.type)\n\u001B[32m   2616\u001B[39m     )\n\u001B[32m   2618\u001B[39m \u001B[38;5;28;01mif\u001B[39;00m \u001B[38;5;28mlen\u001B[39m(record_batch) > \u001B[32m0\u001B[39m:\n\u001B[32m-> \u001B[39m\u001B[32m2619\u001B[39m     df = \u001B[43mrecord_batch\u001B[49m\u001B[43m.\u001B[49m\u001B[43mto_pandas\u001B[49m\u001B[43m(\u001B[49m\n\u001B[32m   2620\u001B[39m \u001B[43m        \u001B[49m\u001B[43mdate_as_object\u001B[49m\u001B[43m=\u001B[49m\u001B[43mdate_as_object\u001B[49m\u001B[43m,\u001B[49m\n\u001B[32m   2621\u001B[39m \u001B[43m        \u001B[49m\u001B[43mtimestamp_as_object\u001B[49m\u001B[43m=\u001B[49m\u001B[43mtimestamp_as_object\u001B[49m\u001B[43m,\u001B[49m\n\u001B[32m   2622\u001B[39m \u001B[43m        \u001B[49m\u001B[43minteger_object_nulls\u001B[49m\u001B[43m=\u001B[49m\u001B[38;5;28;43;01mTrue\u001B[39;49;00m\u001B[43m,\u001B[49m\n\u001B[32m   2623\u001B[39m \u001B[43m        \u001B[49m\u001B[43mtypes_mapper\u001B[49m\u001B[43m=\u001B[49m\u001B[43m_pandas_helpers\u001B[49m\u001B[43m.\u001B[49m\u001B[43mdefault_types_mapper\u001B[49m\u001B[43m(\u001B[49m\n\u001B[32m   2624\u001B[39m \u001B[43m            \u001B[49m\u001B[43mdate_as_object\u001B[49m\u001B[43m=\u001B[49m\u001B[43mdate_as_object\u001B[49m\u001B[43m,\u001B[49m\n\u001B[32m   2625\u001B[39m \u001B[43m            \u001B[49m\u001B[43mbool_dtype\u001B[49m\u001B[43m=\u001B[49m\u001B[43mbool_dtype\u001B[49m\u001B[43m,\u001B[49m\n\u001B[32m   2626\u001B[39m \u001B[43m            \u001B[49m\u001B[43mint_dtype\u001B[49m\u001B[43m=\u001B[49m\u001B[43mint_dtype\u001B[49m\u001B[43m,\u001B[49m\n\u001B[32m   2627\u001B[39m \u001B[43m            \u001B[49m\u001B[43mfloat_dtype\u001B[49m\u001B[43m=\u001B[49m\u001B[43mfloat_dtype\u001B[49m\u001B[43m,\u001B[49m\n\u001B[32m   2628\u001B[39m \u001B[43m            \u001B[49m\u001B[43mstring_dtype\u001B[49m\u001B[43m=\u001B[49m\u001B[43mstring_dtype\u001B[49m\u001B[43m,\u001B[49m\n\u001B[32m   2629\u001B[39m \u001B[43m            \u001B[49m\u001B[43mdate_dtype\u001B[49m\u001B[43m=\u001B[49m\u001B[43mdate_dtype\u001B[49m\u001B[43m,\u001B[49m\n\u001B[32m   2630\u001B[39m \u001B[43m            \u001B[49m\u001B[43mdatetime_dtype\u001B[49m\u001B[43m=\u001B[49m\u001B[43mdatetime_dtype\u001B[49m\u001B[43m,\u001B[49m\n\u001B[32m   2631\u001B[39m \u001B[43m            \u001B[49m\u001B[43mtime_dtype\u001B[49m\u001B[43m=\u001B[49m\u001B[43mtime_dtype\u001B[49m\u001B[43m,\u001B[49m\n\u001B[32m   2632\u001B[39m \u001B[43m            \u001B[49m\u001B[43mtimestamp_dtype\u001B[49m\u001B[43m=\u001B[49m\u001B[43mtimestamp_dtype\u001B[49m\u001B[43m,\u001B[49m\n\u001B[32m   2633\u001B[39m \u001B[43m            \u001B[49m\u001B[43mrange_date_dtype\u001B[49m\u001B[43m=\u001B[49m\u001B[43mrange_date_dtype\u001B[49m\u001B[43m,\u001B[49m\n\u001B[32m   2634\u001B[39m \u001B[43m            \u001B[49m\u001B[43mrange_datetime_dtype\u001B[49m\u001B[43m=\u001B[49m\u001B[43mrange_datetime_dtype\u001B[49m\u001B[43m,\u001B[49m\n\u001B[32m   2635\u001B[39m \u001B[43m            \u001B[49m\u001B[43mrange_timestamp_dtype\u001B[49m\u001B[43m=\u001B[49m\u001B[43mrange_timestamp_dtype\u001B[49m\u001B[43m,\u001B[49m\n\u001B[32m   2636\u001B[39m \u001B[43m        \u001B[49m\u001B[43m)\u001B[49m\u001B[43m,\u001B[49m\n\u001B[32m   2637\u001B[39m \u001B[43m    \u001B[49m\u001B[43m)\u001B[49m\n\u001B[32m   2638\u001B[39m \u001B[38;5;28;01melse\u001B[39;00m:\n\u001B[32m   2639\u001B[39m     \u001B[38;5;66;03m# Avoid \"ValueError: need at least one array to concatenate\" on\u001B[39;00m\n\u001B[32m   2640\u001B[39m     \u001B[38;5;66;03m# older versions of pandas when converting empty RecordBatch to\u001B[39;00m\n\u001B[32m   2641\u001B[39m     \u001B[38;5;66;03m# DataFrame. See: https://github.com/pandas-dev/pandas/issues/41241\u001B[39;00m\n\u001B[32m   2642\u001B[39m     df = pandas.DataFrame([], columns=record_batch.schema.names)\n",
      "\u001B[36mFile \u001B[39m\u001B[32m~\\PycharmProjects\\numerki\\BigData\\.venv\\Lib\\site-packages\\pyarrow\\array.pxi:889\u001B[39m, in \u001B[36mpyarrow.lib._PandasConvertible.to_pandas\u001B[39m\u001B[34m()\u001B[39m\n",
      "\u001B[36mFile \u001B[39m\u001B[32m~\\PycharmProjects\\numerki\\BigData\\.venv\\Lib\\site-packages\\pyarrow\\table.pxi:5132\u001B[39m, in \u001B[36mpyarrow.lib.Table._to_pandas\u001B[39m\u001B[34m()\u001B[39m\n",
      "\u001B[36mFile \u001B[39m\u001B[32m~\\PycharmProjects\\numerki\\BigData\\.venv\\Lib\\site-packages\\pyarrow\\pandas_compat.py:808\u001B[39m, in \u001B[36mtable_to_dataframe\u001B[39m\u001B[34m(options, table, categories, ignore_metadata, types_mapper)\u001B[39m\n\u001B[32m    805\u001B[39m columns = _deserialize_column_index(table, all_columns, column_indexes)\n\u001B[32m    807\u001B[39m column_names = table.column_names\n\u001B[32m--> \u001B[39m\u001B[32m808\u001B[39m result = \u001B[43mpa\u001B[49m\u001B[43m.\u001B[49m\u001B[43mlib\u001B[49m\u001B[43m.\u001B[49m\u001B[43mtable_to_blocks\u001B[49m\u001B[43m(\u001B[49m\u001B[43moptions\u001B[49m\u001B[43m,\u001B[49m\u001B[43m \u001B[49m\u001B[43mtable\u001B[49m\u001B[43m,\u001B[49m\u001B[43m \u001B[49m\u001B[43mcategories\u001B[49m\u001B[43m,\u001B[49m\n\u001B[32m    809\u001B[39m \u001B[43m                                \u001B[49m\u001B[38;5;28;43mlist\u001B[39;49m\u001B[43m(\u001B[49m\u001B[43mext_columns_dtypes\u001B[49m\u001B[43m.\u001B[49m\u001B[43mkeys\u001B[49m\u001B[43m(\u001B[49m\u001B[43m)\u001B[49m\u001B[43m)\u001B[49m\u001B[43m)\u001B[49m\n\u001B[32m    810\u001B[39m \u001B[38;5;28;01mif\u001B[39;00m _pandas_api.is_ge_v3():\n\u001B[32m    811\u001B[39m     \u001B[38;5;28;01mfrom\u001B[39;00m\u001B[38;5;250m \u001B[39m\u001B[34;01mpandas\u001B[39;00m\u001B[34;01m.\u001B[39;00m\u001B[34;01mapi\u001B[39;00m\u001B[34;01m.\u001B[39;00m\u001B[34;01minternals\u001B[39;00m\u001B[38;5;250m \u001B[39m\u001B[38;5;28;01mimport\u001B[39;00m create_dataframe_from_blocks\n",
      "\u001B[31mKeyboardInterrupt\u001B[39m: "
     ]
    }
   ],
   "execution_count": 24
  },
  {
   "metadata": {},
   "cell_type": "markdown",
   "source": [
    " 4.2. Chcemy wygenerować statystyki dotyczące zachorowań na COVID-19 na całym świecie.\n",
    "\n"
   ],
   "id": "67769483bd8557f9"
  },
  {
   "metadata": {},
   "cell_type": "code",
   "source": [
    "query = (\"\"\"select distinct country_code, date, country_name, new_confirmed, cumulative_confirmed, new_tested,  cumulative_tested from bigquery-public-data.covid19_open_data.covid19_open_data WHERE\n",
    "  country_code IS NOT NULL\n",
    "  AND date IS NOT NULL\n",
    "  AND country_name IS NOT NULL\n",
    "  AND new_confirmed IS NOT NULL\n",
    "  AND cumulative_confirmed IS NOT NULL\n",
    "  AND new_tested IS NOT NULL\n",
    "  AND cumulative_tested IS NOT NULL\"\"\")\n",
    "query_job = client.query(query)\n",
    "query_result = query_job.result()\n",
    "df2 = query_result.to_dataframe()\n",
    "df2.to_csv(\"covid_cases_stats.csv\", index=False)\n"
   ],
   "id": "6535520cc82679b1",
   "outputs": [],
   "execution_count": null
  },
  {
   "metadata": {},
   "cell_type": "markdown",
   "source": [
    " 4.3. Chcemy poznać efekty COVID-19 poprzez uwypuklenie problemu śmiertelności ludzi spowodowanej wirusem.\n",
    "\n"
   ],
   "id": "bd08cba01ebbfee4"
  },
  {
   "metadata": {},
   "cell_type": "code",
   "outputs": [],
   "execution_count": null,
   "source": [
    "query = (\"\"\"\n",
    "SELECT \n",
    "    country_code, \n",
    "    date,  \n",
    "    country_name,  \n",
    "    new_deceased, \n",
    "    cumulative_deceased \n",
    "FROM `bigquery-public-data.covid19_open_data.covid19_open_data`\n",
    "WHERE \n",
    "    country_code IS NOT NULL AND \n",
    "    date IS NOT NULL AND  \n",
    "    country_name IS NOT NULL AND \n",
    "    new_deceased IS NOT NULL AND \n",
    "    cumulative_deceased IS NOT NULL;\n",
    "\n",
    "\"\"\")\n",
    "query_job = client.query(query)\n",
    "query_result = query_job.result()\n",
    "df3 = query_result.to_dataframe()\n",
    "df3.to_csv(\"covid_mortality.csv\", index=False)"
   ],
   "id": "2f301f3a3163a3f5"
  },
  {
   "metadata": {},
   "cell_type": "markdown",
   "source": [
    " 4.4. Chcemy zaobserwować trendy i zależności dotyczące szczepień na COVID-19.\n",
    "\n"
   ],
   "id": "f578eccbb6508e4f"
  },
  {
   "metadata": {},
   "cell_type": "code",
   "outputs": [],
   "execution_count": null,
   "source": [
    "query = (\"\"\"\n",
    "SELECT \n",
    "    country_code, \n",
    "    date,  \n",
    "    country_name, \n",
    "    new_persons_vaccinated, \n",
    "    cumulative_persons_vaccinated, \n",
    "    new_persons_fully_vaccinated, \n",
    "    cumulative_persons_fully_vaccinated, \n",
    "    new_vaccine_doses_administered, \n",
    "    cumulative_vaccine_doses_administered \n",
    "FROM `bigquery-public-data.covid19_open_data.covid19_open_data`\n",
    "WHERE \n",
    "    country_code IS NOT NULL AND \n",
    "    date IS NOT NULL AND  \n",
    "    country_name IS NOT NULL AND \n",
    "    new_persons_vaccinated IS NOT NULL AND \n",
    "    cumulative_persons_vaccinated IS NOT NULL AND \n",
    "    new_persons_fully_vaccinated IS NOT NULL AND \n",
    "    cumulative_persons_fully_vaccinated IS NOT NULL AND \n",
    "    new_vaccine_doses_administered IS NOT NULL AND \n",
    "    cumulative_vaccine_doses_administered IS NOT NULL;\n",
    "\n",
    "\"\"\")\n",
    "query_job = client.query(query)\n",
    "query_result = query_job.result()\n",
    "df4 = query_result.to_dataframe()\n",
    "df4.to_csv(\"covid_vaccination.csv\", index=False)"
   ],
   "id": "619effc60be4eac"
  },
  {
   "metadata": {},
   "cell_type": "markdown",
   "source": [
    " 4.5. Zdefiniuj własny dodatkowy przypadek. Chcemy dowiedzieć się ile osób potrzebowało pomocy medycznej.\n",
    "\n"
   ],
   "id": "c1ae45f1bfc91f2a"
  },
  {
   "metadata": {
    "ExecuteTime": {
     "end_time": "2025-03-18T17:27:39.003319600Z",
     "start_time": "2025-03-18T17:27:38.986805500Z"
    }
   },
   "cell_type": "code",
   "outputs": [],
   "execution_count": 13,
   "source": [
    "query = (\"\"\"\n",
    "SELECT \n",
    "    country_code, \n",
    "    date,  \n",
    "    country_name, \n",
    "    new_hospitalized_patients,\n",
    "    cumulative_hospitalized_patients,\n",
    "    new_intensive_care_patients,\n",
    "    cumulative_intensive_care_patients\n",
    "FROM `bigquery-public-data.covid19_open_data.covid19_open_data`\n",
    "WHERE \n",
    "    country_code IS NOT NULL AND \n",
    "    date IS NOT NULL AND  \n",
    "    country_name IS NOT NULL AND \n",
    "    new_hospitalized_patients IS NOT NULL AND\n",
    "    cumulative_hospitalized_patients IS NOT NULL AND\n",
    "    new_intensive_care_patients IS NOT NULL AND\n",
    "    cumulative_intensive_care_patients IS NOT NULL;\n",
    "\"\"\")\n",
    "query_job = client.query(query)\n",
    "query_result = query_job.result()\n",
    "df5 = query_result.to_dataframe()\n",
    "df5.to_csv(\"covid_vaccination.csv\", index=False)"
   ],
   "id": "126fdee5e338619a"
  },
  {
   "cell_type": "markdown",
   "source": [
    "## Część 5\n",
    "Połącz ze sobą wszystkie dane otrzymane w części 4. Nowy zbiór danych zapisz jako oddzielny obiekt DataFrame. Jeżeli uważasz, że należy stworzyć kilka takich obiektów, zrób to i zapisz swoje uzasadnienie. Pamiętaj o ciągłej konieczności zachowania czystości danych. Wynik tego zadania zapisz w pliku / plikach CSV."
   ],
   "metadata": {
    "collapsed": false
   },
   "id": "257d0d71eed86121"
  },
  {
   "cell_type": "code",
   "execution_count": null,
   "outputs": [],
   "source": [
    "merged_df = df1.merge(df2, on=[\"country_code\", \"date\"], how=\"inner\")\n",
    "merged_df = merged_df.merge(df3, on=[\"country_code\", \"date\"], how=\"inner\")\n",
    "merged_df = merged_df.merge(df4, on=[\"country_code\", \"date\"], how=\"inner\")\n",
    "merged_df = merged_df.merge(df5, on=[\"country_code\", \"date\"], how=\"inner\")\n",
    "merged_df = merged_df.dropna()\n",
    "merged_df.to_csv(\"covid_combined_data.csv\", index=False)\n",
    "#TODO: Bez sensu jest trzymanie i country_code i country_name do laczenia bo zawsze sa takie same, location_key sie zmienia jesli dane sa dla subregionow"
   ],
   "metadata": {
    "collapsed": false
   },
   "id": "ea93b7fa96bcfe6a"
  },
  {
   "cell_type": "markdown",
   "source": [
    "## Część 6\n",
    "Połącz ze sobą dane otrzymane w części 5 oraz dane znajdujące się w plikach"
   ],
   "metadata": {
    "collapsed": false
   },
   "id": "67f241c5ad4f3162"
  },
  {
   "cell_type": "code",
   "execution_count": null,
   "outputs": [],
   "source": [
    "world_countries = pd.read_csv(\"world_countries.csv\")\n",
    "gdp = pd.read_csv(\"GDP.csv\")\n",
    "merged_df2 = df1.merge(world_countries, on=\"iso_3166_1_alpha_3\", how=\"inner\")\n",
    "# nie rozumiem troche, imo bez sensu mergowac to z tymi calymi danymi koncowymi z 5, a w GDP country name to wgl nazwa kraju lub regionu wiec troche xd"
   ],
   "metadata": {
    "collapsed": false
   },
   "id": "818bf973d0f22b53"
  }
 ],
 "metadata": {
  "kernelspec": {
   "display_name": "Python 3",
   "language": "python",
   "name": "python3"
  },
  "language_info": {
   "codemirror_mode": {
    "name": "ipython",
    "version": 2
   },
   "file_extension": ".py",
   "mimetype": "text/x-python",
   "name": "python",
   "nbconvert_exporter": "python",
   "pygments_lexer": "ipython2",
   "version": "2.7.6"
  }
 },
 "nbformat": 4,
 "nbformat_minor": 5
}
