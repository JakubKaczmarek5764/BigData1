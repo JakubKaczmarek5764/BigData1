{
 "cells": [
  {
   "metadata": {},
   "cell_type": "markdown",
   "source": [
    "## Część 2"
   ],
   "id": "fb6508acd958806b"
  },
  {
   "cell_type": "code",
   "id": "initial_id",
   "metadata": {
    "collapsed": true,
    "ExecuteTime": {
     "end_time": "2025-04-05T15:33:48.739054600Z",
     "start_time": "2025-04-05T15:33:41.135986300Z"
    }
   },
   "source": [
    "import os\n",
    "import pandas as pd\n",
    "from google.cloud import bigquery\n",
    "os.environ[\"GOOGLE_APPLICATION_CREDENTIALS\"]=\"secret.json\" # lokalizacja pobranego klucza z punktu 1.4.\n",
    "client = bigquery.Client()\n",
    "query = ('select * from bigquery-public-data.covid19_open_data.covid19_open_data limit 10')\n",
    "query_job = client.query(query)\n",
    "query_result = query_job.result()\n",
    "df1 = query_result.to_dataframe()\n",
    "df1"
   ],
   "outputs": [
    {
     "data": {
      "text/plain": "  location_key        date                     place_id wikidata_id  \\\n0        ES_CT  2022-02-14  ChIJ8_UwhdxbpBIRUMijIeD6AAE       Q5705   \n1        ES_CT  2020-05-12  ChIJ8_UwhdxbpBIRUMijIeD6AAE       Q5705   \n2        ES_CT  2022-07-13  ChIJ8_UwhdxbpBIRUMijIeD6AAE       Q5705   \n3        ES_CT  2022-05-07  ChIJ8_UwhdxbpBIRUMijIeD6AAE       Q5705   \n4        ES_CT  2021-05-31  ChIJ8_UwhdxbpBIRUMijIeD6AAE       Q5705   \n5        ES_CT  2020-12-04  ChIJ8_UwhdxbpBIRUMijIeD6AAE       Q5705   \n6        ES_CT  2020-10-15  ChIJ8_UwhdxbpBIRUMijIeD6AAE       Q5705   \n7        ES_CT  2020-03-27  ChIJ8_UwhdxbpBIRUMijIeD6AAE       Q5705   \n8        US_AL  2020-07-28  ChIJdf5LHzR_hogR6czIUzU0VV4        Q173   \n9        US_AL  2020-11-23  ChIJdf5LHzR_hogR6czIUzU0VV4        Q173   \n\n  datacommons_id country_code              country_name iso_3166_1_alpha_2  \\\n0      nuts/ES51           ES                     Spain                 ES   \n1      nuts/ES51           ES                     Spain                 ES   \n2      nuts/ES51           ES                     Spain                 ES   \n3      nuts/ES51           ES                     Spain                 ES   \n4      nuts/ES51           ES                     Spain                 ES   \n5      nuts/ES51           ES                     Spain                 ES   \n6      nuts/ES51           ES                     Spain                 ES   \n7      nuts/ES51           ES                     Spain                 ES   \n8       geoId/01           US  United States of America                 US   \n9       geoId/01           US  United States of America                 US   \n\n  iso_3166_1_alpha_3  aggregation_level  ...  \\\n0                ESP                  1  ...   \n1                ESP                  1  ...   \n2                ESP                  1  ...   \n3                ESP                  1  ...   \n4                ESP                  1  ...   \n5                ESP                  1  ...   \n6                ESP                  1  ...   \n7                ESP                  1  ...   \n8                USA                  1  ...   \n9                USA                  1  ...   \n\n   cumulative_vaccine_doses_administered_pfizer  \\\n0                                          <NA>   \n1                                          <NA>   \n2                                          <NA>   \n3                                          <NA>   \n4                                          <NA>   \n5                                          <NA>   \n6                                          <NA>   \n7                                          <NA>   \n8                                          <NA>   \n9                                          <NA>   \n\n   new_persons_fully_vaccinated_moderna  \\\n0                                  <NA>   \n1                                  <NA>   \n2                                  <NA>   \n3                                  <NA>   \n4                                  <NA>   \n5                                  <NA>   \n6                                  <NA>   \n7                                  <NA>   \n8                                  <NA>   \n9                                  <NA>   \n\n   cumulative_persons_fully_vaccinated_moderna  \\\n0                                         <NA>   \n1                                         <NA>   \n2                                         <NA>   \n3                                         <NA>   \n4                                         <NA>   \n5                                         <NA>   \n6                                         <NA>   \n7                                         <NA>   \n8                                         <NA>   \n9                                         <NA>   \n\n   new_vaccine_doses_administered_moderna  \\\n0                                    <NA>   \n1                                    <NA>   \n2                                    <NA>   \n3                                    <NA>   \n4                                    <NA>   \n5                                    <NA>   \n6                                    <NA>   \n7                                    <NA>   \n8                                    <NA>   \n9                                    <NA>   \n\n   cumulative_vaccine_doses_administered_moderna  \\\n0                                           <NA>   \n1                                           <NA>   \n2                                           <NA>   \n3                                           <NA>   \n4                                           <NA>   \n5                                           <NA>   \n6                                           <NA>   \n7                                           <NA>   \n8                                           <NA>   \n9                                           <NA>   \n\n   new_persons_fully_vaccinated_janssen  \\\n0                                  <NA>   \n1                                  <NA>   \n2                                  <NA>   \n3                                  <NA>   \n4                                  <NA>   \n5                                  <NA>   \n6                                  <NA>   \n7                                  <NA>   \n8                                  <NA>   \n9                                  <NA>   \n\n   cumulative_persons_fully_vaccinated_janssen  \\\n0                                         <NA>   \n1                                         <NA>   \n2                                         <NA>   \n3                                         <NA>   \n4                                         <NA>   \n5                                         <NA>   \n6                                         <NA>   \n7                                         <NA>   \n8                                         <NA>   \n9                                         <NA>   \n\n   new_vaccine_doses_administered_janssen  \\\n0                                    <NA>   \n1                                    <NA>   \n2                                    <NA>   \n3                                    <NA>   \n4                                    <NA>   \n5                                    <NA>   \n6                                    <NA>   \n7                                    <NA>   \n8                                    <NA>   \n9                                    <NA>   \n\n   cumulative_vaccine_doses_administered_janssen        location_geometry  \n0                                           <NA>  POINT(1.537778 41.8375)  \n1                                           <NA>  POINT(1.537778 41.8375)  \n2                                           <NA>  POINT(1.537778 41.8375)  \n3                                           <NA>  POINT(1.537778 41.8375)  \n4                                           <NA>  POINT(1.537778 41.8375)  \n5                                           <NA>  POINT(1.537778 41.8375)  \n6                                           <NA>  POINT(1.537778 41.8375)  \n7                                           <NA>  POINT(1.537778 41.8375)  \n8                                           <NA>        POINT(-86.7 32.7)  \n9                                           <NA>        POINT(-86.7 32.7)  \n\n[10 rows x 701 columns]",
      "text/html": "<div>\n<style scoped>\n    .dataframe tbody tr th:only-of-type {\n        vertical-align: middle;\n    }\n\n    .dataframe tbody tr th {\n        vertical-align: top;\n    }\n\n    .dataframe thead th {\n        text-align: right;\n    }\n</style>\n<table border=\"1\" class=\"dataframe\">\n  <thead>\n    <tr style=\"text-align: right;\">\n      <th></th>\n      <th>location_key</th>\n      <th>date</th>\n      <th>place_id</th>\n      <th>wikidata_id</th>\n      <th>datacommons_id</th>\n      <th>country_code</th>\n      <th>country_name</th>\n      <th>iso_3166_1_alpha_2</th>\n      <th>iso_3166_1_alpha_3</th>\n      <th>aggregation_level</th>\n      <th>...</th>\n      <th>cumulative_vaccine_doses_administered_pfizer</th>\n      <th>new_persons_fully_vaccinated_moderna</th>\n      <th>cumulative_persons_fully_vaccinated_moderna</th>\n      <th>new_vaccine_doses_administered_moderna</th>\n      <th>cumulative_vaccine_doses_administered_moderna</th>\n      <th>new_persons_fully_vaccinated_janssen</th>\n      <th>cumulative_persons_fully_vaccinated_janssen</th>\n      <th>new_vaccine_doses_administered_janssen</th>\n      <th>cumulative_vaccine_doses_administered_janssen</th>\n      <th>location_geometry</th>\n    </tr>\n  </thead>\n  <tbody>\n    <tr>\n      <th>0</th>\n      <td>ES_CT</td>\n      <td>2022-02-14</td>\n      <td>ChIJ8_UwhdxbpBIRUMijIeD6AAE</td>\n      <td>Q5705</td>\n      <td>nuts/ES51</td>\n      <td>ES</td>\n      <td>Spain</td>\n      <td>ES</td>\n      <td>ESP</td>\n      <td>1</td>\n      <td>...</td>\n      <td>&lt;NA&gt;</td>\n      <td>&lt;NA&gt;</td>\n      <td>&lt;NA&gt;</td>\n      <td>&lt;NA&gt;</td>\n      <td>&lt;NA&gt;</td>\n      <td>&lt;NA&gt;</td>\n      <td>&lt;NA&gt;</td>\n      <td>&lt;NA&gt;</td>\n      <td>&lt;NA&gt;</td>\n      <td>POINT(1.537778 41.8375)</td>\n    </tr>\n    <tr>\n      <th>1</th>\n      <td>ES_CT</td>\n      <td>2020-05-12</td>\n      <td>ChIJ8_UwhdxbpBIRUMijIeD6AAE</td>\n      <td>Q5705</td>\n      <td>nuts/ES51</td>\n      <td>ES</td>\n      <td>Spain</td>\n      <td>ES</td>\n      <td>ESP</td>\n      <td>1</td>\n      <td>...</td>\n      <td>&lt;NA&gt;</td>\n      <td>&lt;NA&gt;</td>\n      <td>&lt;NA&gt;</td>\n      <td>&lt;NA&gt;</td>\n      <td>&lt;NA&gt;</td>\n      <td>&lt;NA&gt;</td>\n      <td>&lt;NA&gt;</td>\n      <td>&lt;NA&gt;</td>\n      <td>&lt;NA&gt;</td>\n      <td>POINT(1.537778 41.8375)</td>\n    </tr>\n    <tr>\n      <th>2</th>\n      <td>ES_CT</td>\n      <td>2022-07-13</td>\n      <td>ChIJ8_UwhdxbpBIRUMijIeD6AAE</td>\n      <td>Q5705</td>\n      <td>nuts/ES51</td>\n      <td>ES</td>\n      <td>Spain</td>\n      <td>ES</td>\n      <td>ESP</td>\n      <td>1</td>\n      <td>...</td>\n      <td>&lt;NA&gt;</td>\n      <td>&lt;NA&gt;</td>\n      <td>&lt;NA&gt;</td>\n      <td>&lt;NA&gt;</td>\n      <td>&lt;NA&gt;</td>\n      <td>&lt;NA&gt;</td>\n      <td>&lt;NA&gt;</td>\n      <td>&lt;NA&gt;</td>\n      <td>&lt;NA&gt;</td>\n      <td>POINT(1.537778 41.8375)</td>\n    </tr>\n    <tr>\n      <th>3</th>\n      <td>ES_CT</td>\n      <td>2022-05-07</td>\n      <td>ChIJ8_UwhdxbpBIRUMijIeD6AAE</td>\n      <td>Q5705</td>\n      <td>nuts/ES51</td>\n      <td>ES</td>\n      <td>Spain</td>\n      <td>ES</td>\n      <td>ESP</td>\n      <td>1</td>\n      <td>...</td>\n      <td>&lt;NA&gt;</td>\n      <td>&lt;NA&gt;</td>\n      <td>&lt;NA&gt;</td>\n      <td>&lt;NA&gt;</td>\n      <td>&lt;NA&gt;</td>\n      <td>&lt;NA&gt;</td>\n      <td>&lt;NA&gt;</td>\n      <td>&lt;NA&gt;</td>\n      <td>&lt;NA&gt;</td>\n      <td>POINT(1.537778 41.8375)</td>\n    </tr>\n    <tr>\n      <th>4</th>\n      <td>ES_CT</td>\n      <td>2021-05-31</td>\n      <td>ChIJ8_UwhdxbpBIRUMijIeD6AAE</td>\n      <td>Q5705</td>\n      <td>nuts/ES51</td>\n      <td>ES</td>\n      <td>Spain</td>\n      <td>ES</td>\n      <td>ESP</td>\n      <td>1</td>\n      <td>...</td>\n      <td>&lt;NA&gt;</td>\n      <td>&lt;NA&gt;</td>\n      <td>&lt;NA&gt;</td>\n      <td>&lt;NA&gt;</td>\n      <td>&lt;NA&gt;</td>\n      <td>&lt;NA&gt;</td>\n      <td>&lt;NA&gt;</td>\n      <td>&lt;NA&gt;</td>\n      <td>&lt;NA&gt;</td>\n      <td>POINT(1.537778 41.8375)</td>\n    </tr>\n    <tr>\n      <th>5</th>\n      <td>ES_CT</td>\n      <td>2020-12-04</td>\n      <td>ChIJ8_UwhdxbpBIRUMijIeD6AAE</td>\n      <td>Q5705</td>\n      <td>nuts/ES51</td>\n      <td>ES</td>\n      <td>Spain</td>\n      <td>ES</td>\n      <td>ESP</td>\n      <td>1</td>\n      <td>...</td>\n      <td>&lt;NA&gt;</td>\n      <td>&lt;NA&gt;</td>\n      <td>&lt;NA&gt;</td>\n      <td>&lt;NA&gt;</td>\n      <td>&lt;NA&gt;</td>\n      <td>&lt;NA&gt;</td>\n      <td>&lt;NA&gt;</td>\n      <td>&lt;NA&gt;</td>\n      <td>&lt;NA&gt;</td>\n      <td>POINT(1.537778 41.8375)</td>\n    </tr>\n    <tr>\n      <th>6</th>\n      <td>ES_CT</td>\n      <td>2020-10-15</td>\n      <td>ChIJ8_UwhdxbpBIRUMijIeD6AAE</td>\n      <td>Q5705</td>\n      <td>nuts/ES51</td>\n      <td>ES</td>\n      <td>Spain</td>\n      <td>ES</td>\n      <td>ESP</td>\n      <td>1</td>\n      <td>...</td>\n      <td>&lt;NA&gt;</td>\n      <td>&lt;NA&gt;</td>\n      <td>&lt;NA&gt;</td>\n      <td>&lt;NA&gt;</td>\n      <td>&lt;NA&gt;</td>\n      <td>&lt;NA&gt;</td>\n      <td>&lt;NA&gt;</td>\n      <td>&lt;NA&gt;</td>\n      <td>&lt;NA&gt;</td>\n      <td>POINT(1.537778 41.8375)</td>\n    </tr>\n    <tr>\n      <th>7</th>\n      <td>ES_CT</td>\n      <td>2020-03-27</td>\n      <td>ChIJ8_UwhdxbpBIRUMijIeD6AAE</td>\n      <td>Q5705</td>\n      <td>nuts/ES51</td>\n      <td>ES</td>\n      <td>Spain</td>\n      <td>ES</td>\n      <td>ESP</td>\n      <td>1</td>\n      <td>...</td>\n      <td>&lt;NA&gt;</td>\n      <td>&lt;NA&gt;</td>\n      <td>&lt;NA&gt;</td>\n      <td>&lt;NA&gt;</td>\n      <td>&lt;NA&gt;</td>\n      <td>&lt;NA&gt;</td>\n      <td>&lt;NA&gt;</td>\n      <td>&lt;NA&gt;</td>\n      <td>&lt;NA&gt;</td>\n      <td>POINT(1.537778 41.8375)</td>\n    </tr>\n    <tr>\n      <th>8</th>\n      <td>US_AL</td>\n      <td>2020-07-28</td>\n      <td>ChIJdf5LHzR_hogR6czIUzU0VV4</td>\n      <td>Q173</td>\n      <td>geoId/01</td>\n      <td>US</td>\n      <td>United States of America</td>\n      <td>US</td>\n      <td>USA</td>\n      <td>1</td>\n      <td>...</td>\n      <td>&lt;NA&gt;</td>\n      <td>&lt;NA&gt;</td>\n      <td>&lt;NA&gt;</td>\n      <td>&lt;NA&gt;</td>\n      <td>&lt;NA&gt;</td>\n      <td>&lt;NA&gt;</td>\n      <td>&lt;NA&gt;</td>\n      <td>&lt;NA&gt;</td>\n      <td>&lt;NA&gt;</td>\n      <td>POINT(-86.7 32.7)</td>\n    </tr>\n    <tr>\n      <th>9</th>\n      <td>US_AL</td>\n      <td>2020-11-23</td>\n      <td>ChIJdf5LHzR_hogR6czIUzU0VV4</td>\n      <td>Q173</td>\n      <td>geoId/01</td>\n      <td>US</td>\n      <td>United States of America</td>\n      <td>US</td>\n      <td>USA</td>\n      <td>1</td>\n      <td>...</td>\n      <td>&lt;NA&gt;</td>\n      <td>&lt;NA&gt;</td>\n      <td>&lt;NA&gt;</td>\n      <td>&lt;NA&gt;</td>\n      <td>&lt;NA&gt;</td>\n      <td>&lt;NA&gt;</td>\n      <td>&lt;NA&gt;</td>\n      <td>&lt;NA&gt;</td>\n      <td>&lt;NA&gt;</td>\n      <td>POINT(-86.7 32.7)</td>\n    </tr>\n  </tbody>\n</table>\n<p>10 rows × 701 columns</p>\n</div>"
     },
     "execution_count": 1,
     "metadata": {},
     "output_type": "execute_result"
    }
   ],
   "execution_count": 1
  },
  {
   "metadata": {},
   "cell_type": "markdown",
   "source": [
    "## Część 3"
   ],
   "id": "c561f711ff37efe3"
  },
  {
   "metadata": {},
   "cell_type": "markdown",
   "source": [
    "3.1. Sprawdź, ile jest zapisanych wierszy z danymi. "
   ],
   "id": "1f1cc5c424e77b49"
  },
  {
   "metadata": {
    "ExecuteTime": {
     "end_time": "2025-04-05T15:33:51.948700700Z",
     "start_time": "2025-04-05T15:33:48.734055200Z"
    }
   },
   "cell_type": "code",
   "source": [
    "query = (\"\"\"\n",
    "select count(*) as liczba_wierszy from bigquery-public-data.covid19_open_data.covid19_open_data;\n",
    "\"\"\")\n",
    "\n",
    "query_job = client.query(query)\n",
    "query_result = query_job.result()\n",
    "df = query_result.to_dataframe()\n",
    "df"
   ],
   "id": "d73232504ffd0fa",
   "outputs": [
    {
     "data": {
      "text/plain": "   liczba_wierszy\n0        22756333",
      "text/html": "<div>\n<style scoped>\n    .dataframe tbody tr th:only-of-type {\n        vertical-align: middle;\n    }\n\n    .dataframe tbody tr th {\n        vertical-align: top;\n    }\n\n    .dataframe thead th {\n        text-align: right;\n    }\n</style>\n<table border=\"1\" class=\"dataframe\">\n  <thead>\n    <tr style=\"text-align: right;\">\n      <th></th>\n      <th>liczba_wierszy</th>\n    </tr>\n  </thead>\n  <tbody>\n    <tr>\n      <th>0</th>\n      <td>22756333</td>\n    </tr>\n  </tbody>\n</table>\n</div>"
     },
     "execution_count": 2,
     "metadata": {},
     "output_type": "execute_result"
    }
   ],
   "execution_count": 2
  },
  {
   "metadata": {},
   "cell_type": "markdown",
   "source": [
    " 3.2. Sprawdź, ile krajów jest uwzględnionych w danych. \n",
    "\n"
   ],
   "id": "e1ed460d5114f5a3"
  },
  {
   "metadata": {
    "ExecuteTime": {
     "end_time": "2025-04-05T15:33:55.572573600Z",
     "start_time": "2025-04-05T15:33:51.953701800Z"
    }
   },
   "cell_type": "code",
   "source": [
    "query = (\"\"\"\n",
    "select count(*) as liczba_krajow FROM (SELECT DISTINCT country_name FROM bigquery-public-data.covid19_open_data.covid19_open_data);\n",
    "\"\"\")\n",
    "query_job = client.query(query)\n",
    "query_result = query_job.result()\n",
    "df = query_result.to_dataframe()\n",
    "df"
   ],
   "id": "27ae2148a4a9d25f",
   "outputs": [
    {
     "data": {
      "text/plain": "   liczba_krajow\n0            246",
      "text/html": "<div>\n<style scoped>\n    .dataframe tbody tr th:only-of-type {\n        vertical-align: middle;\n    }\n\n    .dataframe tbody tr th {\n        vertical-align: top;\n    }\n\n    .dataframe thead th {\n        text-align: right;\n    }\n</style>\n<table border=\"1\" class=\"dataframe\">\n  <thead>\n    <tr style=\"text-align: right;\">\n      <th></th>\n      <th>liczba_krajow</th>\n    </tr>\n  </thead>\n  <tbody>\n    <tr>\n      <th>0</th>\n      <td>246</td>\n    </tr>\n  </tbody>\n</table>\n</div>"
     },
     "execution_count": 3,
     "metadata": {},
     "output_type": "execute_result"
    }
   ],
   "execution_count": 3
  },
  {
   "metadata": {},
   "cell_type": "markdown",
   "source": [
    " 3.3. Sprawdź, w jaki sposób zapisywane są dzienne informacje dla krajów.\n",
    "\n"
   ],
   "id": "201f2c1ed217cba7"
  },
  {
   "metadata": {},
   "cell_type": "markdown",
   "source": [
    "Dzienne informacje dla krajów raportowane są z podziałem na części opisywane przez aggregation_level.\n",
    "Dane odnośnie osób hospitalizowanych, zaszczepionych, zmarłych i testowanych raportowane są oddzielnie dla poszczególnych przedziałów wiekowych oraz z podziałem na płeć. \n",
    "Dane zawierają również podstawowe informacje o poszczególnych krajach, takie jak populacja, powierzchnia, wilgotność czy przewidywana długość życia."
   ],
   "id": "85254a703650d305"
  },
  {
   "metadata": {},
   "cell_type": "markdown",
   "source": [
    " 3.4. Sprawdź, w jaki sposób zapisywane są wartości liczbowe.  \n",
    "\n"
   ],
   "id": "6887ad003ec1911f"
  },
  {
   "metadata": {
    "ExecuteTime": {
     "end_time": "2025-04-05T15:33:55.591217400Z",
     "start_time": "2025-04-05T15:33:55.572573600Z"
    }
   },
   "cell_type": "code",
   "source": [
    "print(df1['population'].dtype)\n",
    "print(df1['nurses_per_1000'].dtype)\n",
    "print(df1['new_tested'].dtype)"
   ],
   "id": "fd28a16bbea7e0e",
   "outputs": [
    {
     "name": "stdout",
     "output_type": "stream",
     "text": [
      "Int64\n",
      "float64\n",
      "object\n"
     ]
    }
   ],
   "execution_count": 4
  },
  {
   "metadata": {},
   "cell_type": "markdown",
   "source": [
    " 3.5. Sprawdź, jaki przedział czasowy jest uwzględniony w danych. Dodatkowo porównaj przedziały czasowe dla przypadków nowych zachorowań, nowych śmierci oraz nowych zaszczepionych osób w danych.\n",
    "\n"
   ],
   "id": "ffd43325d7cb0f1a"
  },
  {
   "metadata": {
    "ExecuteTime": {
     "end_time": "2025-04-05T15:33:57.892871800Z",
     "start_time": "2025-04-05T15:33:55.581218800Z"
    }
   },
   "cell_type": "code",
   "source": [
    "query = (\"\"\"\n",
    "select min(date) as poczatek_przedzialu, max(date) as koniec_przedzialu FROM bigquery-public-data.covid19_open_data.covid19_open_data;\n",
    "\"\"\")\n",
    "query_job = client.query(query)\n",
    "query_result = query_job.result()\n",
    "df = query_result.to_dataframe()\n",
    "df"
   ],
   "id": "26e78b93dc09ab87",
   "outputs": [
    {
     "data": {
      "text/plain": "  poczatek_przedzialu koniec_przedzialu\n0          2020-01-01        2022-09-17",
      "text/html": "<div>\n<style scoped>\n    .dataframe tbody tr th:only-of-type {\n        vertical-align: middle;\n    }\n\n    .dataframe tbody tr th {\n        vertical-align: top;\n    }\n\n    .dataframe thead th {\n        text-align: right;\n    }\n</style>\n<table border=\"1\" class=\"dataframe\">\n  <thead>\n    <tr style=\"text-align: right;\">\n      <th></th>\n      <th>poczatek_przedzialu</th>\n      <th>koniec_przedzialu</th>\n    </tr>\n  </thead>\n  <tbody>\n    <tr>\n      <th>0</th>\n      <td>2020-01-01</td>\n      <td>2022-09-17</td>\n    </tr>\n  </tbody>\n</table>\n</div>"
     },
     "execution_count": 5,
     "metadata": {},
     "output_type": "execute_result"
    }
   ],
   "execution_count": 5
  },
  {
   "metadata": {
    "ExecuteTime": {
     "end_time": "2025-04-05T15:34:00.441873500Z",
     "start_time": "2025-04-05T15:33:57.892871800Z"
    }
   },
   "cell_type": "code",
   "source": [
    "query = (\"\"\"\n",
    "select min(date) as poczatek_przedzialu_zachorowan, max(date) as koniec_przedzialu_zachorowan FROM bigquery-public-data.covid19_open_data.covid19_open_data where new_confirmed is not null and new_confirmed <> 0;\n",
    "\"\"\")\n",
    "query_job = client.query(query)\n",
    "query_result = query_job.result()\n",
    "df = query_result.to_dataframe()\n",
    "df"
   ],
   "id": "34ec7f00b8d1b88",
   "outputs": [
    {
     "data": {
      "text/plain": "  poczatek_przedzialu_zachorowan koniec_przedzialu_zachorowan\n0                     2020-01-01                   2022-09-15",
      "text/html": "<div>\n<style scoped>\n    .dataframe tbody tr th:only-of-type {\n        vertical-align: middle;\n    }\n\n    .dataframe tbody tr th {\n        vertical-align: top;\n    }\n\n    .dataframe thead th {\n        text-align: right;\n    }\n</style>\n<table border=\"1\" class=\"dataframe\">\n  <thead>\n    <tr style=\"text-align: right;\">\n      <th></th>\n      <th>poczatek_przedzialu_zachorowan</th>\n      <th>koniec_przedzialu_zachorowan</th>\n    </tr>\n  </thead>\n  <tbody>\n    <tr>\n      <th>0</th>\n      <td>2020-01-01</td>\n      <td>2022-09-15</td>\n    </tr>\n  </tbody>\n</table>\n</div>"
     },
     "execution_count": 6,
     "metadata": {},
     "output_type": "execute_result"
    }
   ],
   "execution_count": 6
  },
  {
   "metadata": {
    "ExecuteTime": {
     "end_time": "2025-04-05T15:34:03.211964400Z",
     "start_time": "2025-04-05T15:34:00.443874700Z"
    }
   },
   "cell_type": "code",
   "source": [
    "query = (\"\"\"\n",
    "select min(date) as poczatek_przedzialu_smierci, max(date) as koniec_przedzialu_smierci FROM bigquery-public-data.covid19_open_data.covid19_open_data where new_deceased is not null and new_deceased <> 0;\n",
    "\"\"\")\n",
    "query_job = client.query(query)\n",
    "query_result = query_job.result()\n",
    "df = query_result.to_dataframe()\n",
    "df"
   ],
   "id": "68bc29639eb0b56d",
   "outputs": [
    {
     "data": {
      "text/plain": "  poczatek_przedzialu_smierci koniec_przedzialu_smierci\n0                  2020-01-02                2022-09-15",
      "text/html": "<div>\n<style scoped>\n    .dataframe tbody tr th:only-of-type {\n        vertical-align: middle;\n    }\n\n    .dataframe tbody tr th {\n        vertical-align: top;\n    }\n\n    .dataframe thead th {\n        text-align: right;\n    }\n</style>\n<table border=\"1\" class=\"dataframe\">\n  <thead>\n    <tr style=\"text-align: right;\">\n      <th></th>\n      <th>poczatek_przedzialu_smierci</th>\n      <th>koniec_przedzialu_smierci</th>\n    </tr>\n  </thead>\n  <tbody>\n    <tr>\n      <th>0</th>\n      <td>2020-01-02</td>\n      <td>2022-09-15</td>\n    </tr>\n  </tbody>\n</table>\n</div>"
     },
     "execution_count": 7,
     "metadata": {},
     "output_type": "execute_result"
    }
   ],
   "execution_count": 7
  },
  {
   "metadata": {
    "ExecuteTime": {
     "end_time": "2025-04-05T15:34:06.502749300Z",
     "start_time": "2025-04-05T15:34:03.213964200Z"
    }
   },
   "cell_type": "code",
   "source": [
    "query = (\"\"\"\n",
    "select min(date) as poczatek_przedzialu_zaszczepionych, max(date) as koniec_przedzialu_zaszczepionych FROM bigquery-public-data.covid19_open_data.covid19_open_data where new_persons_vaccinated is not null and new_persons_vaccinated <> 0;\n",
    "\"\"\")\n",
    "query_job = client.query(query)\n",
    "query_result = query_job.result()\n",
    "df = query_result.to_dataframe()\n",
    "df"
   ],
   "id": "80167cfbcc0a964f",
   "outputs": [
    {
     "data": {
      "text/plain": "  poczatek_przedzialu_zaszczepionych koniec_przedzialu_zaszczepionych\n0                         2020-12-07                       2022-09-14",
      "text/html": "<div>\n<style scoped>\n    .dataframe tbody tr th:only-of-type {\n        vertical-align: middle;\n    }\n\n    .dataframe tbody tr th {\n        vertical-align: top;\n    }\n\n    .dataframe thead th {\n        text-align: right;\n    }\n</style>\n<table border=\"1\" class=\"dataframe\">\n  <thead>\n    <tr style=\"text-align: right;\">\n      <th></th>\n      <th>poczatek_przedzialu_zaszczepionych</th>\n      <th>koniec_przedzialu_zaszczepionych</th>\n    </tr>\n  </thead>\n  <tbody>\n    <tr>\n      <th>0</th>\n      <td>2020-12-07</td>\n      <td>2022-09-14</td>\n    </tr>\n  </tbody>\n</table>\n</div>"
     },
     "execution_count": 8,
     "metadata": {},
     "output_type": "execute_result"
    }
   ],
   "execution_count": 8
  },
  {
   "metadata": {},
   "cell_type": "markdown",
   "source": [
    " 3.6. Sprawdź więcej informacji (co najmniej 5 różnych) o danych dotyczących COVID-19. W tym celu nie wykonuj żadnych dodatkowych obliczeń. \n",
    "\n"
   ],
   "id": "2b427587de08522f"
  },
  {
   "metadata": {
    "ExecuteTime": {
     "end_time": "2025-04-05T15:34:08.774900800Z",
     "start_time": "2025-04-05T15:34:06.503749800Z"
    }
   },
   "cell_type": "code",
   "source": [
    "# Sprawdzenie czy wystepuja wartosci ujemne\n",
    "query = (\"\"\"\n",
    "select COUNT(*) FROM bigquery-public-data.covid19_open_data.covid19_open_data where new_confirmed < 0;\n",
    "\"\"\")\n",
    "query_job = client.query(query)\n",
    "query_result = query_job.result()\n",
    "df = query_result.to_dataframe()\n",
    "df"
   ],
   "id": "bdf46e165e840ad6",
   "outputs": [
    {
     "data": {
      "text/plain": "      f0_\n0  102199",
      "text/html": "<div>\n<style scoped>\n    .dataframe tbody tr th:only-of-type {\n        vertical-align: middle;\n    }\n\n    .dataframe tbody tr th {\n        vertical-align: top;\n    }\n\n    .dataframe thead th {\n        text-align: right;\n    }\n</style>\n<table border=\"1\" class=\"dataframe\">\n  <thead>\n    <tr style=\"text-align: right;\">\n      <th></th>\n      <th>f0_</th>\n    </tr>\n  </thead>\n  <tbody>\n    <tr>\n      <th>0</th>\n      <td>102199</td>\n    </tr>\n  </tbody>\n</table>\n</div>"
     },
     "execution_count": 9,
     "metadata": {},
     "output_type": "execute_result"
    }
   ],
   "execution_count": 9
  },
  {
   "metadata": {
    "ExecuteTime": {
     "end_time": "2025-04-05T15:34:13.887655800Z",
     "start_time": "2025-04-05T15:34:08.775901700Z"
    }
   },
   "cell_type": "code",
   "source": [
    "#Sprawdzenie czy wystepuja duplikaty\n",
    "query = (\"\"\"\n",
    "select COUNT(*), location_key, date FROM bigquery-public-data.covid19_open_data.covid19_open_data group by location_key, date having count(*) > 1;\n",
    "\"\"\")\n",
    "query_job = client.query(query)\n",
    "query_result = query_job.result()\n",
    "df = query_result.to_dataframe()\n",
    "df"
   ],
   "id": "1cf9c6926ba6e4ae",
   "outputs": [
    {
     "data": {
      "text/plain": "Empty DataFrame\nColumns: [f0_, location_key, date]\nIndex: []",
      "text/html": "<div>\n<style scoped>\n    .dataframe tbody tr th:only-of-type {\n        vertical-align: middle;\n    }\n\n    .dataframe tbody tr th {\n        vertical-align: top;\n    }\n\n    .dataframe thead th {\n        text-align: right;\n    }\n</style>\n<table border=\"1\" class=\"dataframe\">\n  <thead>\n    <tr style=\"text-align: right;\">\n      <th></th>\n      <th>f0_</th>\n      <th>location_key</th>\n      <th>date</th>\n    </tr>\n  </thead>\n  <tbody>\n  </tbody>\n</table>\n</div>"
     },
     "execution_count": 10,
     "metadata": {},
     "output_type": "execute_result"
    }
   ],
   "execution_count": 10
  },
  {
   "metadata": {
    "ExecuteTime": {
     "end_time": "2025-04-05T15:34:16.940866800Z",
     "start_time": "2025-04-05T15:34:13.885653600Z"
    }
   },
   "cell_type": "code",
   "source": [
    "# Sprawdzenie czy kluczowe kolumny zawieraja nulle\n",
    "query = (\"\"\"\n",
    "select COUNT(*) FROM bigquery-public-data.covid19_open_data.covid19_open_data where date is null or country_name is null or location_key is null or iso_3166_1_alpha_3 is null;\n",
    "\"\"\")\n",
    "query_job = client.query(query)\n",
    "query_result = query_job.result()\n",
    "df = query_result.to_dataframe()\n",
    "df"
   ],
   "id": "5f728e72e4ed9c86",
   "outputs": [
    {
     "data": {
      "text/plain": "   f0_\n0  991",
      "text/html": "<div>\n<style scoped>\n    .dataframe tbody tr th:only-of-type {\n        vertical-align: middle;\n    }\n\n    .dataframe tbody tr th {\n        vertical-align: top;\n    }\n\n    .dataframe thead th {\n        text-align: right;\n    }\n</style>\n<table border=\"1\" class=\"dataframe\">\n  <thead>\n    <tr style=\"text-align: right;\">\n      <th></th>\n      <th>f0_</th>\n    </tr>\n  </thead>\n  <tbody>\n    <tr>\n      <th>0</th>\n      <td>991</td>\n    </tr>\n  </tbody>\n</table>\n</div>"
     },
     "execution_count": 11,
     "metadata": {},
     "output_type": "execute_result"
    }
   ],
   "execution_count": 11
  },
  {
   "metadata": {
    "ExecuteTime": {
     "end_time": "2025-04-05T15:34:19.472130700Z",
     "start_time": "2025-04-05T15:34:16.867868600Z"
    }
   },
   "cell_type": "code",
   "source": [
    "# Sprawdzenie z jakich krajow posiadamy najwiecej danych\n",
    "query = (\"\"\"\n",
    "select country_name, count(*) as count from bigquery-public-data.covid19_open_data.covid19_open_data group by country_name order by count desc limit 10;\n",
    "\"\"\")\n",
    "query_job = client.query(query)\n",
    "query_result = query_job.result()\n",
    "df = query_result.to_dataframe()\n",
    "df"
   ],
   "id": "f0623e6cfaca6f90",
   "outputs": [
    {
     "data": {
      "text/plain": "               country_name    count\n0                    Brazil  5565456\n1  United States of America  3255435\n2                    Mexico  2475518\n3                      Peru  1883891\n4                    Israel  1472626\n5                     Spain  1385418\n6                  Colombia  1145596\n7                     India   747214\n8                 Indonesia   544059\n9                 Argentina   540095",
      "text/html": "<div>\n<style scoped>\n    .dataframe tbody tr th:only-of-type {\n        vertical-align: middle;\n    }\n\n    .dataframe tbody tr th {\n        vertical-align: top;\n    }\n\n    .dataframe thead th {\n        text-align: right;\n    }\n</style>\n<table border=\"1\" class=\"dataframe\">\n  <thead>\n    <tr style=\"text-align: right;\">\n      <th></th>\n      <th>country_name</th>\n      <th>count</th>\n    </tr>\n  </thead>\n  <tbody>\n    <tr>\n      <th>0</th>\n      <td>Brazil</td>\n      <td>5565456</td>\n    </tr>\n    <tr>\n      <th>1</th>\n      <td>United States of America</td>\n      <td>3255435</td>\n    </tr>\n    <tr>\n      <th>2</th>\n      <td>Mexico</td>\n      <td>2475518</td>\n    </tr>\n    <tr>\n      <th>3</th>\n      <td>Peru</td>\n      <td>1883891</td>\n    </tr>\n    <tr>\n      <th>4</th>\n      <td>Israel</td>\n      <td>1472626</td>\n    </tr>\n    <tr>\n      <th>5</th>\n      <td>Spain</td>\n      <td>1385418</td>\n    </tr>\n    <tr>\n      <th>6</th>\n      <td>Colombia</td>\n      <td>1145596</td>\n    </tr>\n    <tr>\n      <th>7</th>\n      <td>India</td>\n      <td>747214</td>\n    </tr>\n    <tr>\n      <th>8</th>\n      <td>Indonesia</td>\n      <td>544059</td>\n    </tr>\n    <tr>\n      <th>9</th>\n      <td>Argentina</td>\n      <td>540095</td>\n    </tr>\n  </tbody>\n</table>\n</div>"
     },
     "execution_count": 12,
     "metadata": {},
     "output_type": "execute_result"
    }
   ],
   "execution_count": 12
  },
  {
   "metadata": {
    "ExecuteTime": {
     "end_time": "2025-04-05T15:34:22.414021100Z",
     "start_time": "2025-04-05T15:34:19.475130200Z"
    }
   },
   "cell_type": "code",
   "source": [
    "# sprawdzenie czy w kolumnach cumulative wystepuja wartosci mniejsze niz w kolumnach new\n",
    "query = (\"\"\"\n",
    "select distinct location_key, country_name from bigquery-public-data.covid19_open_data.covid19_open_data where (new_confirmed > cumulative_confirmed or new_deceased > cumulative_deceased or cast(new_tested as int) > cumulative_tested or new_persons_vaccinated > cumulative_persons_vaccinated or new_persons_fully_vaccinated > cumulative_persons_fully_vaccinated or new_vaccine_doses_administered > cumulative_vaccine_doses_administered);\n",
    "\"\"\")\n",
    "query_job = client.query(query)\n",
    "query_result = query_job.result()\n",
    "df = query_result.to_dataframe()\n",
    "df"
   ],
   "id": "437ea89f28001031",
   "outputs": [
    {
     "data": {
      "text/plain": "   location_key              country_name\n0         PL_10                    Poland\n1         PL_28                    Poland\n2         PL_02                    Poland\n3         PL_24                    Poland\n4            LI             Liechtenstein\n5         CH_GE               Switzerland\n6         PL_04                    Poland\n7         PL_18                    Poland\n8         US_OK  United States of America\n9            AT                   Austria\n10           CL                     Chile\n11        CH_TG               Switzerland\n12           CH               Switzerland\n13        PL_30                    Poland\n14           MY                  Malaysia\n15        PL_12                    Poland\n16        PL_08                    Poland\n17        PL_20                    Poland\n18        CH_SZ               Switzerland\n19   ZA_NW_DC38              South Africa\n20        PL_14                    Poland\n21        PL_16                    Poland\n22        PL_26                    Poland\n23        PL_22                    Poland\n24        PL_06                    Poland\n25        PL_32                    Poland\n26   ZA_EC_DC44              South Africa",
      "text/html": "<div>\n<style scoped>\n    .dataframe tbody tr th:only-of-type {\n        vertical-align: middle;\n    }\n\n    .dataframe tbody tr th {\n        vertical-align: top;\n    }\n\n    .dataframe thead th {\n        text-align: right;\n    }\n</style>\n<table border=\"1\" class=\"dataframe\">\n  <thead>\n    <tr style=\"text-align: right;\">\n      <th></th>\n      <th>location_key</th>\n      <th>country_name</th>\n    </tr>\n  </thead>\n  <tbody>\n    <tr>\n      <th>0</th>\n      <td>PL_10</td>\n      <td>Poland</td>\n    </tr>\n    <tr>\n      <th>1</th>\n      <td>PL_28</td>\n      <td>Poland</td>\n    </tr>\n    <tr>\n      <th>2</th>\n      <td>PL_02</td>\n      <td>Poland</td>\n    </tr>\n    <tr>\n      <th>3</th>\n      <td>PL_24</td>\n      <td>Poland</td>\n    </tr>\n    <tr>\n      <th>4</th>\n      <td>LI</td>\n      <td>Liechtenstein</td>\n    </tr>\n    <tr>\n      <th>5</th>\n      <td>CH_GE</td>\n      <td>Switzerland</td>\n    </tr>\n    <tr>\n      <th>6</th>\n      <td>PL_04</td>\n      <td>Poland</td>\n    </tr>\n    <tr>\n      <th>7</th>\n      <td>PL_18</td>\n      <td>Poland</td>\n    </tr>\n    <tr>\n      <th>8</th>\n      <td>US_OK</td>\n      <td>United States of America</td>\n    </tr>\n    <tr>\n      <th>9</th>\n      <td>AT</td>\n      <td>Austria</td>\n    </tr>\n    <tr>\n      <th>10</th>\n      <td>CL</td>\n      <td>Chile</td>\n    </tr>\n    <tr>\n      <th>11</th>\n      <td>CH_TG</td>\n      <td>Switzerland</td>\n    </tr>\n    <tr>\n      <th>12</th>\n      <td>CH</td>\n      <td>Switzerland</td>\n    </tr>\n    <tr>\n      <th>13</th>\n      <td>PL_30</td>\n      <td>Poland</td>\n    </tr>\n    <tr>\n      <th>14</th>\n      <td>MY</td>\n      <td>Malaysia</td>\n    </tr>\n    <tr>\n      <th>15</th>\n      <td>PL_12</td>\n      <td>Poland</td>\n    </tr>\n    <tr>\n      <th>16</th>\n      <td>PL_08</td>\n      <td>Poland</td>\n    </tr>\n    <tr>\n      <th>17</th>\n      <td>PL_20</td>\n      <td>Poland</td>\n    </tr>\n    <tr>\n      <th>18</th>\n      <td>CH_SZ</td>\n      <td>Switzerland</td>\n    </tr>\n    <tr>\n      <th>19</th>\n      <td>ZA_NW_DC38</td>\n      <td>South Africa</td>\n    </tr>\n    <tr>\n      <th>20</th>\n      <td>PL_14</td>\n      <td>Poland</td>\n    </tr>\n    <tr>\n      <th>21</th>\n      <td>PL_16</td>\n      <td>Poland</td>\n    </tr>\n    <tr>\n      <th>22</th>\n      <td>PL_26</td>\n      <td>Poland</td>\n    </tr>\n    <tr>\n      <th>23</th>\n      <td>PL_22</td>\n      <td>Poland</td>\n    </tr>\n    <tr>\n      <th>24</th>\n      <td>PL_06</td>\n      <td>Poland</td>\n    </tr>\n    <tr>\n      <th>25</th>\n      <td>PL_32</td>\n      <td>Poland</td>\n    </tr>\n    <tr>\n      <th>26</th>\n      <td>ZA_EC_DC44</td>\n      <td>South Africa</td>\n    </tr>\n  </tbody>\n</table>\n</div>"
     },
     "execution_count": 13,
     "metadata": {},
     "output_type": "execute_result"
    }
   ],
   "execution_count": 13
  },
  {
   "metadata": {},
   "cell_type": "markdown",
   "source": [
    "## Część 4"
   ],
   "id": "6ab183eb8716bef1"
  },
  {
   "metadata": {},
   "cell_type": "markdown",
   "source": [
    "4.1. Chcemy posiadać podstawowe dane o wszystkich krajach świata, które będą zrozumiałe dla człowieka oraz uniwersalne i potencjalnie przyszłościowe do dalszego przetwarzania.\n",
    "\n"
   ],
   "id": "7b955a3610cb2788"
  },
  {
   "metadata": {
    "ExecuteTime": {
     "end_time": "2025-04-05T15:34:25.671945Z",
     "start_time": "2025-04-05T15:34:22.412020100Z"
    }
   },
   "cell_type": "code",
   "source": [
    "query = (\"\"\"\n",
    "SELECT distinct\n",
    "    location_key,\n",
    "    subregion1_code,\n",
    "    subregion1_name,\n",
    "    country_code,\n",
    "    country_name, \n",
    "    iso_3166_1_alpha_2,\n",
    "    iso_3166_1_alpha_3, \n",
    "    population, \n",
    "    population_male, \n",
    "    population_female, \n",
    "    population_density, \n",
    "    human_development_index, \n",
    "    gdp_usd, \n",
    "    gdp_per_capita_usd, \n",
    "    latitude, \n",
    "    longitude, \n",
    "    area_sq_km, \n",
    "    health_expenditure_usd, \n",
    "    out_of_pocket_health_expenditure_usd \n",
    "FROM `bigquery-public-data.covid19_open_data.covid19_open_data`\n",
    "WHERE \n",
    "    location_key IS NOT NULL AND\n",
    "    country_code IS NOT NULL AND \n",
    "    country_name IS NOT NULL AND \n",
    "    iso_3166_1_alpha_2 IS NOT NULL AND \n",
    "    iso_3166_1_alpha_3 IS NOT NULL AND \n",
    "    population IS NOT NULL AND \n",
    "    population_male IS NOT NULL AND \n",
    "    population_female IS NOT NULL AND \n",
    "    population_density IS NOT NULL AND \n",
    "    human_development_index IS NOT NULL AND \n",
    "    gdp_usd IS NOT NULL AND \n",
    "    gdp_per_capita_usd IS NOT NULL AND \n",
    "    latitude IS NOT NULL AND \n",
    "    longitude IS NOT NULL AND \n",
    "    area_sq_km IS NOT NULL AND \n",
    "    health_expenditure_usd IS NOT NULL AND \n",
    "    out_of_pocket_health_expenditure_usd IS NOT NULL\n",
    "    AND aggregation_level = 0;\n",
    "\"\"\")\n",
    "query_job = client.query(query)\n",
    "query_result = query_job.result()\n",
    "df1 = query_result.to_dataframe()\n",
    "df1.to_csv(\"countries_data.csv\", index=False)\n",
    "df1"
   ],
   "id": "3798993a0bf815c6",
   "outputs": [
    {
     "data": {
      "text/plain": "    location_key subregion1_code subregion1_name country_code  \\\n0             AZ            None            None           AZ   \n1             BW            None            None           BW   \n2             CD            None            None           CD   \n3             CV            None            None           CV   \n4             EC            None            None           EC   \n..           ...             ...             ...          ...   \n170           MZ            None            None           MZ   \n171           PH            None            None           PH   \n172           SK            None            None           SK   \n173           VN            None            None           VN   \n174           ZM            None            None           ZM   \n\n                         country_name iso_3166_1_alpha_2 iso_3166_1_alpha_3  \\\n0                          Azerbaijan                 AZ                AZE   \n1                            Botswana                 BW                BWA   \n2    Democratic Republic of the Congo                 CD                COD   \n3                          Cape Verde                 CV                CPV   \n4                             Ecuador                 EC                ECU   \n..                                ...                ...                ...   \n170                        Mozambique                 MZ                MOZ   \n171                       Philippines                 PH                PHL   \n172                          Slovakia                 SK                SVK   \n173                           Vietnam                 VN                VNM   \n174                            Zambia                 ZM                ZMB   \n\n     population  population_male  population_female  population_density  \\\n0      10139175          5064664            5074511             122.664   \n1       2351625          1139099            1212526               4.149   \n2      89561404         44710172           44851232              39.506   \n3        555988           279117             276871             137.962   \n4      17643060          8823827            8819233              71.038   \n..          ...              ...                ...                 ...   \n170    31255435         15188235           16067200              39.746   \n171   100979303         51069962           49909341             367.512   \n172     5450421          2661077            2789344             111.800   \n173    97338583         48598254           48740329             313.925   \n174    18383956          9103006            9280950              24.730   \n\n     human_development_index       gdp_usd  gdp_per_capita_usd   latitude  \\\n0                      0.751   48047647058                4793  40.300000   \n1                      0.717   18340510789                7961 -22.200000   \n2                      0.457   47319624204                 545  -2.880000   \n3                      0.654    1981845740                3603  15.916667   \n4                      0.746  107435665000                6183  -1.000000   \n..                       ...           ...                 ...        ...   \n170                    0.437   14934159925                 491 -19.000000   \n171                    0.699  376795508679                3485  12.000000   \n172                    0.844  105870732800               19470  49.000000   \n173                    0.694  261921244843                2715  16.000000   \n174                    0.588   23064722446                1291 -14.000000   \n\n      longitude  area_sq_km  health_expenditure_usd  \\\n0     47.700000       86600              275.809357   \n1     23.700000      581730              465.929321   \n2     23.656000     2344860               19.431646   \n3    -24.083333        4030              167.589615   \n4    -78.000000      256370              518.029602   \n..          ...         ...                     ...   \n170   35.000000      786380               21.071156   \n171  123.000000      300000              132.900986   \n172   20.000000       49030             1186.136353   \n173  108.000000      331230              129.575958   \n174   28.000000      752610               67.648666   \n\n     out_of_pocket_health_expenditure_usd  \n0                              231.283081  \n1                               13.946393  \n2                                7.796894  \n3                               48.427498  \n4                              204.095932  \n..                                    ...  \n170                              1.558282  \n171                             70.498360  \n172                            221.963882  \n173                             58.643410  \n174                              8.015779  \n\n[175 rows x 19 columns]",
      "text/html": "<div>\n<style scoped>\n    .dataframe tbody tr th:only-of-type {\n        vertical-align: middle;\n    }\n\n    .dataframe tbody tr th {\n        vertical-align: top;\n    }\n\n    .dataframe thead th {\n        text-align: right;\n    }\n</style>\n<table border=\"1\" class=\"dataframe\">\n  <thead>\n    <tr style=\"text-align: right;\">\n      <th></th>\n      <th>location_key</th>\n      <th>subregion1_code</th>\n      <th>subregion1_name</th>\n      <th>country_code</th>\n      <th>country_name</th>\n      <th>iso_3166_1_alpha_2</th>\n      <th>iso_3166_1_alpha_3</th>\n      <th>population</th>\n      <th>population_male</th>\n      <th>population_female</th>\n      <th>population_density</th>\n      <th>human_development_index</th>\n      <th>gdp_usd</th>\n      <th>gdp_per_capita_usd</th>\n      <th>latitude</th>\n      <th>longitude</th>\n      <th>area_sq_km</th>\n      <th>health_expenditure_usd</th>\n      <th>out_of_pocket_health_expenditure_usd</th>\n    </tr>\n  </thead>\n  <tbody>\n    <tr>\n      <th>0</th>\n      <td>AZ</td>\n      <td>None</td>\n      <td>None</td>\n      <td>AZ</td>\n      <td>Azerbaijan</td>\n      <td>AZ</td>\n      <td>AZE</td>\n      <td>10139175</td>\n      <td>5064664</td>\n      <td>5074511</td>\n      <td>122.664</td>\n      <td>0.751</td>\n      <td>48047647058</td>\n      <td>4793</td>\n      <td>40.300000</td>\n      <td>47.700000</td>\n      <td>86600</td>\n      <td>275.809357</td>\n      <td>231.283081</td>\n    </tr>\n    <tr>\n      <th>1</th>\n      <td>BW</td>\n      <td>None</td>\n      <td>None</td>\n      <td>BW</td>\n      <td>Botswana</td>\n      <td>BW</td>\n      <td>BWA</td>\n      <td>2351625</td>\n      <td>1139099</td>\n      <td>1212526</td>\n      <td>4.149</td>\n      <td>0.717</td>\n      <td>18340510789</td>\n      <td>7961</td>\n      <td>-22.200000</td>\n      <td>23.700000</td>\n      <td>581730</td>\n      <td>465.929321</td>\n      <td>13.946393</td>\n    </tr>\n    <tr>\n      <th>2</th>\n      <td>CD</td>\n      <td>None</td>\n      <td>None</td>\n      <td>CD</td>\n      <td>Democratic Republic of the Congo</td>\n      <td>CD</td>\n      <td>COD</td>\n      <td>89561404</td>\n      <td>44710172</td>\n      <td>44851232</td>\n      <td>39.506</td>\n      <td>0.457</td>\n      <td>47319624204</td>\n      <td>545</td>\n      <td>-2.880000</td>\n      <td>23.656000</td>\n      <td>2344860</td>\n      <td>19.431646</td>\n      <td>7.796894</td>\n    </tr>\n    <tr>\n      <th>3</th>\n      <td>CV</td>\n      <td>None</td>\n      <td>None</td>\n      <td>CV</td>\n      <td>Cape Verde</td>\n      <td>CV</td>\n      <td>CPV</td>\n      <td>555988</td>\n      <td>279117</td>\n      <td>276871</td>\n      <td>137.962</td>\n      <td>0.654</td>\n      <td>1981845740</td>\n      <td>3603</td>\n      <td>15.916667</td>\n      <td>-24.083333</td>\n      <td>4030</td>\n      <td>167.589615</td>\n      <td>48.427498</td>\n    </tr>\n    <tr>\n      <th>4</th>\n      <td>EC</td>\n      <td>None</td>\n      <td>None</td>\n      <td>EC</td>\n      <td>Ecuador</td>\n      <td>EC</td>\n      <td>ECU</td>\n      <td>17643060</td>\n      <td>8823827</td>\n      <td>8819233</td>\n      <td>71.038</td>\n      <td>0.746</td>\n      <td>107435665000</td>\n      <td>6183</td>\n      <td>-1.000000</td>\n      <td>-78.000000</td>\n      <td>256370</td>\n      <td>518.029602</td>\n      <td>204.095932</td>\n    </tr>\n    <tr>\n      <th>...</th>\n      <td>...</td>\n      <td>...</td>\n      <td>...</td>\n      <td>...</td>\n      <td>...</td>\n      <td>...</td>\n      <td>...</td>\n      <td>...</td>\n      <td>...</td>\n      <td>...</td>\n      <td>...</td>\n      <td>...</td>\n      <td>...</td>\n      <td>...</td>\n      <td>...</td>\n      <td>...</td>\n      <td>...</td>\n      <td>...</td>\n      <td>...</td>\n    </tr>\n    <tr>\n      <th>170</th>\n      <td>MZ</td>\n      <td>None</td>\n      <td>None</td>\n      <td>MZ</td>\n      <td>Mozambique</td>\n      <td>MZ</td>\n      <td>MOZ</td>\n      <td>31255435</td>\n      <td>15188235</td>\n      <td>16067200</td>\n      <td>39.746</td>\n      <td>0.437</td>\n      <td>14934159925</td>\n      <td>491</td>\n      <td>-19.000000</td>\n      <td>35.000000</td>\n      <td>786380</td>\n      <td>21.071156</td>\n      <td>1.558282</td>\n    </tr>\n    <tr>\n      <th>171</th>\n      <td>PH</td>\n      <td>None</td>\n      <td>None</td>\n      <td>PH</td>\n      <td>Philippines</td>\n      <td>PH</td>\n      <td>PHL</td>\n      <td>100979303</td>\n      <td>51069962</td>\n      <td>49909341</td>\n      <td>367.512</td>\n      <td>0.699</td>\n      <td>376795508679</td>\n      <td>3485</td>\n      <td>12.000000</td>\n      <td>123.000000</td>\n      <td>300000</td>\n      <td>132.900986</td>\n      <td>70.498360</td>\n    </tr>\n    <tr>\n      <th>172</th>\n      <td>SK</td>\n      <td>None</td>\n      <td>None</td>\n      <td>SK</td>\n      <td>Slovakia</td>\n      <td>SK</td>\n      <td>SVK</td>\n      <td>5450421</td>\n      <td>2661077</td>\n      <td>2789344</td>\n      <td>111.800</td>\n      <td>0.844</td>\n      <td>105870732800</td>\n      <td>19470</td>\n      <td>49.000000</td>\n      <td>20.000000</td>\n      <td>49030</td>\n      <td>1186.136353</td>\n      <td>221.963882</td>\n    </tr>\n    <tr>\n      <th>173</th>\n      <td>VN</td>\n      <td>None</td>\n      <td>None</td>\n      <td>VN</td>\n      <td>Vietnam</td>\n      <td>VN</td>\n      <td>VNM</td>\n      <td>97338583</td>\n      <td>48598254</td>\n      <td>48740329</td>\n      <td>313.925</td>\n      <td>0.694</td>\n      <td>261921244843</td>\n      <td>2715</td>\n      <td>16.000000</td>\n      <td>108.000000</td>\n      <td>331230</td>\n      <td>129.575958</td>\n      <td>58.643410</td>\n    </tr>\n    <tr>\n      <th>174</th>\n      <td>ZM</td>\n      <td>None</td>\n      <td>None</td>\n      <td>ZM</td>\n      <td>Zambia</td>\n      <td>ZM</td>\n      <td>ZMB</td>\n      <td>18383956</td>\n      <td>9103006</td>\n      <td>9280950</td>\n      <td>24.730</td>\n      <td>0.588</td>\n      <td>23064722446</td>\n      <td>1291</td>\n      <td>-14.000000</td>\n      <td>28.000000</td>\n      <td>752610</td>\n      <td>67.648666</td>\n      <td>8.015779</td>\n    </tr>\n  </tbody>\n</table>\n<p>175 rows × 19 columns</p>\n</div>"
     },
     "execution_count": 14,
     "metadata": {},
     "output_type": "execute_result"
    }
   ],
   "execution_count": 14
  },
  {
   "metadata": {},
   "cell_type": "markdown",
   "source": [
    " 4.2. Chcemy wygenerować statystyki dotyczące zachorowań na COVID-19 na całym świecie.\n",
    "\n"
   ],
   "id": "a146092fee0205ae"
  },
  {
   "metadata": {
    "ExecuteTime": {
     "end_time": "2025-04-05T15:34:58.313671100Z",
     "start_time": "2025-04-05T15:34:25.669946800Z"
    }
   },
   "cell_type": "code",
   "source": [
    "query = (\"\"\"select distinct location_key, subregion1_code, subregion1_name,date, country_name, new_confirmed, cumulative_confirmed, cast(new_tested as int) as new_tested,  cumulative_tested from bigquery-public-data.covid19_open_data.covid19_open_data WHERE\n",
    "    location_key IS NOT NULL AND\n",
    "  date IS NOT NULL\n",
    "  AND country_name IS NOT NULL\n",
    "  AND new_confirmed IS NOT NULL\n",
    "  AND cumulative_confirmed IS NOT NULL\n",
    "  AND new_tested IS NOT NULL\n",
    "  AND cumulative_tested IS NOT NULL\n",
    "  AND new_confirmed <= cumulative_confirmed\n",
    "  and cast(new_tested as int) <= cumulative_tested\n",
    "  AND new_confirmed >= 0\n",
    "  AND cast(new_tested as int) >= 0\n",
    "  AND cumulative_confirmed >= 0\n",
    "  AND cumulative_tested >= 0\n",
    "  \"\"\")\n",
    "query_job = client.query(query)\n",
    "query_result = query_job.result()\n",
    "df2 = query_result.to_dataframe()\n",
    "df2.to_csv(\"covid_cases_stats.csv\", index=False)\n",
    "df2"
   ],
   "id": "c8caf199067978a7",
   "outputs": [
    {
     "data": {
      "text/plain": "        location_key subregion1_code subregion1_name        date country_name  \\\n0               AR_E               E      Entre Ríos  2020-10-24    Argentina   \n1               AR_U               U          Chubut  2021-06-03    Argentina   \n2              EE_81              81           Valga  2022-05-23      Estonia   \n3              EE_84              84        Viljandi  2022-08-02      Estonia   \n4              IN_AS              AS           Assam  2021-01-02        India   \n...              ...             ...             ...         ...          ...   \n2961099    IN_WB_MPE              WB     West Bengal  2022-01-12        India   \n2961100    IN_WB_MPW              WB     West Bengal  2021-06-20        India   \n2961101    IN_WB_APD              WB     West Bengal  2021-05-06        India   \n2961102    IN_WB_DPU              WB     West Bengal  2021-11-07        India   \n2961103    IN_WB_HOO              WB     West Bengal  2020-08-12        India   \n\n         new_confirmed  cumulative_confirmed  new_tested  cumulative_tested  \n0                  288                 14462         466              30999  \n1                  352                 65456         647             127262  \n2                    0                 10185          11              53181  \n3                    9                 17021          19              94786  \n4                   38                216289       24375            6038661  \n...                ...                   ...         ...                ...  \n2961099            241                 65066           0                  0  \n2961100            128                 47134           0                  0  \n2961101             48                  8811           0                  0  \n2961102             14                 19941           0                  0  \n2961103            113                  4923           0                  0  \n\n[2961104 rows x 9 columns]",
      "text/html": "<div>\n<style scoped>\n    .dataframe tbody tr th:only-of-type {\n        vertical-align: middle;\n    }\n\n    .dataframe tbody tr th {\n        vertical-align: top;\n    }\n\n    .dataframe thead th {\n        text-align: right;\n    }\n</style>\n<table border=\"1\" class=\"dataframe\">\n  <thead>\n    <tr style=\"text-align: right;\">\n      <th></th>\n      <th>location_key</th>\n      <th>subregion1_code</th>\n      <th>subregion1_name</th>\n      <th>date</th>\n      <th>country_name</th>\n      <th>new_confirmed</th>\n      <th>cumulative_confirmed</th>\n      <th>new_tested</th>\n      <th>cumulative_tested</th>\n    </tr>\n  </thead>\n  <tbody>\n    <tr>\n      <th>0</th>\n      <td>AR_E</td>\n      <td>E</td>\n      <td>Entre Ríos</td>\n      <td>2020-10-24</td>\n      <td>Argentina</td>\n      <td>288</td>\n      <td>14462</td>\n      <td>466</td>\n      <td>30999</td>\n    </tr>\n    <tr>\n      <th>1</th>\n      <td>AR_U</td>\n      <td>U</td>\n      <td>Chubut</td>\n      <td>2021-06-03</td>\n      <td>Argentina</td>\n      <td>352</td>\n      <td>65456</td>\n      <td>647</td>\n      <td>127262</td>\n    </tr>\n    <tr>\n      <th>2</th>\n      <td>EE_81</td>\n      <td>81</td>\n      <td>Valga</td>\n      <td>2022-05-23</td>\n      <td>Estonia</td>\n      <td>0</td>\n      <td>10185</td>\n      <td>11</td>\n      <td>53181</td>\n    </tr>\n    <tr>\n      <th>3</th>\n      <td>EE_84</td>\n      <td>84</td>\n      <td>Viljandi</td>\n      <td>2022-08-02</td>\n      <td>Estonia</td>\n      <td>9</td>\n      <td>17021</td>\n      <td>19</td>\n      <td>94786</td>\n    </tr>\n    <tr>\n      <th>4</th>\n      <td>IN_AS</td>\n      <td>AS</td>\n      <td>Assam</td>\n      <td>2021-01-02</td>\n      <td>India</td>\n      <td>38</td>\n      <td>216289</td>\n      <td>24375</td>\n      <td>6038661</td>\n    </tr>\n    <tr>\n      <th>...</th>\n      <td>...</td>\n      <td>...</td>\n      <td>...</td>\n      <td>...</td>\n      <td>...</td>\n      <td>...</td>\n      <td>...</td>\n      <td>...</td>\n      <td>...</td>\n    </tr>\n    <tr>\n      <th>2961099</th>\n      <td>IN_WB_MPE</td>\n      <td>WB</td>\n      <td>West Bengal</td>\n      <td>2022-01-12</td>\n      <td>India</td>\n      <td>241</td>\n      <td>65066</td>\n      <td>0</td>\n      <td>0</td>\n    </tr>\n    <tr>\n      <th>2961100</th>\n      <td>IN_WB_MPW</td>\n      <td>WB</td>\n      <td>West Bengal</td>\n      <td>2021-06-20</td>\n      <td>India</td>\n      <td>128</td>\n      <td>47134</td>\n      <td>0</td>\n      <td>0</td>\n    </tr>\n    <tr>\n      <th>2961101</th>\n      <td>IN_WB_APD</td>\n      <td>WB</td>\n      <td>West Bengal</td>\n      <td>2021-05-06</td>\n      <td>India</td>\n      <td>48</td>\n      <td>8811</td>\n      <td>0</td>\n      <td>0</td>\n    </tr>\n    <tr>\n      <th>2961102</th>\n      <td>IN_WB_DPU</td>\n      <td>WB</td>\n      <td>West Bengal</td>\n      <td>2021-11-07</td>\n      <td>India</td>\n      <td>14</td>\n      <td>19941</td>\n      <td>0</td>\n      <td>0</td>\n    </tr>\n    <tr>\n      <th>2961103</th>\n      <td>IN_WB_HOO</td>\n      <td>WB</td>\n      <td>West Bengal</td>\n      <td>2020-08-12</td>\n      <td>India</td>\n      <td>113</td>\n      <td>4923</td>\n      <td>0</td>\n      <td>0</td>\n    </tr>\n  </tbody>\n</table>\n<p>2961104 rows × 9 columns</p>\n</div>"
     },
     "execution_count": 15,
     "metadata": {},
     "output_type": "execute_result"
    }
   ],
   "execution_count": 15
  },
  {
   "metadata": {},
   "cell_type": "markdown",
   "source": [
    " 4.3. Chcemy poznać efekty COVID-19 poprzez uwypuklenie problemu śmiertelności ludzi spowodowanej wirusem.\n",
    "\n"
   ],
   "id": "e127b2bf512fae61"
  },
  {
   "metadata": {
    "ExecuteTime": {
     "end_time": "2025-04-05T15:36:37.041387800Z",
     "start_time": "2025-04-05T15:34:58.315670500Z"
    }
   },
   "cell_type": "code",
   "source": [
    "query = (\"\"\"\n",
    "SELECT \n",
    "    location_key,\n",
    "    subregion1_code,\n",
    "    subregion1_name,\n",
    "    date,  \n",
    "    country_name,  \n",
    "    new_deceased, \n",
    "    cumulative_deceased \n",
    "FROM `bigquery-public-data.covid19_open_data.covid19_open_data`\n",
    "WHERE \n",
    "    date IS NOT NULL AND  \n",
    "    location_key IS NOT NULL AND\n",
    "    country_name IS NOT NULL AND \n",
    "    new_deceased IS NOT NULL AND \n",
    "    cumulative_deceased IS NOT NULL AND\n",
    "    new_deceased <= cumulative_deceased AND\n",
    "    new_deceased >= 0\n",
    "    AND cumulative_deceased >= 0\n",
    "    ;\n",
    "\n",
    "\"\"\")\n",
    "query_job = client.query(query)\n",
    "query_result = query_job.result()\n",
    "df3 = query_result.to_dataframe()\n",
    "df3.to_csv(\"covid_mortality.csv\", index=False)\n",
    "df3"
   ],
   "id": "237536fffda376e9",
   "outputs": [
    {
     "data": {
      "text/plain": "          location_key subregion1_code    subregion1_name        date  \\\n0         BR_RO_110080              RO           Rondônia  2020-07-28   \n1         MX_TLA_29054             TLA           Tlaxcala  2022-08-11   \n2          DE_BW_08315              BW  Baden-Württemberg  2020-07-17   \n3          DE_NI_03360              NI       Lower Saxony  2020-07-26   \n4          DE_NI_03461              NI       Lower Saxony  2021-09-17   \n...                ...             ...                ...         ...   \n11440092   US_WI_55103              WI          Wisconsin  2020-10-02   \n11440093         US_WI              WI          Wisconsin  2022-05-02   \n11440094   US_WI_55089              WI          Wisconsin  2021-06-09   \n11440095   US_WI_55125              WI          Wisconsin  2022-03-27   \n11440096   US_WI_55021              WI          Wisconsin  2022-03-07   \n\n                      country_name  new_deceased  cumulative_deceased  \n0                           Brazil             0                   17  \n1                           Mexico             0                    1  \n2                          Germany             0                   78  \n3                          Germany             0                    0  \n4                          Germany             0                  118  \n...                            ...           ...                  ...  \n11440092  United States of America             0                    4  \n11440093  United States of America             2                14415  \n11440094  United States of America             0                  102  \n11440095  United States of America             0                   88  \n11440096  United States of America             1                  124  \n\n[11440097 rows x 7 columns]",
      "text/html": "<div>\n<style scoped>\n    .dataframe tbody tr th:only-of-type {\n        vertical-align: middle;\n    }\n\n    .dataframe tbody tr th {\n        vertical-align: top;\n    }\n\n    .dataframe thead th {\n        text-align: right;\n    }\n</style>\n<table border=\"1\" class=\"dataframe\">\n  <thead>\n    <tr style=\"text-align: right;\">\n      <th></th>\n      <th>location_key</th>\n      <th>subregion1_code</th>\n      <th>subregion1_name</th>\n      <th>date</th>\n      <th>country_name</th>\n      <th>new_deceased</th>\n      <th>cumulative_deceased</th>\n    </tr>\n  </thead>\n  <tbody>\n    <tr>\n      <th>0</th>\n      <td>BR_RO_110080</td>\n      <td>RO</td>\n      <td>Rondônia</td>\n      <td>2020-07-28</td>\n      <td>Brazil</td>\n      <td>0</td>\n      <td>17</td>\n    </tr>\n    <tr>\n      <th>1</th>\n      <td>MX_TLA_29054</td>\n      <td>TLA</td>\n      <td>Tlaxcala</td>\n      <td>2022-08-11</td>\n      <td>Mexico</td>\n      <td>0</td>\n      <td>1</td>\n    </tr>\n    <tr>\n      <th>2</th>\n      <td>DE_BW_08315</td>\n      <td>BW</td>\n      <td>Baden-Württemberg</td>\n      <td>2020-07-17</td>\n      <td>Germany</td>\n      <td>0</td>\n      <td>78</td>\n    </tr>\n    <tr>\n      <th>3</th>\n      <td>DE_NI_03360</td>\n      <td>NI</td>\n      <td>Lower Saxony</td>\n      <td>2020-07-26</td>\n      <td>Germany</td>\n      <td>0</td>\n      <td>0</td>\n    </tr>\n    <tr>\n      <th>4</th>\n      <td>DE_NI_03461</td>\n      <td>NI</td>\n      <td>Lower Saxony</td>\n      <td>2021-09-17</td>\n      <td>Germany</td>\n      <td>0</td>\n      <td>118</td>\n    </tr>\n    <tr>\n      <th>...</th>\n      <td>...</td>\n      <td>...</td>\n      <td>...</td>\n      <td>...</td>\n      <td>...</td>\n      <td>...</td>\n      <td>...</td>\n    </tr>\n    <tr>\n      <th>11440092</th>\n      <td>US_WI_55103</td>\n      <td>WI</td>\n      <td>Wisconsin</td>\n      <td>2020-10-02</td>\n      <td>United States of America</td>\n      <td>0</td>\n      <td>4</td>\n    </tr>\n    <tr>\n      <th>11440093</th>\n      <td>US_WI</td>\n      <td>WI</td>\n      <td>Wisconsin</td>\n      <td>2022-05-02</td>\n      <td>United States of America</td>\n      <td>2</td>\n      <td>14415</td>\n    </tr>\n    <tr>\n      <th>11440094</th>\n      <td>US_WI_55089</td>\n      <td>WI</td>\n      <td>Wisconsin</td>\n      <td>2021-06-09</td>\n      <td>United States of America</td>\n      <td>0</td>\n      <td>102</td>\n    </tr>\n    <tr>\n      <th>11440095</th>\n      <td>US_WI_55125</td>\n      <td>WI</td>\n      <td>Wisconsin</td>\n      <td>2022-03-27</td>\n      <td>United States of America</td>\n      <td>0</td>\n      <td>88</td>\n    </tr>\n    <tr>\n      <th>11440096</th>\n      <td>US_WI_55021</td>\n      <td>WI</td>\n      <td>Wisconsin</td>\n      <td>2022-03-07</td>\n      <td>United States of America</td>\n      <td>1</td>\n      <td>124</td>\n    </tr>\n  </tbody>\n</table>\n<p>11440097 rows × 7 columns</p>\n</div>"
     },
     "execution_count": 16,
     "metadata": {},
     "output_type": "execute_result"
    }
   ],
   "execution_count": 16
  },
  {
   "metadata": {},
   "cell_type": "markdown",
   "source": [
    " 4.4. Chcemy zaobserwować trendy i zależności dotyczące szczepień na COVID-19.\n",
    "\n"
   ],
   "id": "46731528de90aada"
  },
  {
   "metadata": {
    "ExecuteTime": {
     "end_time": "2025-04-05T15:36:52.547303400Z",
     "start_time": "2025-04-05T15:36:37.088385800Z"
    }
   },
   "cell_type": "code",
   "source": [
    "\n",
    "import numpy as np\n",
    "\n",
    "query = (\"\"\"\n",
    "SELECT \n",
    "    location_key,\n",
    "    subregion1_code,\n",
    "    subregion1_name,\n",
    "    date,  \n",
    "    country_name, \n",
    "    new_persons_vaccinated, \n",
    "    cumulative_persons_vaccinated, \n",
    "    new_persons_fully_vaccinated, \n",
    "    cumulative_persons_fully_vaccinated, \n",
    "    new_vaccine_doses_administered, \n",
    "    cumulative_vaccine_doses_administered \n",
    "FROM `bigquery-public-data.covid19_open_data.covid19_open_data`\n",
    "WHERE \n",
    "    location_key IS NOT NULL AND\n",
    "    date IS NOT NULL AND  \n",
    "    country_name IS NOT NULL AND\n",
    "    new_persons_vaccinated >= 0 AND\n",
    "    cumulative_persons_vaccinated >= 0 AND\n",
    "    new_persons_fully_vaccinated >= 0 AND\n",
    "    cumulative_persons_fully_vaccinated >= 0 AND\n",
    "    new_vaccine_doses_administered >= 0 AND\n",
    "    cumulative_vaccine_doses_administered >= 0\n",
    "    ;\n",
    "\n",
    "\"\"\")\n",
    "query_job = client.query(query)\n",
    "query_result = query_job.result()\n",
    "df4 = query_result.to_dataframe()\n",
    "df4.replace(np.nan, 0, inplace=True)\n",
    "df4.to_csv(\"covid_vaccination.csv\", index=False)\n",
    "df4"
   ],
   "id": "f174056c88f11886",
   "outputs": [
    {
     "data": {
      "text/plain": "       location_key subregion1_code subregion1_name        date  \\\n0             ES_CT              CT        Cataluña  2021-05-31   \n1             US_AZ              AZ         Arizona  2021-02-27   \n2             US_CA              CA      California  2022-01-12   \n3             US_CA              CA      California  2021-11-16   \n4             US_CA              CA      California  2021-07-15   \n...             ...             ...             ...         ...   \n877016     PL_10_62              10            Łódź  2021-12-03   \n877017     PL_10_62              10            Łódź  2021-12-20   \n877018     PL_10_62              10            Łódź  2021-08-05   \n877019     PL_10_63              10            Łódź  2021-07-15   \n877020     PL_10_63              10            Łódź  2021-10-27   \n\n                    country_name  new_persons_vaccinated  \\\n0                          Spain                   11128   \n1       United States of America                   27056   \n2       United States of America                   47349   \n3       United States of America                   31417   \n4       United States of America                   57447   \n...                          ...                     ...   \n877016                    Poland                      49   \n877017                    Poland                       0   \n877018                    Poland                     121   \n877019                    Poland                      46   \n877020                    Poland                      11   \n\n        cumulative_persons_vaccinated  new_persons_fully_vaccinated  \\\n0                             2817361                         32046   \n1                             1195110                         28614   \n2                            33309079                         27401   \n3                            30361433                         10027   \n4                            24865725                         47730   \n...                               ...                           ...   \n877016                          47803                             7   \n877017                          48804                             0   \n877018                          39848                           246   \n877019                          34457                           295   \n877020                          41329                            11   \n\n        cumulative_persons_fully_vaccinated  new_vaccine_doses_administered  \\\n0                                   1423308                           43174   \n1                                    490688                           56945   \n2                                  26491139                          177040   \n3                                  24639061                           80192   \n4                                  20309600                          101382   \n...                                     ...                             ...   \n877016                                40795                             422   \n877017                                41384                               0   \n877018                                35269                             367   \n877019                                30532                             341   \n877020                                35407                              22   \n\n        cumulative_vaccine_doses_administered  \n0                                     4240669  \n1                                     1728239  \n2                                    67991446  \n3                                    57134769  \n4                                    43868821  \n...                                       ...  \n877016                                  96111  \n877017                                 104053  \n877018                                  75117  \n877019                                  64989  \n877020                                  76736  \n\n[877021 rows x 11 columns]",
      "text/html": "<div>\n<style scoped>\n    .dataframe tbody tr th:only-of-type {\n        vertical-align: middle;\n    }\n\n    .dataframe tbody tr th {\n        vertical-align: top;\n    }\n\n    .dataframe thead th {\n        text-align: right;\n    }\n</style>\n<table border=\"1\" class=\"dataframe\">\n  <thead>\n    <tr style=\"text-align: right;\">\n      <th></th>\n      <th>location_key</th>\n      <th>subregion1_code</th>\n      <th>subregion1_name</th>\n      <th>date</th>\n      <th>country_name</th>\n      <th>new_persons_vaccinated</th>\n      <th>cumulative_persons_vaccinated</th>\n      <th>new_persons_fully_vaccinated</th>\n      <th>cumulative_persons_fully_vaccinated</th>\n      <th>new_vaccine_doses_administered</th>\n      <th>cumulative_vaccine_doses_administered</th>\n    </tr>\n  </thead>\n  <tbody>\n    <tr>\n      <th>0</th>\n      <td>ES_CT</td>\n      <td>CT</td>\n      <td>Cataluña</td>\n      <td>2021-05-31</td>\n      <td>Spain</td>\n      <td>11128</td>\n      <td>2817361</td>\n      <td>32046</td>\n      <td>1423308</td>\n      <td>43174</td>\n      <td>4240669</td>\n    </tr>\n    <tr>\n      <th>1</th>\n      <td>US_AZ</td>\n      <td>AZ</td>\n      <td>Arizona</td>\n      <td>2021-02-27</td>\n      <td>United States of America</td>\n      <td>27056</td>\n      <td>1195110</td>\n      <td>28614</td>\n      <td>490688</td>\n      <td>56945</td>\n      <td>1728239</td>\n    </tr>\n    <tr>\n      <th>2</th>\n      <td>US_CA</td>\n      <td>CA</td>\n      <td>California</td>\n      <td>2022-01-12</td>\n      <td>United States of America</td>\n      <td>47349</td>\n      <td>33309079</td>\n      <td>27401</td>\n      <td>26491139</td>\n      <td>177040</td>\n      <td>67991446</td>\n    </tr>\n    <tr>\n      <th>3</th>\n      <td>US_CA</td>\n      <td>CA</td>\n      <td>California</td>\n      <td>2021-11-16</td>\n      <td>United States of America</td>\n      <td>31417</td>\n      <td>30361433</td>\n      <td>10027</td>\n      <td>24639061</td>\n      <td>80192</td>\n      <td>57134769</td>\n    </tr>\n    <tr>\n      <th>4</th>\n      <td>US_CA</td>\n      <td>CA</td>\n      <td>California</td>\n      <td>2021-07-15</td>\n      <td>United States of America</td>\n      <td>57447</td>\n      <td>24865725</td>\n      <td>47730</td>\n      <td>20309600</td>\n      <td>101382</td>\n      <td>43868821</td>\n    </tr>\n    <tr>\n      <th>...</th>\n      <td>...</td>\n      <td>...</td>\n      <td>...</td>\n      <td>...</td>\n      <td>...</td>\n      <td>...</td>\n      <td>...</td>\n      <td>...</td>\n      <td>...</td>\n      <td>...</td>\n      <td>...</td>\n    </tr>\n    <tr>\n      <th>877016</th>\n      <td>PL_10_62</td>\n      <td>10</td>\n      <td>Łódź</td>\n      <td>2021-12-03</td>\n      <td>Poland</td>\n      <td>49</td>\n      <td>47803</td>\n      <td>7</td>\n      <td>40795</td>\n      <td>422</td>\n      <td>96111</td>\n    </tr>\n    <tr>\n      <th>877017</th>\n      <td>PL_10_62</td>\n      <td>10</td>\n      <td>Łódź</td>\n      <td>2021-12-20</td>\n      <td>Poland</td>\n      <td>0</td>\n      <td>48804</td>\n      <td>0</td>\n      <td>41384</td>\n      <td>0</td>\n      <td>104053</td>\n    </tr>\n    <tr>\n      <th>877018</th>\n      <td>PL_10_62</td>\n      <td>10</td>\n      <td>Łódź</td>\n      <td>2021-08-05</td>\n      <td>Poland</td>\n      <td>121</td>\n      <td>39848</td>\n      <td>246</td>\n      <td>35269</td>\n      <td>367</td>\n      <td>75117</td>\n    </tr>\n    <tr>\n      <th>877019</th>\n      <td>PL_10_63</td>\n      <td>10</td>\n      <td>Łódź</td>\n      <td>2021-07-15</td>\n      <td>Poland</td>\n      <td>46</td>\n      <td>34457</td>\n      <td>295</td>\n      <td>30532</td>\n      <td>341</td>\n      <td>64989</td>\n    </tr>\n    <tr>\n      <th>877020</th>\n      <td>PL_10_63</td>\n      <td>10</td>\n      <td>Łódź</td>\n      <td>2021-10-27</td>\n      <td>Poland</td>\n      <td>11</td>\n      <td>41329</td>\n      <td>11</td>\n      <td>35407</td>\n      <td>22</td>\n      <td>76736</td>\n    </tr>\n  </tbody>\n</table>\n<p>877021 rows × 11 columns</p>\n</div>"
     },
     "execution_count": 17,
     "metadata": {},
     "output_type": "execute_result"
    }
   ],
   "execution_count": 17
  },
  {
   "metadata": {},
   "cell_type": "markdown",
   "source": [
    " 4.5. Zdefiniuj własny dodatkowy przypadek. Chcemy dowiedzieć się ile jest pielęgniarek i lekarzy w poszczególnych krajach.\n",
    "\n"
   ],
   "id": "429a598ba1d5db6e"
  },
  {
   "metadata": {
    "ExecuteTime": {
     "end_time": "2025-04-05T15:36:55.093387Z",
     "start_time": "2025-04-05T15:36:52.550303500Z"
    }
   },
   "cell_type": "code",
   "source": [
    "query = (\"\"\"\n",
    "SELECT distinct\n",
    "    location_key,\n",
    "    subregion1_code,\n",
    "    subregion1_name,\n",
    "    country_name, \n",
    "    nurses_per_1000,\n",
    "    physicians_per_1000\n",
    "FROM `bigquery-public-data.covid19_open_data.covid19_open_data`\n",
    "WHERE \n",
    "    location_key IS NOT NULL AND\n",
    "    country_name IS NOT NULL AND \n",
    "    nurses_per_1000 >= 0 AND\n",
    "    physicians_per_1000 >= 0\n",
    "    ;\n",
    "\"\"\")\n",
    "query_job = client.query(query)\n",
    "query_result = query_job.result()\n",
    "df5 = query_result.to_dataframe()\n",
    "df5.to_csv(\"covid_vaccination.csv\", index=False)\n",
    "df5"
   ],
   "id": "f68597814fd67f65",
   "outputs": [
    {
     "data": {
      "text/plain": "    location_key subregion1_code subregion1_name  \\\n0             ES            None            None   \n1             FI            None            None   \n2             IN            None            None   \n3             AD            None            None   \n4             CD            None            None   \n..           ...             ...             ...   \n159           SV            None            None   \n160           UG            None            None   \n161           UY            None            None   \n162           VN            None            None   \n163           ZW            None            None   \n\n                         country_name  nurses_per_1000  physicians_per_1000  \n0                               Spain           5.7295               3.8723  \n1                             Finland          14.7374               3.8118  \n2                               India           1.7271               0.8571  \n3                             Andorra           4.0128               3.3333  \n4    Democratic Republic of the Congo           1.1101               0.0740  \n..                                ...              ...                  ...  \n159                       El Salvador           1.8344               1.5662  \n160                            Uganda           1.2382               0.1680  \n161                           Uruguay           1.9412               5.0794  \n162                           Vietnam           1.4463               0.8281  \n163                          Zimbabwe           1.9346               0.2096  \n\n[164 rows x 6 columns]",
      "text/html": "<div>\n<style scoped>\n    .dataframe tbody tr th:only-of-type {\n        vertical-align: middle;\n    }\n\n    .dataframe tbody tr th {\n        vertical-align: top;\n    }\n\n    .dataframe thead th {\n        text-align: right;\n    }\n</style>\n<table border=\"1\" class=\"dataframe\">\n  <thead>\n    <tr style=\"text-align: right;\">\n      <th></th>\n      <th>location_key</th>\n      <th>subregion1_code</th>\n      <th>subregion1_name</th>\n      <th>country_name</th>\n      <th>nurses_per_1000</th>\n      <th>physicians_per_1000</th>\n    </tr>\n  </thead>\n  <tbody>\n    <tr>\n      <th>0</th>\n      <td>ES</td>\n      <td>None</td>\n      <td>None</td>\n      <td>Spain</td>\n      <td>5.7295</td>\n      <td>3.8723</td>\n    </tr>\n    <tr>\n      <th>1</th>\n      <td>FI</td>\n      <td>None</td>\n      <td>None</td>\n      <td>Finland</td>\n      <td>14.7374</td>\n      <td>3.8118</td>\n    </tr>\n    <tr>\n      <th>2</th>\n      <td>IN</td>\n      <td>None</td>\n      <td>None</td>\n      <td>India</td>\n      <td>1.7271</td>\n      <td>0.8571</td>\n    </tr>\n    <tr>\n      <th>3</th>\n      <td>AD</td>\n      <td>None</td>\n      <td>None</td>\n      <td>Andorra</td>\n      <td>4.0128</td>\n      <td>3.3333</td>\n    </tr>\n    <tr>\n      <th>4</th>\n      <td>CD</td>\n      <td>None</td>\n      <td>None</td>\n      <td>Democratic Republic of the Congo</td>\n      <td>1.1101</td>\n      <td>0.0740</td>\n    </tr>\n    <tr>\n      <th>...</th>\n      <td>...</td>\n      <td>...</td>\n      <td>...</td>\n      <td>...</td>\n      <td>...</td>\n      <td>...</td>\n    </tr>\n    <tr>\n      <th>159</th>\n      <td>SV</td>\n      <td>None</td>\n      <td>None</td>\n      <td>El Salvador</td>\n      <td>1.8344</td>\n      <td>1.5662</td>\n    </tr>\n    <tr>\n      <th>160</th>\n      <td>UG</td>\n      <td>None</td>\n      <td>None</td>\n      <td>Uganda</td>\n      <td>1.2382</td>\n      <td>0.1680</td>\n    </tr>\n    <tr>\n      <th>161</th>\n      <td>UY</td>\n      <td>None</td>\n      <td>None</td>\n      <td>Uruguay</td>\n      <td>1.9412</td>\n      <td>5.0794</td>\n    </tr>\n    <tr>\n      <th>162</th>\n      <td>VN</td>\n      <td>None</td>\n      <td>None</td>\n      <td>Vietnam</td>\n      <td>1.4463</td>\n      <td>0.8281</td>\n    </tr>\n    <tr>\n      <th>163</th>\n      <td>ZW</td>\n      <td>None</td>\n      <td>None</td>\n      <td>Zimbabwe</td>\n      <td>1.9346</td>\n      <td>0.2096</td>\n    </tr>\n  </tbody>\n</table>\n<p>164 rows × 6 columns</p>\n</div>"
     },
     "execution_count": 18,
     "metadata": {},
     "output_type": "execute_result"
    }
   ],
   "execution_count": 18
  },
  {
   "metadata": {},
   "cell_type": "markdown",
   "source": [
    "## Część 5\n",
    "Połącz ze sobą wszystkie dane otrzymane w części 4. Nowy zbiór danych zapisz jako oddzielny obiekt DataFrame. Jeżeli uważasz, że należy stworzyć kilka takich obiektów, zrób to i zapisz swoje uzasadnienie. Pamiętaj o ciągłej konieczności zachowania czystości danych. Wynik tego zadania zapisz w pliku / plikach CSV."
   ],
   "id": "2f641244fd3870c7"
  },
  {
   "metadata": {},
   "cell_type": "markdown",
   "source": [
    "## Część 6\n",
    "Połącz ze sobą dane otrzymane w części 5 oraz dane znajdujące się w plikach"
   ],
   "id": "d3378b8ffeef60ca"
  },
  {
   "metadata": {
    "ExecuteTime": {
     "end_time": "2025-04-05T15:37:07.416366300Z",
     "start_time": "2025-04-05T15:36:55.379388100Z"
    }
   },
   "cell_type": "code",
   "source": [
    "# df1 + gdp + world_countries + df5\n",
    "# df2 + df3 + df4\n",
    "merged_df = df2.merge(df3, on=[\"location_key\", \"date\"], how=\"inner\")\n",
    "merged_df = merged_df.merge(df4, on=[\"location_key\", \"date\"], how=\"inner\")\n",
    "merged_df.to_csv(\"covid_combined_data.csv\", index=False)\n",
    "merged_df"
   ],
   "id": "a7b37f44660d6bb1",
   "outputs": [
    {
     "data": {
      "text/plain": "       location_key subregion1_code_x           subregion1_name_x        date  \\\n0              AR_U                 U                      Chubut  2021-06-03   \n1             IN_AS                AS                       Assam  2021-06-25   \n2             MY_02                02                       Kedah  2022-01-24   \n3             US_DE                DE                    Delaware  2021-11-04   \n4            FR_PAC               PAC  Provence-Alpes-Côte d'Azur  2021-11-05   \n...             ...               ...                         ...         ...   \n350782        IN_WB                WB                 West Bengal  2021-03-05   \n350783        IN_WB                WB                 West Bengal  2021-08-27   \n350784        IN_WB                WB                 West Bengal  2021-06-18   \n350785        IN_WB                WB                 West Bengal  2021-06-03   \n350786        IN_WB                WB                 West Bengal  2021-07-01   \n\n                  country_name_x  new_confirmed  cumulative_confirmed  \\\n0                      Argentina            352                 65456   \n1                          India           2793                496481   \n2                       Malaysia            395                174374   \n3       United States of America            276                145284   \n4                         France            865                757955   \n...                          ...            ...                   ...   \n350782                     India            255                576176   \n350783                     India            703               1546237   \n350784                     India           2788               1477037   \n350785                     India           8811               1403535   \n350786                     India           1501               1501284   \n\n        new_tested  cumulative_tested subregion1_code_y  ...  \\\n0              647             127262                 U  ...   \n1           139105           14339556                AS  ...   \n2             8098            1321133                02  ...   \n3             1121             433596                DE  ...   \n4            37314           16882909               PAC  ...   \n...            ...                ...               ...  ...   \n350782       20851            8658929                WB  ...   \n350783       43448           16858265                WB  ...   \n350784       55367           13578748                WB  ...   \n350785       74568           12645747                WB  ...   \n350786       54741           14272933                WB  ...   \n\n       cumulative_deceased subregion1_code             subregion1_name  \\\n0                     1147               U                      Chubut   \n1                     4370              AS                       Assam   \n2                     2174              02                       Kedah   \n3                     1970              DE                    Delaware   \n4                     8965             PAC  Provence-Alpes-Côte d'Azur   \n...                    ...             ...                         ...   \n350782               10275              WB                 West Bengal   \n350783               18410              WB                 West Bengal   \n350784               17240              WB                 West Bengal   \n350785               15921              WB                 West Bengal   \n350786               17735              WB                 West Bengal   \n\n                    country_name new_persons_vaccinated  \\\n0                      Argentina                   1157   \n1                          India                 158705   \n2                       Malaysia                     74   \n3       United States of America                    282   \n4                         France                   2486   \n...                          ...                    ...   \n350782                     India                  88226   \n350783                     India                 350670   \n350784                     India                 166235   \n350785                     India                 233060   \n350786                     India                  66911   \n\n       cumulative_persons_vaccinated new_persons_fully_vaccinated  \\\n0                              54564                          413   \n1                            5536768                        17540   \n2                            1596945                          257   \n3                             676753                          119   \n4                            3635163                         3321   \n...                              ...                          ...   \n350782                       1253831                        22281   \n350783                      27755795                       214649   \n350784                      14422580                        41120   \n350785                      11511500                        12512   \n350786                      16900326                        52872   \n\n        cumulative_persons_fully_vaccinated  new_vaccine_doses_administered  \\\n0                                     18606                            1570   \n1                                   1152586                          176245   \n2                                   1577276                            8236   \n3                                    585615                             190   \n4                                   3526206                            5807   \n...                                     ...                             ...   \n350782                               233229                          110507   \n350783                             10876093                          565319   \n350784                              4188380                          207355   \n350785                              3915428                          245572   \n350786                              5109791                          119783   \n\n        cumulative_vaccine_doses_administered  \n0                                       73170  \n1                                     6689354  \n2                                     3714419  \n3                                     1323940  \n4                                     7161369  \n...                                       ...  \n350782                                1487060  \n350783                               38631888  \n350784                               18610960  \n350785                               15426928  \n350786                               22010117  \n\n[350787 rows x 23 columns]",
      "text/html": "<div>\n<style scoped>\n    .dataframe tbody tr th:only-of-type {\n        vertical-align: middle;\n    }\n\n    .dataframe tbody tr th {\n        vertical-align: top;\n    }\n\n    .dataframe thead th {\n        text-align: right;\n    }\n</style>\n<table border=\"1\" class=\"dataframe\">\n  <thead>\n    <tr style=\"text-align: right;\">\n      <th></th>\n      <th>location_key</th>\n      <th>subregion1_code_x</th>\n      <th>subregion1_name_x</th>\n      <th>date</th>\n      <th>country_name_x</th>\n      <th>new_confirmed</th>\n      <th>cumulative_confirmed</th>\n      <th>new_tested</th>\n      <th>cumulative_tested</th>\n      <th>subregion1_code_y</th>\n      <th>...</th>\n      <th>cumulative_deceased</th>\n      <th>subregion1_code</th>\n      <th>subregion1_name</th>\n      <th>country_name</th>\n      <th>new_persons_vaccinated</th>\n      <th>cumulative_persons_vaccinated</th>\n      <th>new_persons_fully_vaccinated</th>\n      <th>cumulative_persons_fully_vaccinated</th>\n      <th>new_vaccine_doses_administered</th>\n      <th>cumulative_vaccine_doses_administered</th>\n    </tr>\n  </thead>\n  <tbody>\n    <tr>\n      <th>0</th>\n      <td>AR_U</td>\n      <td>U</td>\n      <td>Chubut</td>\n      <td>2021-06-03</td>\n      <td>Argentina</td>\n      <td>352</td>\n      <td>65456</td>\n      <td>647</td>\n      <td>127262</td>\n      <td>U</td>\n      <td>...</td>\n      <td>1147</td>\n      <td>U</td>\n      <td>Chubut</td>\n      <td>Argentina</td>\n      <td>1157</td>\n      <td>54564</td>\n      <td>413</td>\n      <td>18606</td>\n      <td>1570</td>\n      <td>73170</td>\n    </tr>\n    <tr>\n      <th>1</th>\n      <td>IN_AS</td>\n      <td>AS</td>\n      <td>Assam</td>\n      <td>2021-06-25</td>\n      <td>India</td>\n      <td>2793</td>\n      <td>496481</td>\n      <td>139105</td>\n      <td>14339556</td>\n      <td>AS</td>\n      <td>...</td>\n      <td>4370</td>\n      <td>AS</td>\n      <td>Assam</td>\n      <td>India</td>\n      <td>158705</td>\n      <td>5536768</td>\n      <td>17540</td>\n      <td>1152586</td>\n      <td>176245</td>\n      <td>6689354</td>\n    </tr>\n    <tr>\n      <th>2</th>\n      <td>MY_02</td>\n      <td>02</td>\n      <td>Kedah</td>\n      <td>2022-01-24</td>\n      <td>Malaysia</td>\n      <td>395</td>\n      <td>174374</td>\n      <td>8098</td>\n      <td>1321133</td>\n      <td>02</td>\n      <td>...</td>\n      <td>2174</td>\n      <td>02</td>\n      <td>Kedah</td>\n      <td>Malaysia</td>\n      <td>74</td>\n      <td>1596945</td>\n      <td>257</td>\n      <td>1577276</td>\n      <td>8236</td>\n      <td>3714419</td>\n    </tr>\n    <tr>\n      <th>3</th>\n      <td>US_DE</td>\n      <td>DE</td>\n      <td>Delaware</td>\n      <td>2021-11-04</td>\n      <td>United States of America</td>\n      <td>276</td>\n      <td>145284</td>\n      <td>1121</td>\n      <td>433596</td>\n      <td>DE</td>\n      <td>...</td>\n      <td>1970</td>\n      <td>DE</td>\n      <td>Delaware</td>\n      <td>United States of America</td>\n      <td>282</td>\n      <td>676753</td>\n      <td>119</td>\n      <td>585615</td>\n      <td>190</td>\n      <td>1323940</td>\n    </tr>\n    <tr>\n      <th>4</th>\n      <td>FR_PAC</td>\n      <td>PAC</td>\n      <td>Provence-Alpes-Côte d'Azur</td>\n      <td>2021-11-05</td>\n      <td>France</td>\n      <td>865</td>\n      <td>757955</td>\n      <td>37314</td>\n      <td>16882909</td>\n      <td>PAC</td>\n      <td>...</td>\n      <td>8965</td>\n      <td>PAC</td>\n      <td>Provence-Alpes-Côte d'Azur</td>\n      <td>France</td>\n      <td>2486</td>\n      <td>3635163</td>\n      <td>3321</td>\n      <td>3526206</td>\n      <td>5807</td>\n      <td>7161369</td>\n    </tr>\n    <tr>\n      <th>...</th>\n      <td>...</td>\n      <td>...</td>\n      <td>...</td>\n      <td>...</td>\n      <td>...</td>\n      <td>...</td>\n      <td>...</td>\n      <td>...</td>\n      <td>...</td>\n      <td>...</td>\n      <td>...</td>\n      <td>...</td>\n      <td>...</td>\n      <td>...</td>\n      <td>...</td>\n      <td>...</td>\n      <td>...</td>\n      <td>...</td>\n      <td>...</td>\n      <td>...</td>\n      <td>...</td>\n    </tr>\n    <tr>\n      <th>350782</th>\n      <td>IN_WB</td>\n      <td>WB</td>\n      <td>West Bengal</td>\n      <td>2021-03-05</td>\n      <td>India</td>\n      <td>255</td>\n      <td>576176</td>\n      <td>20851</td>\n      <td>8658929</td>\n      <td>WB</td>\n      <td>...</td>\n      <td>10275</td>\n      <td>WB</td>\n      <td>West Bengal</td>\n      <td>India</td>\n      <td>88226</td>\n      <td>1253831</td>\n      <td>22281</td>\n      <td>233229</td>\n      <td>110507</td>\n      <td>1487060</td>\n    </tr>\n    <tr>\n      <th>350783</th>\n      <td>IN_WB</td>\n      <td>WB</td>\n      <td>West Bengal</td>\n      <td>2021-08-27</td>\n      <td>India</td>\n      <td>703</td>\n      <td>1546237</td>\n      <td>43448</td>\n      <td>16858265</td>\n      <td>WB</td>\n      <td>...</td>\n      <td>18410</td>\n      <td>WB</td>\n      <td>West Bengal</td>\n      <td>India</td>\n      <td>350670</td>\n      <td>27755795</td>\n      <td>214649</td>\n      <td>10876093</td>\n      <td>565319</td>\n      <td>38631888</td>\n    </tr>\n    <tr>\n      <th>350784</th>\n      <td>IN_WB</td>\n      <td>WB</td>\n      <td>West Bengal</td>\n      <td>2021-06-18</td>\n      <td>India</td>\n      <td>2788</td>\n      <td>1477037</td>\n      <td>55367</td>\n      <td>13578748</td>\n      <td>WB</td>\n      <td>...</td>\n      <td>17240</td>\n      <td>WB</td>\n      <td>West Bengal</td>\n      <td>India</td>\n      <td>166235</td>\n      <td>14422580</td>\n      <td>41120</td>\n      <td>4188380</td>\n      <td>207355</td>\n      <td>18610960</td>\n    </tr>\n    <tr>\n      <th>350785</th>\n      <td>IN_WB</td>\n      <td>WB</td>\n      <td>West Bengal</td>\n      <td>2021-06-03</td>\n      <td>India</td>\n      <td>8811</td>\n      <td>1403535</td>\n      <td>74568</td>\n      <td>12645747</td>\n      <td>WB</td>\n      <td>...</td>\n      <td>15921</td>\n      <td>WB</td>\n      <td>West Bengal</td>\n      <td>India</td>\n      <td>233060</td>\n      <td>11511500</td>\n      <td>12512</td>\n      <td>3915428</td>\n      <td>245572</td>\n      <td>15426928</td>\n    </tr>\n    <tr>\n      <th>350786</th>\n      <td>IN_WB</td>\n      <td>WB</td>\n      <td>West Bengal</td>\n      <td>2021-07-01</td>\n      <td>India</td>\n      <td>1501</td>\n      <td>1501284</td>\n      <td>54741</td>\n      <td>14272933</td>\n      <td>WB</td>\n      <td>...</td>\n      <td>17735</td>\n      <td>WB</td>\n      <td>West Bengal</td>\n      <td>India</td>\n      <td>66911</td>\n      <td>16900326</td>\n      <td>52872</td>\n      <td>5109791</td>\n      <td>119783</td>\n      <td>22010117</td>\n    </tr>\n  </tbody>\n</table>\n<p>350787 rows × 23 columns</p>\n</div>"
     },
     "execution_count": 19,
     "metadata": {},
     "output_type": "execute_result"
    }
   ],
   "execution_count": 19
  },
  {
   "metadata": {
    "ExecuteTime": {
     "end_time": "2025-04-05T15:37:09.250588Z",
     "start_time": "2025-04-05T15:37:07.432372500Z"
    }
   },
   "cell_type": "code",
   "source": [
    "world_countries = pd.read_csv(\"world_countries.csv\")\n",
    "world_countries = world_countries.rename(columns={\"CCA3\": \"iso_3166_1_alpha_3\", \"Country/Territories\": \"country_name\", \"Area (km²)\": \"area_sq_km\", \"Density (per km²)\": \"population_density\"})\n",
    "\n",
    "gdp = pd.read_csv(\"GDP.csv\")\n",
    "gdp = gdp.rename(columns={\"Country Code\": \"iso_3166_1_alpha_3\", \"Country Name\": \"country_name\", \"Value\": \"gdp_usd\", \"Year\":\"year\"})\n",
    "df1[\"year\"] = pd.to_datetime(merged_df[\"date\"]).dt.year\n",
    "merged_df2 = df1.merge(world_countries, on=\"iso_3166_1_alpha_3\", how=\"inner\")\n",
    "merged_df2 = merged_df2.merge(df5, on=['country_name'])\n",
    "pivot_gdp = gdp.pivot(index='country_name', columns='year', values='gdp_usd')\n",
    "pivot_gdp.columns = ['gdp_' + str(column) for column in pivot_gdp.columns]\n",
    "merged_df2 = merged_df2.merge(pivot_gdp, on=\"country_name\", how=\"inner\")\n",
    "merged_df2.to_csv(\"countries_combined_data.csv\", index=False)\n",
    "merged_df2\n"
   ],
   "id": "5c62694b4e205431",
   "outputs": [
    {
     "data": {
      "text/plain": "    location_key_x subregion1_code_x subregion1_name_x country_code  \\\n0               BW              None              None           BW   \n1               EC              None              None           EC   \n2               GQ              None              None           GQ   \n3               GY              None              None           GY   \n4               IT              None              None           IT   \n..             ...               ...               ...          ...   \n132             MX              None              None           MX   \n133             MZ              None              None           MZ   \n134             PH              None              None           PH   \n135             VN              None              None           VN   \n136             ZM              None              None           ZM   \n\n          country_name iso_3166_1_alpha_2 iso_3166_1_alpha_3  population  \\\n0             Botswana                 BW                BWA     2351625   \n1              Ecuador                 EC                ECU    17643060   \n2    Equatorial Guinea                 GQ                GNQ     1402985   \n3               Guyana                 GY                GUY      786559   \n4                Italy                 IT                ITA    60359546   \n..                 ...                ...                ...         ...   \n132             Mexico                 MX                MEX   110991953   \n133         Mozambique                 MZ                MOZ    31255435   \n134        Philippines                 PH                PHL   100979303   \n135            Vietnam                 VN                VNM    97338583   \n136             Zambia                 ZM                ZMB    18383956   \n\n     population_male  population_female  ...      gdp_2007      gdp_2008  \\\n0            1139099            1212526  ...  1.093905e+10  1.094507e+10   \n1            8823827            8819233  ...  5.100778e+10  6.176264e+10   \n2             780380             622605  ...  1.307172e+10  1.974989e+10   \n3             395549             391010  ...  1.740335e+09  1.922598e+09   \n4           29384766           30974780  ...  2.203053e+12  2.390729e+12   \n..               ...                ...  ...           ...           ...   \n132         54855231           57481307  ...  1.043471e+12  1.101275e+12   \n133         15188235           16067200  ...  9.366742e+09  1.149484e+10   \n134         51069962           49909341  ...  1.493599e+11  1.741951e+11   \n135         48598254           48740329  ...  7.741443e+10  9.913030e+10   \n136          9103006            9280950  ...  1.405696e+10  1.791086e+10   \n\n         gdp_2009      gdp_2010      gdp_2011      gdp_2012      gdp_2013  \\\n0    1.026713e+10  1.278665e+10  1.568293e+10  1.468628e+10  1.491578e+10   \n1    6.251969e+10  6.955537e+10  7.927666e+10  8.792454e+10  9.512966e+10   \n2    1.502780e+10  1.629854e+10  2.132940e+10  2.238963e+10  2.194260e+10   \n3    2.061324e+09  2.273225e+09  2.576024e+09  2.861562e+09  2.987684e+09   \n4    2.185160e+12  2.125058e+12  2.276292e+12  2.072823e+12  2.130491e+12   \n..            ...           ...           ...           ...           ...   \n132  8.949487e+11  1.051129e+12  1.171188e+12  1.186598e+12  1.261982e+12   \n133  1.091170e+10  1.015424e+10  1.313117e+10  1.453428e+10  1.601885e+10   \n134  1.683346e+11  1.995908e+11  2.241431e+11  2.500921e+11  2.718361e+11   \n135  1.060147e+11  1.159317e+11  1.355394e+11  1.558200e+11  1.712220e+11   \n136  1.532834e+10  2.026556e+10  2.346010e+10  2.550337e+10  2.804546e+10   \n\n         gdp_2014      gdp_2015      gdp_2016  \n0    1.625945e+10  1.443057e+10  1.558114e+10  \n1    1.017263e+11  9.929038e+10  9.861397e+10  \n2    2.173650e+10  1.259721e+10  1.068480e+10  \n3    3.077643e+09  3.197225e+09  3.502397e+09  \n4    2.151733e+12  1.832347e+12  1.858913e+12  \n..            ...           ...           ...  \n132  1.298461e+12  1.152264e+12  1.046923e+12  \n133  1.696113e+10  1.479844e+10  1.101486e+10  \n134  2.845845e+11  2.927741e+11  3.049054e+11  \n135  1.862047e+11  1.932411e+11  2.052762e+11  \n136  2.715063e+10  2.115439e+10  2.106399e+10  \n\n[137 rows x 98 columns]",
      "text/html": "<div>\n<style scoped>\n    .dataframe tbody tr th:only-of-type {\n        vertical-align: middle;\n    }\n\n    .dataframe tbody tr th {\n        vertical-align: top;\n    }\n\n    .dataframe thead th {\n        text-align: right;\n    }\n</style>\n<table border=\"1\" class=\"dataframe\">\n  <thead>\n    <tr style=\"text-align: right;\">\n      <th></th>\n      <th>location_key_x</th>\n      <th>subregion1_code_x</th>\n      <th>subregion1_name_x</th>\n      <th>country_code</th>\n      <th>country_name</th>\n      <th>iso_3166_1_alpha_2</th>\n      <th>iso_3166_1_alpha_3</th>\n      <th>population</th>\n      <th>population_male</th>\n      <th>population_female</th>\n      <th>...</th>\n      <th>gdp_2007</th>\n      <th>gdp_2008</th>\n      <th>gdp_2009</th>\n      <th>gdp_2010</th>\n      <th>gdp_2011</th>\n      <th>gdp_2012</th>\n      <th>gdp_2013</th>\n      <th>gdp_2014</th>\n      <th>gdp_2015</th>\n      <th>gdp_2016</th>\n    </tr>\n  </thead>\n  <tbody>\n    <tr>\n      <th>0</th>\n      <td>BW</td>\n      <td>None</td>\n      <td>None</td>\n      <td>BW</td>\n      <td>Botswana</td>\n      <td>BW</td>\n      <td>BWA</td>\n      <td>2351625</td>\n      <td>1139099</td>\n      <td>1212526</td>\n      <td>...</td>\n      <td>1.093905e+10</td>\n      <td>1.094507e+10</td>\n      <td>1.026713e+10</td>\n      <td>1.278665e+10</td>\n      <td>1.568293e+10</td>\n      <td>1.468628e+10</td>\n      <td>1.491578e+10</td>\n      <td>1.625945e+10</td>\n      <td>1.443057e+10</td>\n      <td>1.558114e+10</td>\n    </tr>\n    <tr>\n      <th>1</th>\n      <td>EC</td>\n      <td>None</td>\n      <td>None</td>\n      <td>EC</td>\n      <td>Ecuador</td>\n      <td>EC</td>\n      <td>ECU</td>\n      <td>17643060</td>\n      <td>8823827</td>\n      <td>8819233</td>\n      <td>...</td>\n      <td>5.100778e+10</td>\n      <td>6.176264e+10</td>\n      <td>6.251969e+10</td>\n      <td>6.955537e+10</td>\n      <td>7.927666e+10</td>\n      <td>8.792454e+10</td>\n      <td>9.512966e+10</td>\n      <td>1.017263e+11</td>\n      <td>9.929038e+10</td>\n      <td>9.861397e+10</td>\n    </tr>\n    <tr>\n      <th>2</th>\n      <td>GQ</td>\n      <td>None</td>\n      <td>None</td>\n      <td>GQ</td>\n      <td>Equatorial Guinea</td>\n      <td>GQ</td>\n      <td>GNQ</td>\n      <td>1402985</td>\n      <td>780380</td>\n      <td>622605</td>\n      <td>...</td>\n      <td>1.307172e+10</td>\n      <td>1.974989e+10</td>\n      <td>1.502780e+10</td>\n      <td>1.629854e+10</td>\n      <td>2.132940e+10</td>\n      <td>2.238963e+10</td>\n      <td>2.194260e+10</td>\n      <td>2.173650e+10</td>\n      <td>1.259721e+10</td>\n      <td>1.068480e+10</td>\n    </tr>\n    <tr>\n      <th>3</th>\n      <td>GY</td>\n      <td>None</td>\n      <td>None</td>\n      <td>GY</td>\n      <td>Guyana</td>\n      <td>GY</td>\n      <td>GUY</td>\n      <td>786559</td>\n      <td>395549</td>\n      <td>391010</td>\n      <td>...</td>\n      <td>1.740335e+09</td>\n      <td>1.922598e+09</td>\n      <td>2.061324e+09</td>\n      <td>2.273225e+09</td>\n      <td>2.576024e+09</td>\n      <td>2.861562e+09</td>\n      <td>2.987684e+09</td>\n      <td>3.077643e+09</td>\n      <td>3.197225e+09</td>\n      <td>3.502397e+09</td>\n    </tr>\n    <tr>\n      <th>4</th>\n      <td>IT</td>\n      <td>None</td>\n      <td>None</td>\n      <td>IT</td>\n      <td>Italy</td>\n      <td>IT</td>\n      <td>ITA</td>\n      <td>60359546</td>\n      <td>29384766</td>\n      <td>30974780</td>\n      <td>...</td>\n      <td>2.203053e+12</td>\n      <td>2.390729e+12</td>\n      <td>2.185160e+12</td>\n      <td>2.125058e+12</td>\n      <td>2.276292e+12</td>\n      <td>2.072823e+12</td>\n      <td>2.130491e+12</td>\n      <td>2.151733e+12</td>\n      <td>1.832347e+12</td>\n      <td>1.858913e+12</td>\n    </tr>\n    <tr>\n      <th>...</th>\n      <td>...</td>\n      <td>...</td>\n      <td>...</td>\n      <td>...</td>\n      <td>...</td>\n      <td>...</td>\n      <td>...</td>\n      <td>...</td>\n      <td>...</td>\n      <td>...</td>\n      <td>...</td>\n      <td>...</td>\n      <td>...</td>\n      <td>...</td>\n      <td>...</td>\n      <td>...</td>\n      <td>...</td>\n      <td>...</td>\n      <td>...</td>\n      <td>...</td>\n      <td>...</td>\n    </tr>\n    <tr>\n      <th>132</th>\n      <td>MX</td>\n      <td>None</td>\n      <td>None</td>\n      <td>MX</td>\n      <td>Mexico</td>\n      <td>MX</td>\n      <td>MEX</td>\n      <td>110991953</td>\n      <td>54855231</td>\n      <td>57481307</td>\n      <td>...</td>\n      <td>1.043471e+12</td>\n      <td>1.101275e+12</td>\n      <td>8.949487e+11</td>\n      <td>1.051129e+12</td>\n      <td>1.171188e+12</td>\n      <td>1.186598e+12</td>\n      <td>1.261982e+12</td>\n      <td>1.298461e+12</td>\n      <td>1.152264e+12</td>\n      <td>1.046923e+12</td>\n    </tr>\n    <tr>\n      <th>133</th>\n      <td>MZ</td>\n      <td>None</td>\n      <td>None</td>\n      <td>MZ</td>\n      <td>Mozambique</td>\n      <td>MZ</td>\n      <td>MOZ</td>\n      <td>31255435</td>\n      <td>15188235</td>\n      <td>16067200</td>\n      <td>...</td>\n      <td>9.366742e+09</td>\n      <td>1.149484e+10</td>\n      <td>1.091170e+10</td>\n      <td>1.015424e+10</td>\n      <td>1.313117e+10</td>\n      <td>1.453428e+10</td>\n      <td>1.601885e+10</td>\n      <td>1.696113e+10</td>\n      <td>1.479844e+10</td>\n      <td>1.101486e+10</td>\n    </tr>\n    <tr>\n      <th>134</th>\n      <td>PH</td>\n      <td>None</td>\n      <td>None</td>\n      <td>PH</td>\n      <td>Philippines</td>\n      <td>PH</td>\n      <td>PHL</td>\n      <td>100979303</td>\n      <td>51069962</td>\n      <td>49909341</td>\n      <td>...</td>\n      <td>1.493599e+11</td>\n      <td>1.741951e+11</td>\n      <td>1.683346e+11</td>\n      <td>1.995908e+11</td>\n      <td>2.241431e+11</td>\n      <td>2.500921e+11</td>\n      <td>2.718361e+11</td>\n      <td>2.845845e+11</td>\n      <td>2.927741e+11</td>\n      <td>3.049054e+11</td>\n    </tr>\n    <tr>\n      <th>135</th>\n      <td>VN</td>\n      <td>None</td>\n      <td>None</td>\n      <td>VN</td>\n      <td>Vietnam</td>\n      <td>VN</td>\n      <td>VNM</td>\n      <td>97338583</td>\n      <td>48598254</td>\n      <td>48740329</td>\n      <td>...</td>\n      <td>7.741443e+10</td>\n      <td>9.913030e+10</td>\n      <td>1.060147e+11</td>\n      <td>1.159317e+11</td>\n      <td>1.355394e+11</td>\n      <td>1.558200e+11</td>\n      <td>1.712220e+11</td>\n      <td>1.862047e+11</td>\n      <td>1.932411e+11</td>\n      <td>2.052762e+11</td>\n    </tr>\n    <tr>\n      <th>136</th>\n      <td>ZM</td>\n      <td>None</td>\n      <td>None</td>\n      <td>ZM</td>\n      <td>Zambia</td>\n      <td>ZM</td>\n      <td>ZMB</td>\n      <td>18383956</td>\n      <td>9103006</td>\n      <td>9280950</td>\n      <td>...</td>\n      <td>1.405696e+10</td>\n      <td>1.791086e+10</td>\n      <td>1.532834e+10</td>\n      <td>2.026556e+10</td>\n      <td>2.346010e+10</td>\n      <td>2.550337e+10</td>\n      <td>2.804546e+10</td>\n      <td>2.715063e+10</td>\n      <td>2.115439e+10</td>\n      <td>2.106399e+10</td>\n    </tr>\n  </tbody>\n</table>\n<p>137 rows × 98 columns</p>\n</div>"
     },
     "execution_count": 20,
     "metadata": {},
     "output_type": "execute_result"
    }
   ],
   "execution_count": 20
  }
 ],
 "metadata": {
  "kernelspec": {
   "display_name": "Python 3",
   "language": "python",
   "name": "python3"
  },
  "language_info": {
   "codemirror_mode": {
    "name": "ipython",
    "version": 2
   },
   "file_extension": ".py",
   "mimetype": "text/x-python",
   "name": "python",
   "nbconvert_exporter": "python",
   "pygments_lexer": "ipython2",
   "version": "2.7.6"
  }
 },
 "nbformat": 4,
 "nbformat_minor": 5
}
